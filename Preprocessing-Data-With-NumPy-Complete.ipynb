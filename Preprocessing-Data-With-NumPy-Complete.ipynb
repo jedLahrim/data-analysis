{
 "cells": [
  {
   "cell_type": "markdown",
   "metadata": {},
   "source": [
    "# Preprocessing with NumPy"
   ]
  },
  {
   "cell_type": "code",
   "metadata": {
    "ExecuteTime": {
     "end_time": "2024-08-09T20:56:05.208237Z",
     "start_time": "2024-08-09T20:56:04.982530Z"
    }
   },
   "source": [
    "import numpy as np"
   ],
   "outputs": [],
   "execution_count": 1
  },
  {
   "cell_type": "markdown",
   "metadata": {},
   "source": [
    "## Checking for Missing Values"
   ]
  },
  {
   "metadata": {},
   "cell_type": "markdown",
   "source": ""
  },
  {
   "cell_type": "code",
   "metadata": {
    "ExecuteTime": {
     "end_time": "2024-08-09T20:56:05.212063Z",
     "start_time": "2024-08-09T20:56:05.209408Z"
    }
   },
   "source": [
    "lending_co_data_numeric = np.loadtxt(\"files/Lending-Company-Numeric-Data.csv\", delimiter = ',')\n",
    "\n",
    "## If np.loadtxt() compiles first time, the dataset consists of only numeric values and has no missing data. "
   ],
   "outputs": [],
   "execution_count": 2
  },
  {
   "metadata": {},
   "cell_type": "markdown",
   "source": ""
  },
  {
   "cell_type": "code",
   "metadata": {
    "ExecuteTime": {
     "end_time": "2024-08-09T20:56:05.216679Z",
     "start_time": "2024-08-09T20:56:05.212713Z"
    }
   },
   "source": [
    "np.isnan(lending_co_data_numeric).sum()\n",
    "\n",
    "## isnan() determines whether data is missing data for the individual elements in an array (True -> Missing, False -> Not missing)\n",
    "## By adding .sum(), we get the total number of missing elements in the data. "
   ],
   "outputs": [
    {
     "data": {
      "text/plain": [
       "0"
      ]
     },
     "execution_count": 3,
     "metadata": {},
     "output_type": "execute_result"
    }
   ],
   "execution_count": 3
  },
  {
   "cell_type": "code",
   "metadata": {
    "ExecuteTime": {
     "end_time": "2024-08-09T20:56:05.222914Z",
     "start_time": "2024-08-09T20:56:05.217972Z"
    }
   },
   "source": "lending_co_data_numeric_NAN = np.genfromtxt(\"files/Lending-Company-Numeric-Data-NAN.csv\", delimiter = ';')",
   "outputs": [],
   "execution_count": 4
  },
  {
   "cell_type": "code",
   "metadata": {
    "ExecuteTime": {
     "end_time": "2024-08-09T20:56:05.236658Z",
     "start_time": "2024-08-09T20:56:05.234032Z"
    }
   },
   "source": "np.isnan(lending_co_data_numeric_NAN).sum()",
   "outputs": [
    {
     "data": {
      "text/plain": [
       "260"
      ]
     },
     "execution_count": 5,
     "metadata": {},
     "output_type": "execute_result"
    }
   ],
   "execution_count": 5
  },
  {
   "cell_type": "code",
   "metadata": {
    "ExecuteTime": {
     "end_time": "2024-08-09T20:56:05.308738Z",
     "start_time": "2024-08-09T20:56:05.302052Z"
    }
   },
   "source": [
    "lending_co_data_numeric_NAN = np.genfromtxt(\"files/Lending-Company-Numeric-Data-NAN.csv\", \n",
    "                                            delimiter = ';',\n",
    "                                            filling_values = 0)\n",
    "\n",
    "## Filling_values substitutes every nan with the value we're passing (0 in this case)"
   ],
   "outputs": [],
   "execution_count": 6
  },
  {
   "cell_type": "code",
   "metadata": {
    "ExecuteTime": {
     "end_time": "2024-08-09T20:56:05.457228Z",
     "start_time": "2024-08-09T20:56:05.453899Z"
    }
   },
   "source": [
    "np.isnan(lending_co_data_numeric_NAN).sum()\n",
    "\n",
    "## All the previously missing values are now 0s."
   ],
   "outputs": [
    {
     "data": {
      "text/plain": [
       "0"
      ]
     },
     "execution_count": 7,
     "metadata": {},
     "output_type": "execute_result"
    }
   ],
   "execution_count": 7
  },
  {
   "cell_type": "code",
   "metadata": {
    "ExecuteTime": {
     "end_time": "2024-08-09T20:56:05.504919Z",
     "start_time": "2024-08-09T20:56:05.498776Z"
    }
   },
   "source": [
    "lending_co_data_numeric_NAN = np.genfromtxt(\"files/Lending-Company-Numeric-Data-NAN.csv\", \n",
    "                                            delimiter = ';') \n",
    "\n",
    "# We need to reimport the dataset since all the missing values are filled up. "
   ],
   "outputs": [],
   "execution_count": 8
  },
  {
   "cell_type": "code",
   "metadata": {
    "ExecuteTime": {
     "end_time": "2024-08-09T20:56:05.628043Z",
     "start_time": "2024-08-09T20:56:05.625104Z"
    }
   },
   "source": [
    "temporary_fill = np.nanmax(lending_co_data_numeric_NAN).round(2) + 1\n",
    "\n",
    "# We use nanmax(), since max() returns nan. \n",
    "# We want a value greater than the max, since we have be certain it's unique to the dataset."
   ],
   "outputs": [],
   "execution_count": 9
  },
  {
   "cell_type": "code",
   "metadata": {
    "ExecuteTime": {
     "end_time": "2024-08-09T20:56:05.670363Z",
     "start_time": "2024-08-09T20:56:05.666833Z"
    }
   },
   "source": [
    "temporary_fill"
   ],
   "outputs": [
    {
     "data": {
      "text/plain": [
       "64002.0"
      ]
     },
     "execution_count": 10,
     "metadata": {},
     "output_type": "execute_result"
    }
   ],
   "execution_count": 10
  },
  {
   "cell_type": "code",
   "metadata": {
    "ExecuteTime": {
     "end_time": "2024-08-09T20:56:05.774353Z",
     "start_time": "2024-08-09T20:56:05.769067Z"
    }
   },
   "source": [
    "lending_co_data_numeric_NAN = np.genfromtxt(\"files/Lending-Company-Numeric-Data-NAN.csv\", \n",
    "                                            delimiter = ';',\n",
    "                                            filling_values = temporary_fill) \n",
    "\n",
    "# Filling up all the missing values with the temporary filler. "
   ],
   "outputs": [],
   "execution_count": 11
  },
  {
   "cell_type": "code",
   "metadata": {
    "ExecuteTime": {
     "end_time": "2024-08-09T20:56:05.817752Z",
     "start_time": "2024-08-09T20:56:05.814617Z"
    }
   },
   "source": "np.isnan(lending_co_data_numeric_NAN).sum()",
   "outputs": [
    {
     "data": {
      "text/plain": [
       "0"
      ]
     },
     "execution_count": 12,
     "metadata": {},
     "output_type": "execute_result"
    }
   ],
   "execution_count": 12
  },
  {
   "cell_type": "code",
   "metadata": {
    "ExecuteTime": {
     "end_time": "2024-08-09T20:56:05.925044Z",
     "start_time": "2024-08-09T20:56:05.922061Z"
    }
   },
   "source": [
    "np.isnan(lending_co_data_numeric_NAN).sum()"
   ],
   "outputs": [
    {
     "data": {
      "text/plain": [
       "0"
      ]
     },
     "execution_count": 13,
     "metadata": {},
     "output_type": "execute_result"
    }
   ],
   "execution_count": 13
  },
  {
   "cell_type": "markdown",
   "metadata": {},
   "source": [
    "## Substituting Missing Values"
   ]
  },
  {
   "cell_type": "code",
   "metadata": {
    "ExecuteTime": {
     "end_time": "2024-08-09T20:56:05.953777Z",
     "start_time": "2024-08-09T20:56:05.947485Z"
    }
   },
   "source": [
    "lending_co_data_numeric_NAN = np.genfromtxt(\"files/Lending-Company-Numeric-Data-NAN.csv\", delimiter = ';')\n",
    "lending_co_data_numeric_NAN"
   ],
   "outputs": [
    {
     "data": {
      "text/plain": [
       "array([[ 2000.,    40.,   365.,  3121.,  4241., 13621.],\n",
       "       [ 2000.,    40.,   365.,  3061.,  4171., 15041.],\n",
       "       [ 1000.,    40.,   365.,  2160.,  3280., 15340.],\n",
       "       ...,\n",
       "       [   nan,    40.,   365.,  4201.,  5001., 16600.],\n",
       "       [ 1000.,    40.,   365.,  2080.,  3320., 15600.],\n",
       "       [ 2000.,    40.,   365.,  4601.,  4601., 16600.]])"
      ]
     },
     "execution_count": 14,
     "metadata": {},
     "output_type": "execute_result"
    }
   ],
   "execution_count": 14
  },
  {
   "cell_type": "code",
   "metadata": {
    "ExecuteTime": {
     "end_time": "2024-08-09T20:56:06.041323Z",
     "start_time": "2024-08-09T20:56:06.038118Z"
    }
   },
   "source": [
    "temporary_mean = np.nanmean(lending_co_data_numeric_NAN, axis = 0).round(2)\n",
    "\n",
    "## Storing the means of every column. "
   ],
   "outputs": [],
   "execution_count": 15
  },
  {
   "cell_type": "code",
   "metadata": {
    "ExecuteTime": {
     "end_time": "2024-08-09T20:56:06.147646Z",
     "start_time": "2024-08-09T20:56:06.143147Z"
    }
   },
   "source": "temporary_mean[0]",
   "outputs": [
    {
     "data": {
      "text/plain": [
       "2250.25"
      ]
     },
     "execution_count": 16,
     "metadata": {},
     "output_type": "execute_result"
    }
   ],
   "execution_count": 16
  },
  {
   "cell_type": "code",
   "metadata": {
    "ExecuteTime": {
     "end_time": "2024-08-09T20:56:06.236771Z",
     "start_time": "2024-08-09T20:56:06.231486Z"
    }
   },
   "source": [
    "temporary_fill = np.nanmax(lending_co_data_numeric_NAN).round(2) + 1\n",
    "\n",
    "lending_co_data_numeric_NAN = np.genfromtxt(\"files/Lending-Company-Numeric-Data-NAN.csv\",\n",
    "                                            delimiter = ';',\n",
    "                                            filling_values = temporary_fill)\n",
    "\n",
    "## Creating a unique filler and using it to take care of all the missing values."
   ],
   "outputs": [],
   "execution_count": 17
  },
  {
   "cell_type": "code",
   "metadata": {
    "ExecuteTime": {
     "end_time": "2024-08-09T20:56:06.268327Z",
     "start_time": "2024-08-09T20:56:06.265744Z"
    }
   },
   "source": [
    "temporary_fill"
   ],
   "outputs": [
    {
     "data": {
      "text/plain": [
       "64002.0"
      ]
     },
     "execution_count": 18,
     "metadata": {},
     "output_type": "execute_result"
    }
   ],
   "execution_count": 18
  },
  {
   "metadata": {
    "ExecuteTime": {
     "end_time": "2024-08-09T20:56:06.349700Z",
     "start_time": "2024-08-09T20:56:06.348143Z"
    }
   },
   "cell_type": "code",
   "source": "",
   "outputs": [],
   "execution_count": 18
  },
  {
   "cell_type": "code",
   "metadata": {
    "ExecuteTime": {
     "end_time": "2024-08-09T20:56:06.384255Z",
     "start_time": "2024-08-09T20:56:06.381038Z"
    }
   },
   "source": [
    "np.mean(lending_co_data_numeric_NAN[:,0]).round(2) \n",
    "\n",
    "# Supposed mean (w/ fillers)"
   ],
   "outputs": [
    {
     "data": {
      "text/plain": [
       "4263.25"
      ]
     },
     "execution_count": 19,
     "metadata": {},
     "output_type": "execute_result"
    }
   ],
   "execution_count": 19
  },
  {
   "cell_type": "code",
   "metadata": {
    "ExecuteTime": {
     "end_time": "2024-08-09T20:56:06.449248Z",
     "start_time": "2024-08-09T20:56:06.446910Z"
    }
   },
   "source": [
    "temporary_mean[0]\n",
    "\n",
    "# Actual mean (w/0 fillers)"
   ],
   "outputs": [
    {
     "data": {
      "text/plain": [
       "2250.25"
      ]
     },
     "execution_count": 20,
     "metadata": {},
     "output_type": "execute_result"
    }
   ],
   "execution_count": 20
  },
  {
   "cell_type": "code",
   "metadata": {
    "ExecuteTime": {
     "end_time": "2024-08-09T20:56:06.489659Z",
     "start_time": "2024-08-09T20:56:06.487261Z"
    }
   },
   "source": [
    "lending_co_data_numeric_NAN[:,0] = np.where(lending_co_data_numeric_NAN[:,0] == temporary_fill,\n",
    "                                            temporary_mean[0], \n",
    "                                            lending_co_data_numeric_NAN[:,0])\n",
    "\n",
    "# Going through the first column and substituting any temporary fillers (previously missing) with the mean for that column."
   ],
   "outputs": [],
   "execution_count": 21
  },
  {
   "cell_type": "code",
   "metadata": {
    "ExecuteTime": {
     "end_time": "2024-08-09T20:56:06.602028Z",
     "start_time": "2024-08-09T20:56:06.597620Z"
    }
   },
   "source": [
    "np.mean(lending_co_data_numeric_NAN[:,0]).round(2)\n",
    "\n",
    "# New mean equals old mean. "
   ],
   "outputs": [
    {
     "data": {
      "text/plain": [
       "2250.25"
      ]
     },
     "execution_count": 22,
     "metadata": {},
     "output_type": "execute_result"
    }
   ],
   "execution_count": 22
  },
  {
   "cell_type": "code",
   "metadata": {
    "ExecuteTime": {
     "end_time": "2024-08-09T20:56:06.647594Z",
     "start_time": "2024-08-09T20:56:06.644926Z"
    }
   },
   "source": [
    "for i in range(lending_co_data_numeric_NAN.shape[1]):        \n",
    "    lending_co_data_numeric_NAN[:,i] = np.where(lending_co_data_numeric_NAN[:,i] == temporary_fill, \n",
    "                                                temporary_mean[i], \n",
    "                                                lending_co_data_numeric_NAN[:,i])\n",
    "    \n",
    "# We're generalizing the filling from earlier and going through all the columns. "
   ],
   "outputs": [],
   "execution_count": 23
  },
  {
   "cell_type": "code",
   "metadata": {
    "ExecuteTime": {
     "end_time": "2024-08-09T20:56:06.721230Z",
     "start_time": "2024-08-09T20:56:06.718537Z"
    }
   },
   "source": [
    "for i in range(lending_co_data_numeric_NAN.shape[1]):        \n",
    "    lending_co_data_numeric_NAN[:,i] = np.where(lending_co_data_numeric_NAN[:, i] < 0,\n",
    "                                                0, \n",
    "                                                lending_co_data_numeric_NAN[:,i])\n",
    "    \n",
    "# We can use this approach for other applications as well (e.g. remove all negative values and set them to 0)"
   ],
   "outputs": [],
   "execution_count": 24
  },
  {
   "cell_type": "markdown",
   "metadata": {},
   "source": [
    "## Reshaping"
   ]
  },
  {
   "cell_type": "code",
   "metadata": {
    "ExecuteTime": {
     "end_time": "2024-08-09T20:56:06.744877Z",
     "start_time": "2024-08-09T20:56:06.741788Z"
    }
   },
   "source": "lending_co_data_numeric = np.loadtxt(\"files/Lending-Company-Numeric-Data.csv\", delimiter = ',')",
   "outputs": [],
   "execution_count": 25
  },
  {
   "cell_type": "code",
   "metadata": {
    "ExecuteTime": {
     "end_time": "2024-08-09T20:56:06.783895Z",
     "start_time": "2024-08-09T20:56:06.781435Z"
    }
   },
   "source": [
    "lending_co_data_numeric"
   ],
   "outputs": [
    {
     "data": {
      "text/plain": [
       "array([[ 2000.,    40.,   365.,  3121.,  4241., 13621.],\n",
       "       [ 2000.,    40.,   365.,  3061.,  4171., 15041.],\n",
       "       [ 1000.,    40.,   365.,  2160.,  3280., 15340.],\n",
       "       ...,\n",
       "       [ 2000.,    40.,   365.,  4201.,  5001., 16600.],\n",
       "       [ 1000.,    40.,   365.,  2080.,  3320., 15600.],\n",
       "       [ 2000.,    40.,   365.,  4601.,  4601., 16600.]])"
      ]
     },
     "execution_count": 26,
     "metadata": {},
     "output_type": "execute_result"
    }
   ],
   "execution_count": 26
  },
  {
   "cell_type": "code",
   "metadata": {
    "ExecuteTime": {
     "end_time": "2024-08-09T20:56:06.844007Z",
     "start_time": "2024-08-09T20:56:06.841310Z"
    }
   },
   "source": [
    "lending_co_data_numeric.shape"
   ],
   "outputs": [
    {
     "data": {
      "text/plain": [
       "(1043, 6)"
      ]
     },
     "execution_count": 27,
     "metadata": {},
     "output_type": "execute_result"
    }
   ],
   "execution_count": 27
  },
  {
   "cell_type": "code",
   "metadata": {
    "scrolled": true,
    "ExecuteTime": {
     "end_time": "2024-08-09T20:56:06.890718Z",
     "start_time": "2024-08-09T20:56:06.887984Z"
    }
   },
   "source": [
    "np.reshape(lending_co_data_numeric, (6,1043))\n",
    "\n",
    "# Reshaping (1043,6) to (6,1043) is not the same as transposing."
   ],
   "outputs": [
    {
     "data": {
      "text/plain": [
       "array([[ 2000.,    40.,   365., ...,   365.,  1581.,  3041.],\n",
       "       [12277.,  2000.,    40., ...,    50.,   365.,  5350.],\n",
       "       [ 6850., 15150.,  1000., ...,  2000.,    40.,   365.],\n",
       "       [ 3101.,  4351., 16600., ..., 16600.,  2000.,    40.],\n",
       "       [  365.,  3441.,  4661., ...,  8450., 22250.,  2000.],\n",
       "       [   40.,   365.,  3701., ...,  4601.,  4601., 16600.]])"
      ]
     },
     "execution_count": 28,
     "metadata": {},
     "output_type": "execute_result"
    }
   ],
   "execution_count": 28
  },
  {
   "cell_type": "code",
   "metadata": {
    "ExecuteTime": {
     "end_time": "2024-08-09T20:56:06.947129Z",
     "start_time": "2024-08-09T20:56:06.944366Z"
    }
   },
   "source": [
    "np.transpose(lending_co_data_numeric)"
   ],
   "outputs": [
    {
     "data": {
      "text/plain": [
       "array([[ 2000.,  2000.,  1000., ...,  2000.,  1000.,  2000.],\n",
       "       [   40.,    40.,    40., ...,    40.,    40.,    40.],\n",
       "       [  365.,   365.,   365., ...,   365.,   365.,   365.],\n",
       "       [ 3121.,  3061.,  2160., ...,  4201.,  2080.,  4601.],\n",
       "       [ 4241.,  4171.,  3280., ...,  5001.,  3320.,  4601.],\n",
       "       [13621., 15041., 15340., ..., 16600., 15600., 16600.]])"
      ]
     },
     "execution_count": 29,
     "metadata": {},
     "output_type": "execute_result"
    }
   ],
   "execution_count": 29
  },
  {
   "cell_type": "code",
   "metadata": {
    "ExecuteTime": {
     "end_time": "2024-08-09T20:56:07.037510Z",
     "start_time": "2024-08-09T20:56:07.034081Z"
    }
   },
   "source": [
    "np.reshape(lending_co_data_numeric, (1,1,2,3,1043))\n",
    "\n",
    "# We can choose whatever shape we wish as long as the product of the dimensions matches the total number of elements in the array."
   ],
   "outputs": [
    {
     "data": {
      "text/plain": [
       "array([[[[[ 2000.,    40.,   365., ...,   365.,  1581.,  3041.],\n",
       "          [12277.,  2000.,    40., ...,    50.,   365.,  5350.],\n",
       "          [ 6850., 15150.,  1000., ...,  2000.,    40.,   365.]],\n",
       "\n",
       "         [[ 3101.,  4351., 16600., ..., 16600.,  2000.,    40.],\n",
       "          [  365.,  3441.,  4661., ...,  8450., 22250.,  2000.],\n",
       "          [   40.,   365.,  3701., ...,  4601.,  4601., 16600.]]]]])"
      ]
     },
     "execution_count": 30,
     "metadata": {},
     "output_type": "execute_result"
    }
   ],
   "execution_count": 30
  },
  {
   "cell_type": "code",
   "metadata": {
    "ExecuteTime": {
     "end_time": "2024-08-09T20:56:07.102466Z",
     "start_time": "2024-08-09T20:56:07.099185Z"
    }
   },
   "source": [
    "lending_co_data_numeric\n",
    "\n",
    "# Reshaping doesn't alter the original array. "
   ],
   "outputs": [
    {
     "data": {
      "text/plain": [
       "array([[ 2000.,    40.,   365.,  3121.,  4241., 13621.],\n",
       "       [ 2000.,    40.,   365.,  3061.,  4171., 15041.],\n",
       "       [ 1000.,    40.,   365.,  2160.,  3280., 15340.],\n",
       "       ...,\n",
       "       [ 2000.,    40.,   365.,  4201.,  5001., 16600.],\n",
       "       [ 1000.,    40.,   365.,  2080.,  3320., 15600.],\n",
       "       [ 2000.,    40.,   365.,  4601.,  4601., 16600.]])"
      ]
     },
     "execution_count": 31,
     "metadata": {},
     "output_type": "execute_result"
    }
   ],
   "execution_count": 31
  },
  {
   "cell_type": "code",
   "metadata": {
    "ExecuteTime": {
     "end_time": "2024-08-09T20:56:07.197957Z",
     "start_time": "2024-08-09T20:56:07.194847Z"
    }
   },
   "source": [
    "lending_co_data_numeric_2 = np.reshape(lending_co_data_numeric, (6,1043))\n",
    "lending_co_data_numeric_2"
   ],
   "outputs": [
    {
     "data": {
      "text/plain": [
       "array([[ 2000.,    40.,   365., ...,   365.,  1581.,  3041.],\n",
       "       [12277.,  2000.,    40., ...,    50.,   365.,  5350.],\n",
       "       [ 6850., 15150.,  1000., ...,  2000.,    40.,   365.],\n",
       "       [ 3101.,  4351., 16600., ..., 16600.,  2000.,    40.],\n",
       "       [  365.,  3441.,  4661., ...,  8450., 22250.,  2000.],\n",
       "       [   40.,   365.,  3701., ...,  4601.,  4601., 16600.]])"
      ]
     },
     "execution_count": 32,
     "metadata": {},
     "output_type": "execute_result"
    }
   ],
   "execution_count": 32
  },
  {
   "cell_type": "code",
   "metadata": {
    "ExecuteTime": {
     "end_time": "2024-08-09T20:56:07.250231Z",
     "start_time": "2024-08-09T20:56:07.247603Z"
    }
   },
   "source": [
    "lending_co_data_numeric.reshape(6,1043)\n",
    "\n",
    "# Equivalent method. "
   ],
   "outputs": [
    {
     "data": {
      "text/plain": [
       "array([[ 2000.,    40.,   365., ...,   365.,  1581.,  3041.],\n",
       "       [12277.,  2000.,    40., ...,    50.,   365.,  5350.],\n",
       "       [ 6850., 15150.,  1000., ...,  2000.,    40.,   365.],\n",
       "       [ 3101.,  4351., 16600., ..., 16600.,  2000.,    40.],\n",
       "       [  365.,  3441.,  4661., ...,  8450., 22250.,  2000.],\n",
       "       [   40.,   365.,  3701., ...,  4601.,  4601., 16600.]])"
      ]
     },
     "execution_count": 33,
     "metadata": {},
     "output_type": "execute_result"
    }
   ],
   "execution_count": 33
  },
  {
   "cell_type": "code",
   "metadata": {
    "scrolled": true,
    "ExecuteTime": {
     "end_time": "2024-08-09T20:56:07.307648Z",
     "start_time": "2024-08-09T20:56:07.304645Z"
    }
   },
   "source": [
    "lending_co_data_numeric"
   ],
   "outputs": [
    {
     "data": {
      "text/plain": [
       "array([[ 2000.,    40.,   365.,  3121.,  4241., 13621.],\n",
       "       [ 2000.,    40.,   365.,  3061.,  4171., 15041.],\n",
       "       [ 1000.,    40.,   365.,  2160.,  3280., 15340.],\n",
       "       ...,\n",
       "       [ 2000.,    40.,   365.,  4201.,  5001., 16600.],\n",
       "       [ 1000.,    40.,   365.,  2080.,  3320., 15600.],\n",
       "       [ 2000.,    40.,   365.,  4601.,  4601., 16600.]])"
      ]
     },
     "execution_count": 34,
     "metadata": {},
     "output_type": "execute_result"
    }
   ],
   "execution_count": 34
  },
  {
   "cell_type": "markdown",
   "metadata": {},
   "source": [
    "## Removing Values"
   ]
  },
  {
   "cell_type": "code",
   "metadata": {
    "ExecuteTime": {
     "end_time": "2024-08-09T20:56:07.369148Z",
     "start_time": "2024-08-09T20:56:07.366249Z"
    }
   },
   "source": "lending_co_data_numeric = np.loadtxt(\"files/Lending-Company-Numeric-Data.csv\", delimiter = ',') ",
   "outputs": [],
   "execution_count": 35
  },
  {
   "cell_type": "code",
   "metadata": {
    "ExecuteTime": {
     "end_time": "2024-08-09T20:56:07.430392Z",
     "start_time": "2024-08-09T20:56:07.427351Z"
    }
   },
   "source": [
    "lending_co_data_numeric"
   ],
   "outputs": [
    {
     "data": {
      "text/plain": [
       "array([[ 2000.,    40.,   365.,  3121.,  4241., 13621.],\n",
       "       [ 2000.,    40.,   365.,  3061.,  4171., 15041.],\n",
       "       [ 1000.,    40.,   365.,  2160.,  3280., 15340.],\n",
       "       ...,\n",
       "       [ 2000.,    40.,   365.,  4201.,  5001., 16600.],\n",
       "       [ 1000.,    40.,   365.,  2080.,  3320., 15600.],\n",
       "       [ 2000.,    40.,   365.,  4601.,  4601., 16600.]])"
      ]
     },
     "execution_count": 36,
     "metadata": {},
     "output_type": "execute_result"
    }
   ],
   "execution_count": 36
  },
  {
   "cell_type": "code",
   "metadata": {
    "ExecuteTime": {
     "end_time": "2024-08-09T20:56:07.477625Z",
     "start_time": "2024-08-09T20:56:07.474798Z"
    }
   },
   "source": [
    "np.delete(lending_co_data_numeric, 0).shape\n",
    "\n",
    "# Removes the first value of the flattened array. "
   ],
   "outputs": [
    {
     "data": {
      "text/plain": [
       "(6257,)"
      ]
     },
     "execution_count": 37,
     "metadata": {},
     "output_type": "execute_result"
    }
   ],
   "execution_count": 37
  },
  {
   "cell_type": "code",
   "metadata": {
    "ExecuteTime": {
     "end_time": "2024-08-09T20:56:07.568332Z",
     "start_time": "2024-08-09T20:56:07.564768Z"
    }
   },
   "source": [
    "lending_co_data_numeric.size"
   ],
   "outputs": [
    {
     "data": {
      "text/plain": [
       "6258"
      ]
     },
     "execution_count": 38,
     "metadata": {},
     "output_type": "execute_result"
    }
   ],
   "execution_count": 38
  },
  {
   "cell_type": "code",
   "metadata": {
    "ExecuteTime": {
     "end_time": "2024-08-09T20:56:07.608509Z",
     "start_time": "2024-08-09T20:56:07.604763Z"
    }
   },
   "source": [
    "lending_co_data_numeric"
   ],
   "outputs": [
    {
     "data": {
      "text/plain": [
       "array([[ 2000.,    40.,   365.,  3121.,  4241., 13621.],\n",
       "       [ 2000.,    40.,   365.,  3061.,  4171., 15041.],\n",
       "       [ 1000.,    40.,   365.,  2160.,  3280., 15340.],\n",
       "       ...,\n",
       "       [ 2000.,    40.,   365.,  4201.,  5001., 16600.],\n",
       "       [ 1000.,    40.,   365.,  2080.,  3320., 15600.],\n",
       "       [ 2000.,    40.,   365.,  4601.,  4601., 16600.]])"
      ]
     },
     "execution_count": 39,
     "metadata": {},
     "output_type": "execute_result"
    }
   ],
   "execution_count": 39
  },
  {
   "cell_type": "code",
   "metadata": {
    "ExecuteTime": {
     "end_time": "2024-08-09T20:56:07.756381Z",
     "start_time": "2024-08-09T20:56:07.750674Z"
    }
   },
   "source": [
    "np.delete(lending_co_data_numeric, [0,2,4] , axis = 1)\n",
    "\n",
    "# By setting an axis, we can simultaneously delete entire rows or columns. "
   ],
   "outputs": [
    {
     "data": {
      "text/plain": [
       "array([[   40.,  3121., 13621.],\n",
       "       [   40.,  3061., 15041.],\n",
       "       [   40.,  2160., 15340.],\n",
       "       ...,\n",
       "       [   40.,  4201., 16600.],\n",
       "       [   40.,  2080., 15600.],\n",
       "       [   40.,  4601., 16600.]])"
      ]
     },
     "execution_count": 40,
     "metadata": {},
     "output_type": "execute_result"
    }
   ],
   "execution_count": 40
  },
  {
   "cell_type": "code",
   "metadata": {
    "ExecuteTime": {
     "end_time": "2024-08-09T20:56:07.787671Z",
     "start_time": "2024-08-09T20:56:07.780052Z"
    }
   },
   "source": [
    "np.delete(np.delete(lending_co_data_numeric, [0,2,4] , axis = 1), [0,2,-1] , axis = 0)\n",
    "\n",
    "# We can simultaneously delete rows AND columns. "
   ],
   "outputs": [
    {
     "data": {
      "text/plain": [
       "array([[   40.,  3061., 15041.],\n",
       "       [   40.,  3041., 15321.],\n",
       "       [   50.,  3470., 13720.],\n",
       "       ...,\n",
       "       [   40.,  4240., 16600.],\n",
       "       [   40.,  4201., 16600.],\n",
       "       [   40.,  2080., 15600.]])"
      ]
     },
     "execution_count": 41,
     "metadata": {},
     "output_type": "execute_result"
    }
   ],
   "execution_count": 41
  },
  {
   "cell_type": "markdown",
   "metadata": {},
   "source": [
    "## Sorting Data"
   ]
  },
  {
   "cell_type": "code",
   "metadata": {
    "ExecuteTime": {
     "end_time": "2024-08-09T20:56:07.887365Z",
     "start_time": "2024-08-09T20:56:07.883333Z"
    }
   },
   "source": [
    "lending_co_data_numeric = np.loadtxt(\"files/Lending-Company-Numeric-Data.csv\", delimiter = ',') \n",
    "lending_co_data_numeric"
   ],
   "outputs": [
    {
     "data": {
      "text/plain": [
       "array([[ 2000.,    40.,   365.,  3121.,  4241., 13621.],\n",
       "       [ 2000.,    40.,   365.,  3061.,  4171., 15041.],\n",
       "       [ 1000.,    40.,   365.,  2160.,  3280., 15340.],\n",
       "       ...,\n",
       "       [ 2000.,    40.,   365.,  4201.,  5001., 16600.],\n",
       "       [ 1000.,    40.,   365.,  2080.,  3320., 15600.],\n",
       "       [ 2000.,    40.,   365.,  4601.,  4601., 16600.]])"
      ]
     },
     "execution_count": 42,
     "metadata": {},
     "output_type": "execute_result"
    }
   ],
   "execution_count": 42
  },
  {
   "cell_type": "code",
   "metadata": {
    "ExecuteTime": {
     "end_time": "2024-08-09T20:56:07.939776Z",
     "start_time": "2024-08-09T20:56:07.937125Z"
    }
   },
   "source": "np.sort(lending_co_data_numeric).shape",
   "outputs": [
    {
     "data": {
      "text/plain": [
       "(1043, 6)"
      ]
     },
     "execution_count": 43,
     "metadata": {},
     "output_type": "execute_result"
    }
   ],
   "execution_count": 43
  },
  {
   "cell_type": "code",
   "metadata": {
    "ExecuteTime": {
     "end_time": "2024-08-09T20:56:08.006047Z",
     "start_time": "2024-08-09T20:56:08.002862Z"
    }
   },
   "source": [
    "lending_co_data_numeric.shape"
   ],
   "outputs": [
    {
     "data": {
      "text/plain": [
       "(1043, 6)"
      ]
     },
     "execution_count": 44,
     "metadata": {},
     "output_type": "execute_result"
    }
   ],
   "execution_count": 44
  },
  {
   "cell_type": "code",
   "metadata": {
    "ExecuteTime": {
     "end_time": "2024-08-09T20:56:08.049796Z",
     "start_time": "2024-08-09T20:56:08.046647Z"
    }
   },
   "source": "np.sort(lending_co_data_numeric, axis = None)",
   "outputs": [
    {
     "data": {
      "text/plain": [
       "array([-2870., -2870., -2550., ..., 54625., 54625., 64001.])"
      ]
     },
     "execution_count": 45,
     "metadata": {},
     "output_type": "execute_result"
    }
   ],
   "execution_count": 45
  },
  {
   "cell_type": "code",
   "metadata": {
    "ExecuteTime": {
     "end_time": "2024-08-09T20:56:08.124666Z",
     "start_time": "2024-08-09T20:56:08.122666Z"
    }
   },
   "source": [
    "np.set_printoptions(suppress = True)\n",
    "\n",
    "# Supresses scientific notatoin when printing. "
   ],
   "outputs": [],
   "execution_count": 46
  },
  {
   "cell_type": "code",
   "metadata": {
    "ExecuteTime": {
     "end_time": "2024-08-09T20:56:08.180095Z",
     "start_time": "2024-08-09T20:56:08.177038Z"
    }
   },
   "source": [
    "np.sort(lending_co_data_numeric)"
   ],
   "outputs": [
    {
     "data": {
      "text/plain": [
       "array([[   40.,   365.,  2000.,  3121.,  4241., 13621.],\n",
       "       [   40.,   365.,  2000.,  3061.,  4171., 15041.],\n",
       "       [   40.,   365.,  1000.,  2160.,  3280., 15340.],\n",
       "       ...,\n",
       "       [   40.,   365.,  2000.,  4201.,  5001., 16600.],\n",
       "       [   40.,   365.,  1000.,  2080.,  3320., 15600.],\n",
       "       [   40.,   365.,  2000.,  4601.,  4601., 16600.]])"
      ]
     },
     "execution_count": 47,
     "metadata": {},
     "output_type": "execute_result"
    }
   ],
   "execution_count": 47
  },
  {
   "cell_type": "code",
   "metadata": {
    "ExecuteTime": {
     "end_time": "2024-08-09T20:56:08.303628Z",
     "start_time": "2024-08-09T20:56:08.300278Z"
    }
   },
   "source": [
    "-np.sort(-lending_co_data_numeric)\n",
    "\n",
    "## Adding two minus signs sorts the array in descending order"
   ],
   "outputs": [
    {
     "data": {
      "text/plain": [
       "array([[13621.,  4241.,  3121.,  2000.,   365.,    40.],\n",
       "       [15041.,  4171.,  3061.,  2000.,   365.,    40.],\n",
       "       [15340.,  3280.,  2160.,  1000.,   365.,    40.],\n",
       "       ...,\n",
       "       [16600.,  5001.,  4201.,  2000.,   365.,    40.],\n",
       "       [15600.,  3320.,  2080.,  1000.,   365.,    40.],\n",
       "       [16600.,  4601.,  4601.,  2000.,   365.,    40.]])"
      ]
     },
     "execution_count": 48,
     "metadata": {},
     "output_type": "execute_result"
    }
   ],
   "execution_count": 48
  },
  {
   "cell_type": "code",
   "metadata": {
    "ExecuteTime": {
     "end_time": "2024-08-09T20:56:08.330255Z",
     "start_time": "2024-08-09T20:56:08.327166Z"
    }
   },
   "source": [
    "lending_co_data_numeric"
   ],
   "outputs": [
    {
     "data": {
      "text/plain": [
       "array([[ 2000.,    40.,   365.,  3121.,  4241., 13621.],\n",
       "       [ 2000.,    40.,   365.,  3061.,  4171., 15041.],\n",
       "       [ 1000.,    40.,   365.,  2160.,  3280., 15340.],\n",
       "       ...,\n",
       "       [ 2000.,    40.,   365.,  4201.,  5001., 16600.],\n",
       "       [ 1000.,    40.,   365.,  2080.,  3320., 15600.],\n",
       "       [ 2000.,    40.,   365.,  4601.,  4601., 16600.]])"
      ]
     },
     "execution_count": 49,
     "metadata": {},
     "output_type": "execute_result"
    }
   ],
   "execution_count": 49
  },
  {
   "cell_type": "code",
   "metadata": {
    "ExecuteTime": {
     "end_time": "2024-08-09T20:56:08.412477Z",
     "start_time": "2024-08-09T20:56:08.406939Z"
    }
   },
   "source": [
    "lending_co_data_numeric.sort(axis = 0)\n",
    "lending_co_data_numeric\n",
    "\n",
    "# The equivalent method stores the values in place. "
   ],
   "outputs": [
    {
     "data": {
      "text/plain": [
       "array([[ 1000.,    35.,   365., -2870., -2870.,  -350.],\n",
       "       [ 1000.,    35.,   365., -2550., -2100.,   150.],\n",
       "       [ 1000.,    35.,   365., -2450., -2000.,  1100.],\n",
       "       ...,\n",
       "       [ 9000.,   125.,   365., 16751., 18751., 54625.],\n",
       "       [ 9000.,   165.,   365., 17650., 20001., 54625.],\n",
       "       [ 9000.,   165.,   365., 19001., 22001., 64001.]])"
      ]
     },
     "execution_count": 50,
     "metadata": {},
     "output_type": "execute_result"
    }
   ],
   "execution_count": 50
  },
  {
   "cell_type": "markdown",
   "metadata": {},
   "source": [
    "## Argument Functions"
   ]
  },
  {
   "cell_type": "markdown",
   "metadata": {},
   "source": [
    "### np.argsort()"
   ]
  },
  {
   "cell_type": "code",
   "metadata": {
    "ExecuteTime": {
     "end_time": "2024-08-09T20:56:08.463519Z",
     "start_time": "2024-08-09T20:56:08.460235Z"
    }
   },
   "source": [
    "lending_co_data_numeric = np.loadtxt(\"files/Lending-Company-Numeric-Data.csv\", delimiter = ',') \n",
    "lending_co_data_numeric"
   ],
   "outputs": [
    {
     "data": {
      "text/plain": [
       "array([[ 2000.,    40.,   365.,  3121.,  4241., 13621.],\n",
       "       [ 2000.,    40.,   365.,  3061.,  4171., 15041.],\n",
       "       [ 1000.,    40.,   365.,  2160.,  3280., 15340.],\n",
       "       ...,\n",
       "       [ 2000.,    40.,   365.,  4201.,  5001., 16600.],\n",
       "       [ 1000.,    40.,   365.,  2080.,  3320., 15600.],\n",
       "       [ 2000.,    40.,   365.,  4601.,  4601., 16600.]])"
      ]
     },
     "execution_count": 51,
     "metadata": {},
     "output_type": "execute_result"
    }
   ],
   "execution_count": 51
  },
  {
   "cell_type": "code",
   "metadata": {
    "ExecuteTime": {
     "end_time": "2024-08-09T20:56:08.546143Z",
     "start_time": "2024-08-09T20:56:08.543116Z"
    }
   },
   "source": [
    "np.argsort(lending_co_data_numeric)\n",
    "\n",
    "# Returns the order which will sort the array. "
   ],
   "outputs": [
    {
     "data": {
      "text/plain": [
       "array([[1, 2, 0, 3, 4, 5],\n",
       "       [1, 2, 0, 3, 4, 5],\n",
       "       [1, 2, 0, 3, 4, 5],\n",
       "       ...,\n",
       "       [1, 2, 0, 3, 4, 5],\n",
       "       [1, 2, 0, 3, 4, 5],\n",
       "       [1, 2, 0, 3, 4, 5]])"
      ]
     },
     "execution_count": 52,
     "metadata": {},
     "output_type": "execute_result"
    }
   ],
   "execution_count": 52
  },
  {
   "cell_type": "code",
   "metadata": {
    "ExecuteTime": {
     "end_time": "2024-08-09T20:56:08.586748Z",
     "start_time": "2024-08-09T20:56:08.583294Z"
    }
   },
   "source": "np.sort(lending_co_data_numeric, axis = 0)",
   "outputs": [
    {
     "data": {
      "text/plain": [
       "array([[ 1000.,    35.,   365., -2870., -2870.,  -350.],\n",
       "       [ 1000.,    35.,   365., -2550., -2100.,   150.],\n",
       "       [ 1000.,    35.,   365., -2450., -2000.,  1100.],\n",
       "       ...,\n",
       "       [ 9000.,   125.,   365., 16751., 18751., 54625.],\n",
       "       [ 9000.,   165.,   365., 17650., 20001., 54625.],\n",
       "       [ 9000.,   165.,   365., 19001., 22001., 64001.]])"
      ]
     },
     "execution_count": 53,
     "metadata": {},
     "output_type": "execute_result"
    }
   ],
   "execution_count": 53
  },
  {
   "cell_type": "code",
   "metadata": {
    "ExecuteTime": {
     "end_time": "2024-08-09T20:56:08.694239Z",
     "start_time": "2024-08-09T20:56:08.691218Z"
    }
   },
   "source": "np.argsort(lending_co_data_numeric, axis = 0)",
   "outputs": [
    {
     "data": {
      "text/plain": [
       "array([[ 537,  443,    0,   32,   32,  482],\n",
       "       [ 639,  327,  687,  166,  166,  493],\n",
       "       [ 849,  432,  688,   85,   85,  166],\n",
       "       ...,\n",
       "       [  27,  326,  355,  568, 1019,  568],\n",
       "       [ 277,   27,  357,  718, 1033,  534],\n",
       "       [ 420,  408, 1042,  912,  912,   27]])"
      ]
     },
     "execution_count": 54,
     "metadata": {},
     "output_type": "execute_result"
    }
   ],
   "execution_count": 54
  },
  {
   "cell_type": "code",
   "metadata": {
    "ExecuteTime": {
     "end_time": "2024-08-09T20:56:08.729119Z",
     "start_time": "2024-08-09T20:56:08.726587Z"
    }
   },
   "source": [
    "lending_co_data_numeric[482,5]"
   ],
   "outputs": [
    {
     "data": {
      "text/plain": [
       "-350.0"
      ]
     },
     "execution_count": 55,
     "metadata": {},
     "output_type": "execute_result"
    }
   ],
   "execution_count": 55
  },
  {
   "cell_type": "code",
   "metadata": {
    "ExecuteTime": {
     "end_time": "2024-08-09T20:56:08.826080Z",
     "start_time": "2024-08-09T20:56:08.822672Z"
    }
   },
   "source": [
    "lending_co_data_numeric = lending_co_data_numeric[np.argsort(lending_co_data_numeric[:,0])]\n",
    "lending_co_data_numeric\n",
    "\n",
    "# Sorts the array based on the values in the 1st column. "
   ],
   "outputs": [
    {
     "data": {
      "text/plain": [
       "array([[ 1000.,    40.,   365.,  2200.,  3400., 15600.],\n",
       "       [ 1000.,    40.,   365.,  2200.,  3800., 15600.],\n",
       "       [ 1000.,    40.,   365.,  2000.,  3950., 15600.],\n",
       "       ...,\n",
       "       [ 9000.,   165.,   365., 14501., 16846., 64001.],\n",
       "       [ 9000.,   125.,   365., 12001., 15751., 38626.],\n",
       "       [ 9000.,   125.,   365., 12251., 14251., 25626.]])"
      ]
     },
     "execution_count": 56,
     "metadata": {},
     "output_type": "execute_result"
    }
   ],
   "execution_count": 56
  },
  {
   "cell_type": "code",
   "metadata": {
    "ExecuteTime": {
     "end_time": "2024-08-09T20:56:08.849281Z",
     "start_time": "2024-08-09T20:56:08.846455Z"
    }
   },
   "source": [
    "lending_co_data_numeric.argsort(axis = 0)\n",
    "\n",
    "# The method doesn't sort in place. "
   ],
   "outputs": [
    {
     "data": {
      "text/plain": [
       "array([[   0,   22,    0,  199,  199,  172],\n",
       "       [ 155,   62,  687,   53,   53,  160],\n",
       "       [ 156,   38,  688,  169,  169,   53],\n",
       "       ...,\n",
       "       [1022, 1042,  355, 1024, 1037, 1023],\n",
       "       [1031, 1039,  357,  941, 1029, 1024],\n",
       "       [1042, 1040, 1042, 1027, 1027, 1040]])"
      ]
     },
     "execution_count": 57,
     "metadata": {},
     "output_type": "execute_result"
    }
   ],
   "execution_count": 57
  },
  {
   "cell_type": "code",
   "metadata": {
    "ExecuteTime": {
     "end_time": "2024-08-09T20:56:08.898473Z",
     "start_time": "2024-08-09T20:56:08.895812Z"
    }
   },
   "source": [
    "lending_co_data_numeric"
   ],
   "outputs": [
    {
     "data": {
      "text/plain": [
       "array([[ 1000.,    40.,   365.,  2200.,  3400., 15600.],\n",
       "       [ 1000.,    40.,   365.,  2200.,  3800., 15600.],\n",
       "       [ 1000.,    40.,   365.,  2000.,  3950., 15600.],\n",
       "       ...,\n",
       "       [ 9000.,   165.,   365., 14501., 16846., 64001.],\n",
       "       [ 9000.,   125.,   365., 12001., 15751., 38626.],\n",
       "       [ 9000.,   125.,   365., 12251., 14251., 25626.]])"
      ]
     },
     "execution_count": 58,
     "metadata": {},
     "output_type": "execute_result"
    }
   ],
   "execution_count": 58
  },
  {
   "cell_type": "markdown",
   "metadata": {},
   "source": [
    "### np.argwhere()"
   ]
  },
  {
   "cell_type": "code",
   "metadata": {
    "ExecuteTime": {
     "end_time": "2024-08-09T20:56:08.961009Z",
     "start_time": "2024-08-09T20:56:08.957279Z"
    }
   },
   "source": [
    "lending_co_data_numeric = np.loadtxt(\"files/Lending-Company-Numeric-Data.csv\", delimiter = ',') \n",
    "lending_co_data_numeric"
   ],
   "outputs": [
    {
     "data": {
      "text/plain": [
       "array([[ 2000.,    40.,   365.,  3121.,  4241., 13621.],\n",
       "       [ 2000.,    40.,   365.,  3061.,  4171., 15041.],\n",
       "       [ 1000.,    40.,   365.,  2160.,  3280., 15340.],\n",
       "       ...,\n",
       "       [ 2000.,    40.,   365.,  4201.,  5001., 16600.],\n",
       "       [ 1000.,    40.,   365.,  2080.,  3320., 15600.],\n",
       "       [ 2000.,    40.,   365.,  4601.,  4601., 16600.]])"
      ]
     },
     "execution_count": 59,
     "metadata": {},
     "output_type": "execute_result"
    }
   ],
   "execution_count": 59
  },
  {
   "cell_type": "code",
   "metadata": {
    "ExecuteTime": {
     "end_time": "2024-08-09T20:56:09.023720Z",
     "start_time": "2024-08-09T20:56:09.021129Z"
    }
   },
   "source": [
    "np.argwhere(lending_co_data_numeric == False)\n",
    "\n",
    "# Default condition is to return values different from 0. "
   ],
   "outputs": [
    {
     "data": {
      "text/plain": [
       "array([[116,   4],\n",
       "       [430,   3]])"
      ]
     },
     "execution_count": 60,
     "metadata": {},
     "output_type": "execute_result"
    }
   ],
   "execution_count": 60
  },
  {
   "cell_type": "code",
   "metadata": {
    "ExecuteTime": {
     "end_time": "2024-08-09T20:56:09.067460Z",
     "start_time": "2024-08-09T20:56:09.064602Z"
    }
   },
   "source": [
    "lending_co_data_numeric[430]"
   ],
   "outputs": [
    {
     "data": {
      "text/plain": [
       "array([1000.,   50.,  365.,    0.,  550., 5650.])"
      ]
     },
     "execution_count": 61,
     "metadata": {},
     "output_type": "execute_result"
    }
   ],
   "execution_count": 61
  },
  {
   "cell_type": "code",
   "metadata": {
    "ExecuteTime": {
     "end_time": "2024-08-09T20:56:09.150948Z",
     "start_time": "2024-08-09T20:56:09.148478Z"
    }
   },
   "source": [
    "lending_co_data_numeric"
   ],
   "outputs": [
    {
     "data": {
      "text/plain": [
       "array([[ 2000.,    40.,   365.,  3121.,  4241., 13621.],\n",
       "       [ 2000.,    40.,   365.,  3061.,  4171., 15041.],\n",
       "       [ 1000.,    40.,   365.,  2160.,  3280., 15340.],\n",
       "       ...,\n",
       "       [ 2000.,    40.,   365.,  4201.,  5001., 16600.],\n",
       "       [ 1000.,    40.,   365.,  2080.,  3320., 15600.],\n",
       "       [ 2000.,    40.,   365.,  4601.,  4601., 16600.]])"
      ]
     },
     "execution_count": 62,
     "metadata": {},
     "output_type": "execute_result"
    }
   ],
   "execution_count": 62
  },
  {
   "cell_type": "code",
   "metadata": {
    "ExecuteTime": {
     "end_time": "2024-08-09T20:56:09.175901Z",
     "start_time": "2024-08-09T20:56:09.172343Z"
    }
   },
   "source": [
    "np.argwhere(lending_co_data_numeric %2 == 0)\n",
    "\n",
    "# The condition can be more complex "
   ],
   "outputs": [
    {
     "data": {
      "text/plain": [
       "array([[   0,    0],\n",
       "       [   0,    1],\n",
       "       [   1,    0],\n",
       "       ...,\n",
       "       [1042,    0],\n",
       "       [1042,    1],\n",
       "       [1042,    5]])"
      ]
     },
     "execution_count": 63,
     "metadata": {},
     "output_type": "execute_result"
    }
   ],
   "execution_count": 63
  },
  {
   "cell_type": "code",
   "metadata": {
    "ExecuteTime": {
     "end_time": "2024-08-09T20:56:09.231584Z",
     "start_time": "2024-08-09T20:56:09.228936Z"
    }
   },
   "source": [
    "np.isnan(lending_co_data_numeric).sum()"
   ],
   "outputs": [
    {
     "data": {
      "text/plain": [
       "0"
      ]
     },
     "execution_count": 64,
     "metadata": {},
     "output_type": "execute_result"
    }
   ],
   "execution_count": 64
  },
  {
   "cell_type": "code",
   "metadata": {
    "scrolled": true,
    "ExecuteTime": {
     "end_time": "2024-08-09T20:56:09.303801Z",
     "start_time": "2024-08-09T20:56:09.298074Z"
    }
   },
   "source": [
    "lending_co_data_numeric_NAN = np.genfromtxt(\"files/Lending-Company-Numeric-Data-NAN.csv\", delimiter = ';') \n",
    "lending_co_data_numeric_NAN"
   ],
   "outputs": [
    {
     "data": {
      "text/plain": [
       "array([[ 2000.,    40.,   365.,  3121.,  4241., 13621.],\n",
       "       [ 2000.,    40.,   365.,  3061.,  4171., 15041.],\n",
       "       [ 1000.,    40.,   365.,  2160.,  3280., 15340.],\n",
       "       ...,\n",
       "       [   nan,    40.,   365.,  4201.,  5001., 16600.],\n",
       "       [ 1000.,    40.,   365.,  2080.,  3320., 15600.],\n",
       "       [ 2000.,    40.,   365.,  4601.,  4601., 16600.]])"
      ]
     },
     "execution_count": 65,
     "metadata": {},
     "output_type": "execute_result"
    }
   ],
   "execution_count": 65
  },
  {
   "cell_type": "code",
   "metadata": {
    "ExecuteTime": {
     "end_time": "2024-08-09T20:56:09.392139Z",
     "start_time": "2024-08-09T20:56:09.388352Z"
    }
   },
   "source": [
    "np.argwhere(np.isnan(lending_co_data_numeric_NAN))\n",
    "\n",
    "# Returns the coordinates of all the missing values within the array. "
   ],
   "outputs": [
    {
     "data": {
      "text/plain": [
       "array([[  11,    3],\n",
       "       [  15,    3],\n",
       "       [  27,    3],\n",
       "       [  58,    3],\n",
       "       [  60,    4],\n",
       "       [  85,    4],\n",
       "       [ 117,    5],\n",
       "       [ 152,    1],\n",
       "       [ 152,    2],\n",
       "       [ 152,    4],\n",
       "       [ 172,    1],\n",
       "       [ 175,    1],\n",
       "       [ 175,    2],\n",
       "       [ 176,    3],\n",
       "       [ 177,    4],\n",
       "       [ 178,    5],\n",
       "       [ 211,    3],\n",
       "       [ 229,    0],\n",
       "       [ 230,    1],\n",
       "       [ 237,    1],\n",
       "       [ 247,    3],\n",
       "       [ 251,    5],\n",
       "       [ 252,    4],\n",
       "       [ 258,    1],\n",
       "       [ 260,    3],\n",
       "       [ 262,    4],\n",
       "       [ 271,    5],\n",
       "       [ 272,    4],\n",
       "       [ 284,    2],\n",
       "       [ 284,    3],\n",
       "       [ 297,    1],\n",
       "       [ 297,    2],\n",
       "       [ 300,    3],\n",
       "       [ 315,    3],\n",
       "       [ 315,    5],\n",
       "       [ 327,    4],\n",
       "       [ 336,    4],\n",
       "       [ 343,    0],\n",
       "       [ 344,    2],\n",
       "       [ 346,    2],\n",
       "       [ 363,    3],\n",
       "       [ 375,    3],\n",
       "       [ 377,    2],\n",
       "       [ 398,    5],\n",
       "       [ 416,    4],\n",
       "       [ 428,    0],\n",
       "       [ 432,    1],\n",
       "       [ 433,    3],\n",
       "       [ 434,    2],\n",
       "       [ 440,    3],\n",
       "       [ 441,    1],\n",
       "       [ 446,    2],\n",
       "       [ 455,    1],\n",
       "       [ 456,    2],\n",
       "       [ 458,    2],\n",
       "       [ 461,    3],\n",
       "       [ 467,    4],\n",
       "       [ 468,    0],\n",
       "       [ 469,    3],\n",
       "       [ 470,    0],\n",
       "       [ 481,    1],\n",
       "       [ 482,    3],\n",
       "       [ 484,    4],\n",
       "       [ 489,    0],\n",
       "       [ 493,    5],\n",
       "       [ 499,    0],\n",
       "       [ 504,    3],\n",
       "       [ 506,    1],\n",
       "       [ 517,    4],\n",
       "       [ 518,    0],\n",
       "       [ 521,    2],\n",
       "       [ 530,    5],\n",
       "       [ 532,    3],\n",
       "       [ 534,    5],\n",
       "       [ 547,    3],\n",
       "       [ 549,    5],\n",
       "       [ 553,    5],\n",
       "       [ 554,    5],\n",
       "       [ 559,    3],\n",
       "       [ 566,    0],\n",
       "       [ 566,    1],\n",
       "       [ 566,    2],\n",
       "       [ 567,    0],\n",
       "       [ 567,    1],\n",
       "       [ 567,    2],\n",
       "       [ 581,    1],\n",
       "       [ 581,    2],\n",
       "       [ 582,    1],\n",
       "       [ 582,    2],\n",
       "       [ 583,    1],\n",
       "       [ 583,    2],\n",
       "       [ 593,    3],\n",
       "       [ 594,    3],\n",
       "       [ 595,    3],\n",
       "       [ 596,    3],\n",
       "       [ 609,    4],\n",
       "       [ 609,    5],\n",
       "       [ 610,    4],\n",
       "       [ 610,    5],\n",
       "       [ 611,    4],\n",
       "       [ 611,    5],\n",
       "       [ 612,    4],\n",
       "       [ 612,    5],\n",
       "       [ 623,    2],\n",
       "       [ 623,    3],\n",
       "       [ 624,    2],\n",
       "       [ 624,    3],\n",
       "       [ 625,    2],\n",
       "       [ 625,    3],\n",
       "       [ 626,    2],\n",
       "       [ 626,    3],\n",
       "       [ 627,    2],\n",
       "       [ 627,    3],\n",
       "       [ 636,    0],\n",
       "       [ 637,    0],\n",
       "       [ 637,    4],\n",
       "       [ 637,    5],\n",
       "       [ 638,    0],\n",
       "       [ 638,    4],\n",
       "       [ 638,    5],\n",
       "       [ 639,    4],\n",
       "       [ 639,    5],\n",
       "       [ 640,    4],\n",
       "       [ 640,    5],\n",
       "       [ 641,    4],\n",
       "       [ 641,    5],\n",
       "       [ 653,    1],\n",
       "       [ 653,    2],\n",
       "       [ 653,    3],\n",
       "       [ 653,    4],\n",
       "       [ 654,    1],\n",
       "       [ 654,    2],\n",
       "       [ 654,    3],\n",
       "       [ 654,    4],\n",
       "       [ 655,    1],\n",
       "       [ 655,    2],\n",
       "       [ 655,    3],\n",
       "       [ 655,    4],\n",
       "       [ 685,    2],\n",
       "       [ 686,    0],\n",
       "       [ 701,    4],\n",
       "       [ 704,    2],\n",
       "       [ 724,    1],\n",
       "       [ 724,    2],\n",
       "       [ 730,    1],\n",
       "       [ 730,    2],\n",
       "       [ 730,    3],\n",
       "       [ 731,    1],\n",
       "       [ 731,    2],\n",
       "       [ 731,    3],\n",
       "       [ 732,    1],\n",
       "       [ 732,    2],\n",
       "       [ 732,    3],\n",
       "       [ 733,    1],\n",
       "       [ 733,    2],\n",
       "       [ 733,    3],\n",
       "       [ 742,    4],\n",
       "       [ 747,    3],\n",
       "       [ 755,    1],\n",
       "       [ 758,    1],\n",
       "       [ 760,    1],\n",
       "       [ 764,    0],\n",
       "       [ 764,    1],\n",
       "       [ 764,    2],\n",
       "       [ 764,    3],\n",
       "       [ 764,    4],\n",
       "       [ 764,    5],\n",
       "       [ 765,    3],\n",
       "       [ 775,    1],\n",
       "       [ 775,    2],\n",
       "       [ 775,    3],\n",
       "       [ 776,    1],\n",
       "       [ 776,    2],\n",
       "       [ 776,    3],\n",
       "       [ 777,    1],\n",
       "       [ 777,    2],\n",
       "       [ 777,    3],\n",
       "       [ 778,    1],\n",
       "       [ 778,    2],\n",
       "       [ 778,    3],\n",
       "       [ 787,    4],\n",
       "       [ 788,    1],\n",
       "       [ 790,    2],\n",
       "       [ 794,    3],\n",
       "       [ 795,    5],\n",
       "       [ 796,    1],\n",
       "       [ 796,    4],\n",
       "       [ 800,    0],\n",
       "       [ 801,    1],\n",
       "       [ 802,    1],\n",
       "       [ 803,    2],\n",
       "       [ 805,    0],\n",
       "       [ 809,    0],\n",
       "       [ 810,    0],\n",
       "       [ 811,    0],\n",
       "       [ 812,    1],\n",
       "       [ 820,    0],\n",
       "       [ 820,    3],\n",
       "       [ 820,    4],\n",
       "       [ 822,    2],\n",
       "       [ 823,    2],\n",
       "       [ 825,    0],\n",
       "       [ 830,    1],\n",
       "       [ 830,    2],\n",
       "       [ 836,    3],\n",
       "       [ 837,    3],\n",
       "       [ 838,    3],\n",
       "       [ 839,    4],\n",
       "       [ 843,    2],\n",
       "       [ 856,    0],\n",
       "       [ 856,    1],\n",
       "       [ 856,    3],\n",
       "       [ 856,    4],\n",
       "       [ 856,    5],\n",
       "       [ 857,    0],\n",
       "       [ 858,    1],\n",
       "       [ 870,    0],\n",
       "       [ 870,    2],\n",
       "       [ 870,    3],\n",
       "       [ 872,    0],\n",
       "       [ 873,    0],\n",
       "       [ 874,    1],\n",
       "       [ 890,    1],\n",
       "       [ 890,    2],\n",
       "       [ 890,    3],\n",
       "       [ 909,    1],\n",
       "       [ 910,    0],\n",
       "       [ 912,    0],\n",
       "       [ 912,    2],\n",
       "       [ 912,    3],\n",
       "       [ 912,    4],\n",
       "       [ 928,    1],\n",
       "       [ 928,    2],\n",
       "       [ 928,    3],\n",
       "       [ 929,    1],\n",
       "       [ 929,    2],\n",
       "       [ 929,    3],\n",
       "       [ 930,    3],\n",
       "       [ 958,    2],\n",
       "       [ 959,    3],\n",
       "       [ 960,    3],\n",
       "       [1024,    0],\n",
       "       [1024,    2],\n",
       "       [1026,    2],\n",
       "       [1026,    4],\n",
       "       [1028,    0],\n",
       "       [1028,    3],\n",
       "       [1028,    4],\n",
       "       [1029,    0],\n",
       "       [1030,    1],\n",
       "       [1030,    5],\n",
       "       [1032,    0],\n",
       "       [1032,    5],\n",
       "       [1034,    3],\n",
       "       [1035,    4],\n",
       "       [1036,    2],\n",
       "       [1037,    1],\n",
       "       [1038,    4],\n",
       "       [1039,    3],\n",
       "       [1040,    0]])"
      ]
     },
     "execution_count": 66,
     "metadata": {},
     "output_type": "execute_result"
    }
   ],
   "execution_count": 66
  },
  {
   "cell_type": "code",
   "metadata": {
    "ExecuteTime": {
     "end_time": "2024-08-09T20:56:09.415487Z",
     "start_time": "2024-08-09T20:56:09.412369Z"
    }
   },
   "source": [
    "lending_co_data_numeric_NAN[175]"
   ],
   "outputs": [
    {
     "data": {
      "text/plain": [
       "array([ 2000.,    nan,    nan,  1851.,  3051., 13561.])"
      ]
     },
     "execution_count": 67,
     "metadata": {},
     "output_type": "execute_result"
    }
   ],
   "execution_count": 67
  },
  {
   "cell_type": "code",
   "metadata": {
    "ExecuteTime": {
     "end_time": "2024-08-09T20:56:09.502323Z",
     "start_time": "2024-08-09T20:56:09.500155Z"
    }
   },
   "source": [
    "for array_index in np.argwhere(np.isnan(lending_co_data_numeric_NAN)):\n",
    "    lending_co_data_numeric_NAN[array_index[0], array_index[1]] = 0\n",
    "\n",
    "## By going through the coordinates of all the mising values of the array, we can fill them up. "
   ],
   "outputs": [],
   "execution_count": 68
  },
  {
   "cell_type": "code",
   "metadata": {
    "ExecuteTime": {
     "end_time": "2024-08-09T20:56:09.530168Z",
     "start_time": "2024-08-09T20:56:09.527441Z"
    }
   },
   "source": [
    "lending_co_data_numeric_NAN[175]"
   ],
   "outputs": [
    {
     "data": {
      "text/plain": [
       "array([ 2000.,     0.,     0.,  1851.,  3051., 13561.])"
      ]
     },
     "execution_count": 69,
     "metadata": {},
     "output_type": "execute_result"
    }
   ],
   "execution_count": 69
  },
  {
   "cell_type": "code",
   "metadata": {
    "ExecuteTime": {
     "end_time": "2024-08-09T20:56:09.593768Z",
     "start_time": "2024-08-09T20:56:09.591034Z"
    }
   },
   "source": [
    "np.isnan(lending_co_data_numeric_NAN).sum()"
   ],
   "outputs": [
    {
     "data": {
      "text/plain": [
       "0"
      ]
     },
     "execution_count": 70,
     "metadata": {},
     "output_type": "execute_result"
    }
   ],
   "execution_count": 70
  },
  {
   "cell_type": "markdown",
   "metadata": {},
   "source": [
    "## Shuffling Data"
   ]
  },
  {
   "cell_type": "code",
   "metadata": {
    "ExecuteTime": {
     "end_time": "2024-08-09T20:56:09.655899Z",
     "start_time": "2024-08-09T20:56:09.652318Z"
    }
   },
   "source": [
    "lending_co_data_numeric = np.loadtxt(\"files/Lending-Company-Numeric-Data.csv\", delimiter = ',')[:8]\n",
    "lending_co_data_numeric\n",
    "\n",
    "# We can directly index the output of the np.loadtxt() function to only take certain parts of the dataset. "
   ],
   "outputs": [
    {
     "data": {
      "text/plain": [
       "array([[ 2000.,    40.,   365.,  3121.,  4241., 13621.],\n",
       "       [ 2000.,    40.,   365.,  3061.,  4171., 15041.],\n",
       "       [ 1000.,    40.,   365.,  2160.,  3280., 15340.],\n",
       "       [ 2000.,    40.,   365.,  3041.,  4241., 15321.],\n",
       "       [ 2000.,    50.,   365.,  3470.,  4820., 13720.],\n",
       "       [ 2000.,    40.,   365.,  3201.,  4141., 14141.],\n",
       "       [ 2000.,    50.,   365.,  1851.,  3251., 17701.],\n",
       "       [ 2000.,    40.,   365.,  3971.,  4131., 15351.]])"
      ]
     },
     "execution_count": 71,
     "metadata": {},
     "output_type": "execute_result"
    }
   ],
   "execution_count": 71
  },
  {
   "cell_type": "code",
   "metadata": {
    "ExecuteTime": {
     "end_time": "2024-08-09T20:56:09.707136Z",
     "start_time": "2024-08-09T20:56:09.704633Z"
    }
   },
   "source": [
    "np.random.shuffle(lending_co_data_numeric)\n",
    "\n",
    "# Shuffles the array (and automatically overwrites it)."
   ],
   "outputs": [],
   "execution_count": 72
  },
  {
   "cell_type": "code",
   "metadata": {
    "scrolled": true,
    "ExecuteTime": {
     "end_time": "2024-08-09T20:56:09.774463Z",
     "start_time": "2024-08-09T20:56:09.771973Z"
    }
   },
   "source": [
    "lending_co_data_numeric"
   ],
   "outputs": [
    {
     "data": {
      "text/plain": [
       "array([[ 1000.,    40.,   365.,  2160.,  3280., 15340.],\n",
       "       [ 2000.,    50.,   365.,  1851.,  3251., 17701.],\n",
       "       [ 2000.,    50.,   365.,  3470.,  4820., 13720.],\n",
       "       [ 2000.,    40.,   365.,  3061.,  4171., 15041.],\n",
       "       [ 2000.,    40.,   365.,  3041.,  4241., 15321.],\n",
       "       [ 2000.,    40.,   365.,  3121.,  4241., 13621.],\n",
       "       [ 2000.,    40.,   365.,  3971.,  4131., 15351.],\n",
       "       [ 2000.,    40.,   365.,  3201.,  4141., 14141.]])"
      ]
     },
     "execution_count": 73,
     "metadata": {},
     "output_type": "execute_result"
    }
   ],
   "execution_count": 73
  },
  {
   "cell_type": "code",
   "metadata": {
    "ExecuteTime": {
     "end_time": "2024-08-09T20:56:09.849171Z",
     "start_time": "2024-08-09T20:56:09.846409Z"
    }
   },
   "source": [
    "np.random.shuffle(lending_co_data_numeric)\n",
    "lending_co_data_numeric\n",
    "\n",
    "# We can shuffle the array as many times as we wish (although 1 usually suffices)."
   ],
   "outputs": [
    {
     "data": {
      "text/plain": [
       "array([[ 2000.,    40.,   365.,  3971.,  4131., 15351.],\n",
       "       [ 2000.,    40.,   365.,  3041.,  4241., 15321.],\n",
       "       [ 2000.,    40.,   365.,  3121.,  4241., 13621.],\n",
       "       [ 2000.,    50.,   365.,  3470.,  4820., 13720.],\n",
       "       [ 2000.,    40.,   365.,  3061.,  4171., 15041.],\n",
       "       [ 2000.,    50.,   365.,  1851.,  3251., 17701.],\n",
       "       [ 1000.,    40.,   365.,  2160.,  3280., 15340.],\n",
       "       [ 2000.,    40.,   365.,  3201.,  4141., 14141.]])"
      ]
     },
     "execution_count": 74,
     "metadata": {},
     "output_type": "execute_result"
    }
   ],
   "execution_count": 74
  },
  {
   "cell_type": "code",
   "metadata": {
    "ExecuteTime": {
     "end_time": "2024-08-09T20:56:09.874271Z",
     "start_time": "2024-08-09T20:56:09.871090Z"
    }
   },
   "source": [
    "lending_co_data_numeric = np.loadtxt(\"files/Lending-Company-Numeric-Data.csv\", delimiter = ',')\n",
    "lending_co_data_numeric\n",
    "\n",
    "# We can now use the entire dataset. "
   ],
   "outputs": [
    {
     "data": {
      "text/plain": [
       "array([[ 2000.,    40.,   365.,  3121.,  4241., 13621.],\n",
       "       [ 2000.,    40.,   365.,  3061.,  4171., 15041.],\n",
       "       [ 1000.,    40.,   365.,  2160.,  3280., 15340.],\n",
       "       ...,\n",
       "       [ 2000.,    40.,   365.,  4201.,  5001., 16600.],\n",
       "       [ 1000.,    40.,   365.,  2080.,  3320., 15600.],\n",
       "       [ 2000.,    40.,   365.,  4601.,  4601., 16600.]])"
      ]
     },
     "execution_count": 75,
     "metadata": {},
     "output_type": "execute_result"
    }
   ],
   "execution_count": 75
  },
  {
   "cell_type": "code",
   "metadata": {
    "ExecuteTime": {
     "end_time": "2024-08-09T20:56:09.939998Z",
     "start_time": "2024-08-09T20:56:09.926376Z"
    }
   },
   "source": [
    "from numpy.random import shuffle\n",
    "\n",
    "# We can import functions we use multiple times for convenience. "
   ],
   "outputs": [],
   "execution_count": 76
  },
  {
   "cell_type": "code",
   "metadata": {
    "scrolled": true,
    "ExecuteTime": {
     "end_time": "2024-08-09T20:56:10.027891Z",
     "start_time": "2024-08-09T20:56:10.023085Z"
    }
   },
   "source": [
    "shuffle(lending_co_data_numeric)\n",
    "lending_co_data_numeric\n",
    "\n",
    "# We write shuffle() instead of numpy.random.shuffle() since we imported the function earlier. "
   ],
   "outputs": [
    {
     "data": {
      "text/plain": [
       "array([[ 1000.,    40.,   365.,  2000.,  3400., 15600.],\n",
       "       [ 2000.,    40.,   365.,  3240.,  4720., 16600.],\n",
       "       [ 1000.,    50.,   365.,   650.,  2000., 16350.],\n",
       "       ...,\n",
       "       [ 1000.,    40.,   365.,  2200.,  4600., 15600.],\n",
       "       [ 1000.,    50.,   365.,   450.,  1850., 15700.],\n",
       "       [ 4000.,    50.,   365.,  5453.,  5623., 13443.]])"
      ]
     },
     "execution_count": 77,
     "metadata": {},
     "output_type": "execute_result"
    }
   ],
   "execution_count": 77
  },
  {
   "cell_type": "code",
   "metadata": {
    "ExecuteTime": {
     "end_time": "2024-08-09T20:56:10.160844Z",
     "start_time": "2024-08-09T20:56:10.157845Z"
    }
   },
   "source": [
    "from numpy.random import Generator as gen\n",
    "from numpy.random import PCG64 as pcg\n",
    "\n",
    "# Random generators can be used for shuffling. "
   ],
   "outputs": [],
   "execution_count": 78
  },
  {
   "cell_type": "code",
   "metadata": {
    "ExecuteTime": {
     "end_time": "2024-08-09T20:56:10.213967Z",
     "start_time": "2024-08-09T20:56:10.207413Z"
    }
   },
   "source": [
    "array_RG = gen(pcg(seed = 365))\n",
    "array_RG.shuffle(lending_co_data_numeric)\n",
    "lending_co_data_numeric\n",
    "\n",
    "# Seeds don't work for shuffling (and it's intended)."
   ],
   "outputs": [
    {
     "data": {
      "text/plain": [
       "array([[ 1000.,    50.,   365.,   750.,  2250., 17250.],\n",
       "       [ 2000.,    40.,   365.,  5401.,  6781., 16600.],\n",
       "       [ 1000.,    40.,   365.,  2200.,  3770., 15600.],\n",
       "       ...,\n",
       "       [ 2000.,    40.,   365.,  2961.,  3921., 11699.],\n",
       "       [ 1000.,    40.,   365.,  2520.,  3740., 15600.],\n",
       "       [ 2000.,    40.,   365.,  3401.,  4631., 12821.]])"
      ]
     },
     "execution_count": 79,
     "metadata": {},
     "output_type": "execute_result"
    }
   ],
   "execution_count": 79
  },
  {
   "cell_type": "markdown",
   "metadata": {},
   "source": [
    "## Casting"
   ]
  },
  {
   "cell_type": "code",
   "metadata": {
    "ExecuteTime": {
     "end_time": "2024-08-09T20:56:10.323133Z",
     "start_time": "2024-08-09T20:56:10.316065Z"
    }
   },
   "source": [
    "lending_co_data_numeric = np.loadtxt(\"files/Lending-Company-Numeric-Data.csv\", delimiter = ',') \n",
    "lending_co_data_numeric"
   ],
   "outputs": [
    {
     "data": {
      "text/plain": [
       "array([[ 2000.,    40.,   365.,  3121.,  4241., 13621.],\n",
       "       [ 2000.,    40.,   365.,  3061.,  4171., 15041.],\n",
       "       [ 1000.,    40.,   365.,  2160.,  3280., 15340.],\n",
       "       ...,\n",
       "       [ 2000.,    40.,   365.,  4201.,  5001., 16600.],\n",
       "       [ 1000.,    40.,   365.,  2080.,  3320., 15600.],\n",
       "       [ 2000.,    40.,   365.,  4601.,  4601., 16600.]])"
      ]
     },
     "execution_count": 80,
     "metadata": {},
     "output_type": "execute_result"
    }
   ],
   "execution_count": 80
  },
  {
   "cell_type": "code",
   "metadata": {
    "ExecuteTime": {
     "end_time": "2024-08-09T20:56:10.390128Z",
     "start_time": "2024-08-09T20:56:10.386353Z"
    }
   },
   "source": [
    "lending_co_data_numeric.astype(dtype = np.int32)\n",
    "\n",
    "# Creates an integer version of the array. "
   ],
   "outputs": [
    {
     "data": {
      "text/plain": [
       "array([[ 2000,    40,   365,  3121,  4241, 13621],\n",
       "       [ 2000,    40,   365,  3061,  4171, 15041],\n",
       "       [ 1000,    40,   365,  2160,  3280, 15340],\n",
       "       ...,\n",
       "       [ 2000,    40,   365,  4201,  5001, 16600],\n",
       "       [ 1000,    40,   365,  2080,  3320, 15600],\n",
       "       [ 2000,    40,   365,  4601,  4601, 16600]], dtype=int32)"
      ]
     },
     "execution_count": 81,
     "metadata": {},
     "output_type": "execute_result"
    }
   ],
   "execution_count": 81
  },
  {
   "cell_type": "code",
   "metadata": {
    "ExecuteTime": {
     "end_time": "2024-08-09T20:56:10.445248Z",
     "start_time": "2024-08-09T20:56:10.441571Z"
    }
   },
   "source": [
    "lending_co_data_numeric = lending_co_data_numeric.astype(dtype = np.str_)\n",
    "\n",
    "# We need to overwrite the variable in order to work with strings. "
   ],
   "outputs": [],
   "execution_count": 82
  },
  {
   "cell_type": "code",
   "metadata": {
    "ExecuteTime": {
     "end_time": "2024-08-09T20:56:10.519998Z",
     "start_time": "2024-08-09T20:56:10.517600Z"
    }
   },
   "source": [
    "lending_co_data_numeric"
   ],
   "outputs": [
    {
     "data": {
      "text/plain": [
       "array([['2000.0', '40.0', '365.0', '3121.0', '4241.0', '13621.0'],\n",
       "       ['2000.0', '40.0', '365.0', '3061.0', '4171.0', '15041.0'],\n",
       "       ['1000.0', '40.0', '365.0', '2160.0', '3280.0', '15340.0'],\n",
       "       ...,\n",
       "       ['2000.0', '40.0', '365.0', '4201.0', '5001.0', '16600.0'],\n",
       "       ['1000.0', '40.0', '365.0', '2080.0', '3320.0', '15600.0'],\n",
       "       ['2000.0', '40.0', '365.0', '4601.0', '4601.0', '16600.0']],\n",
       "      dtype='<U32')"
      ]
     },
     "execution_count": 83,
     "metadata": {},
     "output_type": "execute_result"
    }
   ],
   "execution_count": 83
  },
  {
   "cell_type": "code",
   "metadata": {
    "ExecuteTime": {
     "end_time": "2024-08-09T20:56:10.582081Z",
     "start_time": "2024-08-09T20:56:10.579737Z"
    }
   },
   "source": [
    "type(lending_co_data_numeric)"
   ],
   "outputs": [
    {
     "data": {
      "text/plain": [
       "numpy.ndarray"
      ]
     },
     "execution_count": 84,
     "metadata": {},
     "output_type": "execute_result"
    }
   ],
   "execution_count": 84
  },
  {
   "cell_type": "code",
   "metadata": {
    "ExecuteTime": {
     "end_time": "2024-08-09T20:56:10.642848Z",
     "start_time": "2024-08-09T20:56:10.636582Z"
    }
   },
   "source": [
    "lending_co_data_numeric = lending_co_data_numeric.astype(dtype = np.float32)\n",
    "lending_co_data_numeric.astype(dtype = np.int32)\n",
    "\n",
    "## We can't directly cast strings to integers. We can go through floats (string -> float -> integer)."
   ],
   "outputs": [
    {
     "data": {
      "text/plain": [
       "array([[ 2000,    40,   365,  3121,  4241, 13621],\n",
       "       [ 2000,    40,   365,  3061,  4171, 15041],\n",
       "       [ 1000,    40,   365,  2160,  3280, 15340],\n",
       "       ...,\n",
       "       [ 2000,    40,   365,  4201,  5001, 16600],\n",
       "       [ 1000,    40,   365,  2080,  3320, 15600],\n",
       "       [ 2000,    40,   365,  4601,  4601, 16600]], dtype=int32)"
      ]
     },
     "execution_count": 85,
     "metadata": {},
     "output_type": "execute_result"
    }
   ],
   "execution_count": 85
  },
  {
   "cell_type": "code",
   "metadata": {
    "ExecuteTime": {
     "end_time": "2024-08-09T20:56:10.718241Z",
     "start_time": "2024-08-09T20:56:10.713443Z"
    }
   },
   "source": [
    "lending_co_data_numeric = np.loadtxt(\"files/Lending-Company-Numeric-Data.csv\", delimiter = ',')\n",
    "lending_co_data_numeric = lending_co_data_numeric.astype(dtype = np.str_)\n",
    "lending_co_data_numeric\n",
    "\n",
    "# To showcase the other way to go from strings to integers, we need to get the strings version of the array once again. "
   ],
   "outputs": [
    {
     "data": {
      "text/plain": [
       "array([['2000.0', '40.0', '365.0', '3121.0', '4241.0', '13621.0'],\n",
       "       ['2000.0', '40.0', '365.0', '3061.0', '4171.0', '15041.0'],\n",
       "       ['1000.0', '40.0', '365.0', '2160.0', '3280.0', '15340.0'],\n",
       "       ...,\n",
       "       ['2000.0', '40.0', '365.0', '4201.0', '5001.0', '16600.0'],\n",
       "       ['1000.0', '40.0', '365.0', '2080.0', '3320.0', '15600.0'],\n",
       "       ['2000.0', '40.0', '365.0', '4601.0', '4601.0', '16600.0']],\n",
       "      dtype='<U32')"
      ]
     },
     "execution_count": 86,
     "metadata": {},
     "output_type": "execute_result"
    }
   ],
   "execution_count": 86
  },
  {
   "cell_type": "code",
   "metadata": {
    "ExecuteTime": {
     "end_time": "2024-08-09T20:56:10.759592Z",
     "start_time": "2024-08-09T20:56:10.750526Z"
    }
   },
   "source": [
    "lending_co_data_numeric.astype(dtype = np.float32).astype(dtype = np.int32)\n",
    "lending_co_data_numeric\n",
    "\n",
    "## We can chain methods in NumPy."
   ],
   "outputs": [
    {
     "data": {
      "text/plain": [
       "array([['2000.0', '40.0', '365.0', '3121.0', '4241.0', '13621.0'],\n",
       "       ['2000.0', '40.0', '365.0', '3061.0', '4171.0', '15041.0'],\n",
       "       ['1000.0', '40.0', '365.0', '2160.0', '3280.0', '15340.0'],\n",
       "       ...,\n",
       "       ['2000.0', '40.0', '365.0', '4201.0', '5001.0', '16600.0'],\n",
       "       ['1000.0', '40.0', '365.0', '2080.0', '3320.0', '15600.0'],\n",
       "       ['2000.0', '40.0', '365.0', '4601.0', '4601.0', '16600.0']],\n",
       "      dtype='<U32')"
      ]
     },
     "execution_count": 87,
     "metadata": {},
     "output_type": "execute_result"
    }
   ],
   "execution_count": 87
  },
  {
   "cell_type": "markdown",
   "metadata": {},
   "source": [
    "## Stripping Data"
   ]
  },
  {
   "cell_type": "code",
   "metadata": {
    "ExecuteTime": {
     "end_time": "2024-08-09T20:56:10.856953Z",
     "start_time": "2024-08-09T20:56:10.849189Z"
    }
   },
   "source": [
    "lending_co_total_price = np.genfromtxt(\"files/Lending-company.csv\",\n",
    "                                       delimiter = ',',\n",
    "                                       dtype = np.str_,\n",
    "                                       skip_header = 1, \n",
    "                                       usecols = [1,2,4])\n",
    "lending_co_total_price\n",
    "\n",
    "# We don't neeed the entire array. We only want a few columns to showcase how stripping data works."
   ],
   "outputs": [
    {
     "data": {
      "text/plain": [
       "array([['LoanID_1', 'Product B', 'Location 3'],\n",
       "       ['LoanID_2', 'Product D', 'Location 6'],\n",
       "       ['LoanID_3', 'Product B', 'Location 8'],\n",
       "       ...,\n",
       "       ['LoanID_1041', 'Product A', 'Location 11'],\n",
       "       ['LoanID_1042', 'Product B', 'Location 26'],\n",
       "       ['LoanID_1043', 'Product A', 'Location 94']], dtype='<U12')"
      ]
     },
     "execution_count": 88,
     "metadata": {},
     "output_type": "execute_result"
    }
   ],
   "execution_count": 88
  },
  {
   "cell_type": "code",
   "metadata": {
    "ExecuteTime": {
     "end_time": "2024-08-09T20:56:10.912666Z",
     "start_time": "2024-08-09T20:56:10.907693Z"
    }
   },
   "source": [
    "lending_co_total_price[:,0] = np.chararray.strip(lending_co_total_price[:,0], \"id_\")\n",
    "lending_co_total_price[:,1] = np.chararray.strip(lending_co_total_price[:,1], \"Product \")\n",
    "lending_co_total_price[:,2] = np.chararray.strip(lending_co_total_price[:,2], \"Location \")\n",
    "lending_co_total_price\n",
    "\n",
    "# Remove \"id_\" from the 1st column, as well as \"Product \" from the second and \"Location \" from the third one. "
   ],
   "outputs": [
    {
     "data": {
      "text/plain": [
       "array([['LoanID_1', 'B', '3'],\n",
       "       ['LoanID_2', 'D', '6'],\n",
       "       ['LoanID_3', 'B', '8'],\n",
       "       ...,\n",
       "       ['LoanID_1041', 'A', '11'],\n",
       "       ['LoanID_1042', 'B', '26'],\n",
       "       ['LoanID_1043', 'A', '94']], dtype='<U12')"
      ]
     },
     "execution_count": 89,
     "metadata": {},
     "output_type": "execute_result"
    }
   ],
   "execution_count": 89
  },
  {
   "cell_type": "code",
   "metadata": {
    "ExecuteTime": {
     "end_time": "2024-08-09T20:56:11.009776Z",
     "start_time": "2024-08-09T20:56:11.005183Z"
    }
   },
   "source": [
    "lending_co_total_price[:,1] = np.where(lending_co_total_price[:,1] == 'A', 1, lending_co_total_price[:,1]) \n",
    "lending_co_total_price[:,1] = np.where(lending_co_total_price[:,1] == 'B', 2, lending_co_total_price[:,1]) \n",
    "lending_co_total_price[:,1] = np.where(lending_co_total_price[:,1] == 'C', 3, lending_co_total_price[:,1]) \n",
    "lending_co_total_price[:,1] = np.where(lending_co_total_price[:,1] == 'D', 4, lending_co_total_price[:,1]) \n",
    "lending_co_total_price[:,1] = np.where(lending_co_total_price[:,1] == 'E', 5, lending_co_total_price[:,1]) \n",
    "lending_co_total_price[:,1] = np.where(lending_co_total_price[:,1] == 'F', 6, lending_co_total_price[:,1]) \n",
    "\n",
    "lending_co_total_price\n",
    "\n",
    "# We can combine stripping with substituting to transform all the letters in numbers. "
   ],
   "outputs": [
    {
     "data": {
      "text/plain": [
       "array([['LoanID_1', '2', '3'],\n",
       "       ['LoanID_2', '4', '6'],\n",
       "       ['LoanID_3', '2', '8'],\n",
       "       ...,\n",
       "       ['LoanID_1041', '1', '11'],\n",
       "       ['LoanID_1042', '2', '26'],\n",
       "       ['LoanID_1043', '1', '94']], dtype='<U12')"
      ]
     },
     "execution_count": 90,
     "metadata": {},
     "output_type": "execute_result"
    }
   ],
   "execution_count": 90
  },
  {
   "cell_type": "code",
   "metadata": {
    "ExecuteTime": {
     "end_time": "2024-08-09T20:56:11.180450Z",
     "start_time": "2024-08-09T20:56:11.028677Z"
    }
   },
   "source": [
    "lending_co_total_price = lending_co_total_price.astype(dtype = np.int32)\n",
    "lending_co_total_price\n",
    "\n",
    "# Even though the values look like numbers, they're actually just text, so we need to cast them once again. "
   ],
   "outputs": [
    {
     "ename": "ValueError",
     "evalue": "invalid literal for int() with base 10: 'LoanID_1'",
     "output_type": "error",
     "traceback": [
      "\u001B[0;31m---------------------------------------------------------------------------\u001B[0m",
      "\u001B[0;31mValueError\u001B[0m                                Traceback (most recent call last)",
      "Cell \u001B[0;32mIn[91], line 1\u001B[0m\n\u001B[0;32m----> 1\u001B[0m lending_co_total_price \u001B[38;5;241m=\u001B[39m \u001B[43mlending_co_total_price\u001B[49m\u001B[38;5;241;43m.\u001B[39;49m\u001B[43mastype\u001B[49m\u001B[43m(\u001B[49m\u001B[43mdtype\u001B[49m\u001B[43m \u001B[49m\u001B[38;5;241;43m=\u001B[39;49m\u001B[43m \u001B[49m\u001B[43mnp\u001B[49m\u001B[38;5;241;43m.\u001B[39;49m\u001B[43mint32\u001B[49m\u001B[43m)\u001B[49m\n\u001B[1;32m      2\u001B[0m lending_co_total_price\n\u001B[1;32m      4\u001B[0m \u001B[38;5;66;03m# Even though the values look like numbers, they're actually just text, so we need to cast them once again. \u001B[39;00m\n",
      "\u001B[0;31mValueError\u001B[0m: invalid literal for int() with base 10: 'LoanID_1'"
     ]
    }
   ],
   "execution_count": 91
  },
  {
   "cell_type": "markdown",
   "metadata": {},
   "source": [
    "## Stacking"
   ]
  },
  {
   "cell_type": "code",
   "metadata": {
    "scrolled": true,
    "ExecuteTime": {
     "end_time": "2024-08-09T20:56:11.181608Z",
     "start_time": "2024-08-09T20:56:11.181542Z"
    }
   },
   "source": [
    "lending_co_data_numeric = np.loadtxt(\"files/Lending-Company-Numeric-Data.csv\", delimiter = ',') \n",
    "lending_co_data_numeric"
   ],
   "outputs": [],
   "execution_count": null
  },
  {
   "cell_type": "code",
   "metadata": {},
   "source": [
    "# Recall\n",
    "\n",
    "lending_co_data_numeric_NAN = np.genfromtxt(\"files/Lending-Company-Numeric-Data-NAN.csv\", delimiter = ';')\n",
    "\n",
    "temporary_fill = np.nanmax(lending_co_data_numeric_NAN).round(2) + 1\n",
    "temporary_mean = np.nanmean(lending_co_data_numeric_NAN, axis = 0).round(2)\n",
    "\n",
    "lending_co_data_numeric_NAN = np.genfromtxt(\"files/Lending-Company-Numeric-Data-NAN.csv\", \n",
    "                                            delimiter = ';', \n",
    "                                            filling_values = temporary_fill)\n",
    "\n",
    "for i in range(lending_co_data_numeric_NAN.shape[1]):\n",
    "    lending_co_data_numeric_NAN[:,i] = np.where(lending_co_data_numeric_NAN[:,i] == temporary_fill,\n",
    "                                                temporary_mean[i],\n",
    "                                                lending_co_data_numeric_NAN[:,i])\n",
    "lending_co_data_numeric_NAN\n",
    "\n",
    "\n",
    "## We create a filler, reimport and fill all the nan-s, then subsitute all the temporary fillers with more appropriate values"
   ],
   "outputs": [],
   "execution_count": null
  },
  {
   "cell_type": "code",
   "metadata": {
    "ExecuteTime": {
     "end_time": "2024-08-09T20:56:11.204883Z",
     "start_time": "2024-08-09T20:56:11.201206Z"
    }
   },
   "source": [
    "np.stack((lending_co_data_numeric[:,1],lending_co_data_numeric[:,0]))\n",
    "\n",
    "# Stacking the first 2 columns. (We can stack them in any order we like)"
   ],
   "outputs": [
    {
     "data": {
      "text/plain": [
       "array([['40.0', '40.0', '40.0', ..., '40.0', '40.0', '40.0'],\n",
       "       ['2000.0', '2000.0', '1000.0', ..., '2000.0', '1000.0', '2000.0']],\n",
       "      dtype='<U32')"
      ]
     },
     "execution_count": 92,
     "metadata": {},
     "output_type": "execute_result"
    }
   ],
   "execution_count": 92
  },
  {
   "cell_type": "code",
   "metadata": {
    "ExecuteTime": {
     "end_time": "2024-08-09T20:56:11.216968Z",
     "start_time": "2024-08-09T20:56:11.214192Z"
    }
   },
   "source": [
    "np.transpose(lending_co_data_numeric[:,:2])"
   ],
   "outputs": [
    {
     "data": {
      "text/plain": [
       "array([['2000.0', '2000.0', '1000.0', ..., '2000.0', '1000.0', '2000.0'],\n",
       "       ['40.0', '40.0', '40.0', ..., '40.0', '40.0', '40.0']],\n",
       "      dtype='<U32')"
      ]
     },
     "execution_count": 93,
     "metadata": {},
     "output_type": "execute_result"
    }
   ],
   "execution_count": 93
  },
  {
   "cell_type": "code",
   "metadata": {
    "ExecuteTime": {
     "end_time": "2024-08-09T20:56:11.463503Z",
     "start_time": "2024-08-09T20:56:11.459434Z"
    }
   },
   "source": [
    "np.stack((lending_co_data_numeric[:,0],lending_co_data_numeric[:,1], lending_co_data_numeric[:,2]), axis = 1)\n",
    "\n",
    "# We can stack more than 2 arrays. "
   ],
   "outputs": [
    {
     "data": {
      "text/plain": [
       "array([['2000.0', '40.0', '365.0'],\n",
       "       ['2000.0', '40.0', '365.0'],\n",
       "       ['1000.0', '40.0', '365.0'],\n",
       "       ...,\n",
       "       ['2000.0', '40.0', '365.0'],\n",
       "       ['1000.0', '40.0', '365.0'],\n",
       "       ['2000.0', '40.0', '365.0']], dtype='<U32')"
      ]
     },
     "execution_count": 94,
     "metadata": {},
     "output_type": "execute_result"
    }
   ],
   "execution_count": 94
  },
  {
   "cell_type": "code",
   "metadata": {
    "ExecuteTime": {
     "end_time": "2024-08-09T20:56:11.592324Z",
     "start_time": "2024-08-09T20:56:11.589885Z"
    }
   },
   "source": [
    "lending_co_data_numeric_NAN.shape"
   ],
   "outputs": [
    {
     "data": {
      "text/plain": [
       "(1043, 6)"
      ]
     },
     "execution_count": 95,
     "metadata": {},
     "output_type": "execute_result"
    }
   ],
   "execution_count": 95
  },
  {
   "cell_type": "code",
   "metadata": {
    "ExecuteTime": {
     "end_time": "2024-08-09T20:56:11.617597Z",
     "start_time": "2024-08-09T20:56:11.613458Z"
    }
   },
   "source": [
    "np.dstack((lending_co_data_numeric, lending_co_data_numeric_NAN))[0,:,0]\n",
    "\n",
    "# We can stack 2-D arrays as well. "
   ],
   "outputs": [
    {
     "data": {
      "text/plain": [
       "array(['2000.0', '40.0', '365.0', '3121.0', '4241.0', '13621.0'],\n",
       "      dtype='<U32')"
      ]
     },
     "execution_count": 96,
     "metadata": {},
     "output_type": "execute_result"
    }
   ],
   "execution_count": 96
  },
  {
   "cell_type": "code",
   "metadata": {
    "ExecuteTime": {
     "end_time": "2024-08-09T20:56:11.713285Z",
     "start_time": "2024-08-09T20:56:11.708089Z"
    }
   },
   "source": [
    "np.stack((lending_co_data_numeric, lending_co_data_numeric_NAN), axis = -1)\n",
    "\n",
    "# We can stack along a given axis (with np.stack())"
   ],
   "outputs": [
    {
     "data": {
      "text/plain": [
       "array([[['2000.0', '2000.0'],\n",
       "        ['40.0', '40.0'],\n",
       "        ['365.0', '365.0'],\n",
       "        ['3121.0', '3121.0'],\n",
       "        ['4241.0', '4241.0'],\n",
       "        ['13621.0', '13621.0']],\n",
       "\n",
       "       [['2000.0', '2000.0'],\n",
       "        ['40.0', '40.0'],\n",
       "        ['365.0', '365.0'],\n",
       "        ['3061.0', '3061.0'],\n",
       "        ['4171.0', '4171.0'],\n",
       "        ['15041.0', '15041.0']],\n",
       "\n",
       "       [['1000.0', '1000.0'],\n",
       "        ['40.0', '40.0'],\n",
       "        ['365.0', '365.0'],\n",
       "        ['2160.0', '2160.0'],\n",
       "        ['3280.0', '3280.0'],\n",
       "        ['15340.0', '15340.0']],\n",
       "\n",
       "       ...,\n",
       "\n",
       "       [['2000.0', '0.0'],\n",
       "        ['40.0', '40.0'],\n",
       "        ['365.0', '365.0'],\n",
       "        ['4201.0', '4201.0'],\n",
       "        ['5001.0', '5001.0'],\n",
       "        ['16600.0', '16600.0']],\n",
       "\n",
       "       [['1000.0', '1000.0'],\n",
       "        ['40.0', '40.0'],\n",
       "        ['365.0', '365.0'],\n",
       "        ['2080.0', '2080.0'],\n",
       "        ['3320.0', '3320.0'],\n",
       "        ['15600.0', '15600.0']],\n",
       "\n",
       "       [['2000.0', '2000.0'],\n",
       "        ['40.0', '40.0'],\n",
       "        ['365.0', '365.0'],\n",
       "        ['4601.0', '4601.0'],\n",
       "        ['4601.0', '4601.0'],\n",
       "        ['16600.0', '16600.0']]], dtype='<U32')"
      ]
     },
     "execution_count": 97,
     "metadata": {},
     "output_type": "execute_result"
    }
   ],
   "execution_count": 97
  },
  {
   "cell_type": "code",
   "metadata": {
    "ExecuteTime": {
     "end_time": "2024-08-09T20:56:11.739819Z",
     "start_time": "2024-08-09T20:56:11.737097Z"
    }
   },
   "source": [
    "array_example_1 = np.array([[[1,2,3,4],[5,6,7,8],[9,10,11,12]],[[21,22,23,24],[25,26,27,28],[29,30,31,32]]])\n",
    "array_example_2 = array_example_1 * 2\n",
    "\n",
    "# We're quickly creating some 3-D arrays to showcase how dstack works for higher dimensions. "
   ],
   "outputs": [],
   "execution_count": 98
  },
  {
   "cell_type": "code",
   "metadata": {
    "ExecuteTime": {
     "end_time": "2024-08-09T20:56:11.822287Z",
     "start_time": "2024-08-09T20:56:11.819594Z"
    }
   },
   "source": [
    "np.dstack((array_example_1, array_example_2)).shape"
   ],
   "outputs": [
    {
     "data": {
      "text/plain": [
       "(2, 3, 8)"
      ]
     },
     "execution_count": 99,
     "metadata": {},
     "output_type": "execute_result"
    }
   ],
   "execution_count": 99
  },
  {
   "cell_type": "code",
   "metadata": {
    "ExecuteTime": {
     "end_time": "2024-08-09T20:56:11.871520Z",
     "start_time": "2024-08-09T20:56:11.868482Z"
    }
   },
   "source": [
    "np.stack((array_example_1, array_example_2), axis = 2).shape\n",
    "\n",
    "# We can no longer replicate the output of dstack by simply specifying an axis. "
   ],
   "outputs": [
    {
     "data": {
      "text/plain": [
       "(2, 3, 2, 4)"
      ]
     },
     "execution_count": 100,
     "metadata": {},
     "output_type": "execute_result"
    }
   ],
   "execution_count": 100
  },
  {
   "cell_type": "markdown",
   "metadata": {},
   "source": [
    "## Concatenate"
   ]
  },
  {
   "cell_type": "code",
   "metadata": {
    "scrolled": true,
    "ExecuteTime": {
     "end_time": "2024-08-09T20:56:11.938170Z",
     "start_time": "2024-08-09T20:56:11.929191Z"
    }
   },
   "source": [
    "lending_co_data_numeric = np.loadtxt(\"files/Lending-Company-Numeric-Data.csv\", delimiter = ',') \n",
    "lending_co_data_numeric"
   ],
   "outputs": [
    {
     "data": {
      "text/plain": [
       "array([[ 2000.,    40.,   365.,  3121.,  4241., 13621.],\n",
       "       [ 2000.,    40.,   365.,  3061.,  4171., 15041.],\n",
       "       [ 1000.,    40.,   365.,  2160.,  3280., 15340.],\n",
       "       ...,\n",
       "       [ 2000.,    40.,   365.,  4201.,  5001., 16600.],\n",
       "       [ 1000.,    40.,   365.,  2080.,  3320., 15600.],\n",
       "       [ 2000.,    40.,   365.,  4601.,  4601., 16600.]])"
      ]
     },
     "execution_count": 101,
     "metadata": {},
     "output_type": "execute_result"
    }
   ],
   "execution_count": 101
  },
  {
   "cell_type": "code",
   "metadata": {
    "ExecuteTime": {
     "end_time": "2024-08-09T20:56:12.011607Z",
     "start_time": "2024-08-09T20:56:12.008748Z"
    }
   },
   "source": [
    "np.concatenate((lending_co_data_numeric[0,:], lending_co_data_numeric[1,:]))\n",
    "\n",
    "# The concatenated array has the same number of dimensions as the inputs. "
   ],
   "outputs": [
    {
     "data": {
      "text/plain": [
       "array([ 2000.,    40.,   365.,  3121.,  4241., 13621.,  2000.,    40.,\n",
       "         365.,  3061.,  4171., 15041.])"
      ]
     },
     "execution_count": 102,
     "metadata": {},
     "output_type": "execute_result"
    }
   ],
   "execution_count": 102
  },
  {
   "cell_type": "code",
   "metadata": {
    "ExecuteTime": {
     "end_time": "2024-08-09T20:56:12.089017Z",
     "start_time": "2024-08-09T20:56:12.079396Z"
    }
   },
   "source": [
    "#Recall: \n",
    "    \n",
    "lending_co_data_numeric_NAN = np.genfromtxt(\"files/Lending-Company-Numeric-Data-NAN.csv\", delimiter = ';')\n",
    "\n",
    "temporary_fill = np.nanmax(lending_co_data_numeric_NAN).round(2) + 1\n",
    "temporary_mean = np.nanmean(lending_co_data_numeric_NAN, axis = 0).round(2)\n",
    "\n",
    "lending_co_data_numeric_NAN = np.genfromtxt(\"files/Lending-Company-Numeric-Data-NAN.csv\",\n",
    "                                            delimiter = ';', \n",
    "                                            filling_values = temporary_fill)\n",
    "\n",
    "for i in range(lending_co_data_numeric_NAN.shape[1]):        \n",
    "    lending_co_data_numeric_NAN[:,i] = np.where(lending_co_data_numeric_NAN[:,i] == temporary_fill,\n",
    "                                                temporary_mean[i],\n",
    "                                                lending_co_data_numeric_NAN[:,i])\n",
    "    \n",
    "lending_co_data_numeric_NAN"
   ],
   "outputs": [
    {
     "data": {
      "text/plain": [
       "array([[ 2000.  ,    40.  ,   365.  ,  3121.  ,  4241.  , 13621.  ],\n",
       "       [ 2000.  ,    40.  ,   365.  ,  3061.  ,  4171.  , 15041.  ],\n",
       "       [ 1000.  ,    40.  ,   365.  ,  2160.  ,  3280.  , 15340.  ],\n",
       "       ...,\n",
       "       [ 2250.25,    40.  ,   365.  ,  4201.  ,  5001.  , 16600.  ],\n",
       "       [ 1000.  ,    40.  ,   365.  ,  2080.  ,  3320.  , 15600.  ],\n",
       "       [ 2000.  ,    40.  ,   365.  ,  4601.  ,  4601.  , 16600.  ]])"
      ]
     },
     "execution_count": 103,
     "metadata": {},
     "output_type": "execute_result"
    }
   ],
   "execution_count": 103
  },
  {
   "cell_type": "code",
   "metadata": {
    "ExecuteTime": {
     "end_time": "2024-08-09T20:56:12.136288Z",
     "start_time": "2024-08-09T20:56:12.133734Z"
    }
   },
   "source": [
    "np.concatenate((lending_co_data_numeric, lending_co_data_numeric_NAN), axis = 1).shape"
   ],
   "outputs": [
    {
     "data": {
      "text/plain": [
       "(1043, 12)"
      ]
     },
     "execution_count": 104,
     "metadata": {},
     "output_type": "execute_result"
    }
   ],
   "execution_count": 104
  },
  {
   "cell_type": "code",
   "metadata": {
    "ExecuteTime": {
     "end_time": "2024-08-09T20:56:12.192170Z",
     "start_time": "2024-08-09T20:56:12.189989Z"
    }
   },
   "source": [
    "array_example_1 = np.array([[[1,2,3,4],[5,6,7,8],[9,10,11,12]],[[21,22,23,24],[25,26,27,28],[29,30,31,32]]])\n",
    "array_example_2 = array_example_1 * 2\n",
    "\n",
    "# We create 3-D arrays to showcase concatenate vs stacking"
   ],
   "outputs": [],
   "execution_count": 105
  },
  {
   "cell_type": "code",
   "metadata": {
    "ExecuteTime": {
     "end_time": "2024-08-09T20:56:12.231805Z",
     "start_time": "2024-08-09T20:56:12.228946Z"
    }
   },
   "source": [
    "np.concatenate((array_example_1, array_example_2), axis = 2)"
   ],
   "outputs": [
    {
     "data": {
      "text/plain": [
       "array([[[ 1,  2,  3,  4,  2,  4,  6,  8],\n",
       "        [ 5,  6,  7,  8, 10, 12, 14, 16],\n",
       "        [ 9, 10, 11, 12, 18, 20, 22, 24]],\n",
       "\n",
       "       [[21, 22, 23, 24, 42, 44, 46, 48],\n",
       "        [25, 26, 27, 28, 50, 52, 54, 56],\n",
       "        [29, 30, 31, 32, 58, 60, 62, 64]]])"
      ]
     },
     "execution_count": 106,
     "metadata": {},
     "output_type": "execute_result"
    }
   ],
   "execution_count": 106
  },
  {
   "cell_type": "code",
   "metadata": {
    "ExecuteTime": {
     "end_time": "2024-08-09T20:56:12.310325Z",
     "start_time": "2024-08-09T20:56:12.307604Z"
    }
   },
   "source": [
    "np.dstack((array_example_1, array_example_2))"
   ],
   "outputs": [
    {
     "data": {
      "text/plain": [
       "array([[[ 1,  2,  3,  4,  2,  4,  6,  8],\n",
       "        [ 5,  6,  7,  8, 10, 12, 14, 16],\n",
       "        [ 9, 10, 11, 12, 18, 20, 22, 24]],\n",
       "\n",
       "       [[21, 22, 23, 24, 42, 44, 46, 48],\n",
       "        [25, 26, 27, 28, 50, 52, 54, 56],\n",
       "        [29, 30, 31, 32, 58, 60, 62, 64]]])"
      ]
     },
     "execution_count": 107,
     "metadata": {},
     "output_type": "execute_result"
    }
   ],
   "execution_count": 107
  },
  {
   "cell_type": "code",
   "metadata": {
    "ExecuteTime": {
     "end_time": "2024-08-09T20:56:12.336720Z",
     "start_time": "2024-08-09T20:56:12.333486Z"
    }
   },
   "source": [
    "np.concatenate((lending_co_data_numeric, lending_co_data_numeric[:,:1]), axis = 1)"
   ],
   "outputs": [
    {
     "data": {
      "text/plain": [
       "array([[ 2000.,    40.,   365., ...,  4241., 13621.,  2000.],\n",
       "       [ 2000.,    40.,   365., ...,  4171., 15041.,  2000.],\n",
       "       [ 1000.,    40.,   365., ...,  3280., 15340.,  1000.],\n",
       "       ...,\n",
       "       [ 2000.,    40.,   365., ...,  5001., 16600.,  2000.],\n",
       "       [ 1000.,    40.,   365., ...,  3320., 15600.,  1000.],\n",
       "       [ 2000.,    40.,   365., ...,  4601., 16600.,  2000.]])"
      ]
     },
     "execution_count": 108,
     "metadata": {},
     "output_type": "execute_result"
    }
   ],
   "execution_count": 108
  },
  {
   "cell_type": "markdown",
   "metadata": {},
   "source": [
    "## Unique "
   ]
  },
  {
   "cell_type": "code",
   "metadata": {
    "ExecuteTime": {
     "end_time": "2024-08-09T20:56:12.420934Z",
     "start_time": "2024-08-09T20:56:12.417078Z"
    }
   },
   "source": [
    "lending_co_data_numeric = np.loadtxt(\"files/Lending-Company-Numeric-Data.csv\", delimiter = ',') \n",
    "lending_co_data_numeric"
   ],
   "outputs": [
    {
     "data": {
      "text/plain": [
       "array([[ 2000.,    40.,   365.,  3121.,  4241., 13621.],\n",
       "       [ 2000.,    40.,   365.,  3061.,  4171., 15041.],\n",
       "       [ 1000.,    40.,   365.,  2160.,  3280., 15340.],\n",
       "       ...,\n",
       "       [ 2000.,    40.,   365.,  4201.,  5001., 16600.],\n",
       "       [ 1000.,    40.,   365.,  2080.,  3320., 15600.],\n",
       "       [ 2000.,    40.,   365.,  4601.,  4601., 16600.]])"
      ]
     },
     "execution_count": 109,
     "metadata": {},
     "output_type": "execute_result"
    }
   ],
   "execution_count": 109
  },
  {
   "cell_type": "code",
   "metadata": {
    "scrolled": true,
    "ExecuteTime": {
     "end_time": "2024-08-09T20:56:12.467804Z",
     "start_time": "2024-08-09T20:56:12.462103Z"
    }
   },
   "source": [
    "np.unique(lending_co_data_numeric[:,1], return_counts = True, return_index = True)\n",
    "\n",
    "# Unique -> returns the unique values within the array in increasing order\n",
    "# return_counts -> returns how many times each unique value appears in the array\n",
    "# return_index -> returns the index of the first encounter with each unique value"
   ],
   "outputs": [
    {
     "data": {
      "text/plain": [
       "(array([ 35.,  40.,  50., 125., 165.]),\n",
       " array([327,   0,   4,  19,  27]),\n",
       " array([  4, 567, 451,  19,   2]))"
      ]
     },
     "execution_count": 110,
     "metadata": {},
     "output_type": "execute_result"
    }
   ],
   "execution_count": 110
  },
  {
   "cell_type": "code",
   "metadata": {
    "ExecuteTime": {
     "end_time": "2024-08-09T20:56:12.546153Z",
     "start_time": "2024-08-09T20:56:12.542143Z"
    }
   },
   "source": [
    "array_example = np.array([\"a1\", \"a3\",\"A1\",\"A3\",\"A3\",\"AA1\",\"B1\",\"A2\",\"B1\",\"A2\",\"B2\",\"B2\", \"B3\",\"a2\",\"a3\",\"B3\",\"B3\",\"a3\" ])\n",
    "np.unique(array_example)\n",
    "\n",
    "# If the values of the array are text, the unique function sorts them in \"alphabetical\" order by their ASCII codes. "
   ],
   "outputs": [
    {
     "data": {
      "text/plain": [
       "array(['A1', 'A2', 'A3', 'AA1', 'B1', 'B2', 'B3', 'a1', 'a2', 'a3'],\n",
       "      dtype='<U3')"
      ]
     },
     "execution_count": 111,
     "metadata": {},
     "output_type": "execute_result"
    }
   ],
   "execution_count": 111
  },
  {
   "metadata": {
    "ExecuteTime": {
     "end_time": "2024-08-09T20:56:12.587155Z",
     "start_time": "2024-08-09T20:56:12.585526Z"
    }
   },
   "cell_type": "code",
   "source": "",
   "outputs": [],
   "execution_count": 111
  },
  {
   "metadata": {
    "ExecuteTime": {
     "end_time": "2024-08-09T20:56:12.663377Z",
     "start_time": "2024-08-09T20:56:12.661032Z"
    }
   },
   "cell_type": "code",
   "source": "",
   "outputs": [],
   "execution_count": 111
  }
 ],
 "metadata": {
  "kernelspec": {
   "display_name": "Python 3",
   "language": "python",
   "name": "python3"
  },
  "language_info": {
   "codemirror_mode": {
    "name": "ipython",
    "version": 3
   },
   "file_extension": ".py",
   "mimetype": "text/x-python",
   "name": "python",
   "nbconvert_exporter": "python",
   "pygments_lexer": "ipython3",
   "version": "3.7.6"
  }
 },
 "nbformat": 4,
 "nbformat_minor": 2
}

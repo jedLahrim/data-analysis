{
 "cells": [
  {
   "cell_type": "markdown",
   "metadata": {},
   "source": [
    "## Importing the Packages"
   ]
  },
  {
   "cell_type": "code",
   "metadata": {
    "ExecuteTime": {
     "end_time": "2024-08-10T19:54:29.814718Z",
     "start_time": "2024-08-10T19:54:29.808034Z"
    }
   },
   "source": [
    "import numpy as np"
   ],
   "outputs": [],
   "execution_count": 791
  },
  {
   "cell_type": "code",
   "metadata": {
    "ExecuteTime": {
     "end_time": "2024-08-10T19:54:34.385033Z",
     "start_time": "2024-08-10T19:54:34.372587Z"
    }
   },
   "source": "np.set_printoptions(suppress = True, linewidth = 100, precision = 2)",
   "outputs": [],
   "execution_count": 792
  },
  {
   "cell_type": "markdown",
   "metadata": {},
   "source": [
    "## Importing the Data"
   ]
  },
  {
   "cell_type": "code",
   "metadata": {
    "ExecuteTime": {
     "end_time": "2024-08-10T19:54:34.616593Z",
     "start_time": "2024-08-10T19:54:34.483703Z"
    }
   },
   "source": [
    "raw_data_np = np.genfromtxt(\"../files/loan-data.csv\", delimiter = ';', skip_header = 1, autostrip = True)\n",
    "raw_data_np"
   ],
   "outputs": [
    {
     "data": {
      "text/plain": [
       "array([[48010226.  ,         nan,    35000.  , ...,         nan,         nan,     9452.96],\n",
       "       [57693261.  ,         nan,    30000.  , ...,         nan,         nan,     4679.7 ],\n",
       "       [59432726.  ,         nan,    15000.  , ...,         nan,         nan,     1969.83],\n",
       "       ...,\n",
       "       [50415990.  ,         nan,    10000.  , ...,         nan,         nan,     2185.64],\n",
       "       [46154151.  ,         nan,         nan, ...,         nan,         nan,     3199.4 ],\n",
       "       [66055249.  ,         nan,    10000.  , ...,         nan,         nan,      301.9 ]])"
      ]
     },
     "execution_count": 793,
     "metadata": {},
     "output_type": "execute_result"
    }
   ],
   "execution_count": 793
  },
  {
   "cell_type": "markdown",
   "metadata": {},
   "source": [
    "## Checking for Incomplete Data"
   ]
  },
  {
   "metadata": {
    "ExecuteTime": {
     "end_time": "2024-08-10T19:54:34.649535Z",
     "start_time": "2024-08-10T19:54:34.647592Z"
    }
   },
   "cell_type": "code",
   "source": "",
   "outputs": [],
   "execution_count": 793
  },
  {
   "cell_type": "code",
   "metadata": {
    "scrolled": true,
    "ExecuteTime": {
     "end_time": "2024-08-10T19:54:34.826979Z",
     "start_time": "2024-08-10T19:54:34.823657Z"
    }
   },
   "source": [
    "np.isnan(raw_data_np).sum()"
   ],
   "outputs": [
    {
     "data": {
      "text/plain": [
       "82500"
      ]
     },
     "execution_count": 794,
     "metadata": {},
     "output_type": "execute_result"
    }
   ],
   "execution_count": 794
  },
  {
   "metadata": {
    "ExecuteTime": {
     "end_time": "2024-08-10T19:54:34.992373Z",
     "start_time": "2024-08-10T19:54:34.987758Z"
    }
   },
   "cell_type": "code",
   "source": "raw_data_np",
   "outputs": [
    {
     "data": {
      "text/plain": [
       "array([[48010226.  ,         nan,    35000.  , ...,         nan,         nan,     9452.96],\n",
       "       [57693261.  ,         nan,    30000.  , ...,         nan,         nan,     4679.7 ],\n",
       "       [59432726.  ,         nan,    15000.  , ...,         nan,         nan,     1969.83],\n",
       "       ...,\n",
       "       [50415990.  ,         nan,    10000.  , ...,         nan,         nan,     2185.64],\n",
       "       [46154151.  ,         nan,         nan, ...,         nan,         nan,     3199.4 ],\n",
       "       [66055249.  ,         nan,    10000.  , ...,         nan,         nan,      301.9 ]])"
      ]
     },
     "execution_count": 795,
     "metadata": {},
     "output_type": "execute_result"
    }
   ],
   "execution_count": 795
  },
  {
   "metadata": {
    "ExecuteTime": {
     "end_time": "2024-08-10T19:54:35.060021Z",
     "start_time": "2024-08-10T19:54:35.058173Z"
    }
   },
   "cell_type": "code",
   "source": "",
   "outputs": [],
   "execution_count": 795
  },
  {
   "cell_type": "code",
   "metadata": {
    "ExecuteTime": {
     "end_time": "2024-08-10T19:54:35.234101Z",
     "start_time": "2024-08-10T19:54:35.226352Z"
    }
   },
   "source": [
    "temporary_fill = np.nanmax(raw_data_np) + 1\n",
    "temporary_mean = np.nanmean(raw_data_np, axis = 0)\n",
    "temporary_mean"
   ],
   "outputs": [
    {
     "name": "stderr",
     "output_type": "stream",
     "text": [
      "/var/folders/r9/_cg2h5v93xqf2nkdc28kkd1r0000gn/T/ipykernel_5280/2863896114.py:2: RuntimeWarning: Mean of empty slice\n",
      "  temporary_mean = np.nanmean(raw_data_np, axis = 0)\n"
     ]
    },
    {
     "data": {
      "text/plain": [
       "array([54015809.19,         nan,    15273.46,         nan,    15311.04,         nan,       19.96,\n",
       "            440.88,         nan,         nan,         nan,         nan,         nan,     3143.85])"
      ]
     },
     "execution_count": 796,
     "metadata": {},
     "output_type": "execute_result"
    }
   ],
   "execution_count": 796
  },
  {
   "metadata": {},
   "cell_type": "markdown",
   "source": ""
  },
  {
   "cell_type": "code",
   "metadata": {
    "ExecuteTime": {
     "end_time": "2024-08-10T19:54:35.297566Z",
     "start_time": "2024-08-10T19:54:35.294420Z"
    }
   },
   "source": "temporary_mean",
   "outputs": [
    {
     "data": {
      "text/plain": [
       "array([54015809.19,         nan,    15273.46,         nan,    15311.04,         nan,       19.96,\n",
       "            440.88,         nan,         nan,         nan,         nan,         nan,     3143.85])"
      ]
     },
     "execution_count": 797,
     "metadata": {},
     "output_type": "execute_result"
    }
   ],
   "execution_count": 797
  },
  {
   "cell_type": "code",
   "metadata": {
    "scrolled": true,
    "ExecuteTime": {
     "end_time": "2024-08-10T19:54:35.443526Z",
     "start_time": "2024-08-10T19:54:35.440489Z"
    }
   },
   "source": [
    "temporary_stats = np.array([np.nanmin(raw_data_np, axis = 0),\n",
    "                           temporary_mean,\n",
    "                           np.nanmax(raw_data_np, axis = 0)])"
   ],
   "outputs": [
    {
     "name": "stderr",
     "output_type": "stream",
     "text": [
      "/var/folders/r9/_cg2h5v93xqf2nkdc28kkd1r0000gn/T/ipykernel_5280/1851770469.py:1: RuntimeWarning: All-NaN slice encountered\n",
      "  temporary_stats = np.array([np.nanmin(raw_data_np, axis = 0),\n",
      "/var/folders/r9/_cg2h5v93xqf2nkdc28kkd1r0000gn/T/ipykernel_5280/1851770469.py:3: RuntimeWarning: All-NaN slice encountered\n",
      "  np.nanmax(raw_data_np, axis = 0)])\n"
     ]
    }
   ],
   "execution_count": 798
  },
  {
   "cell_type": "code",
   "metadata": {
    "ExecuteTime": {
     "end_time": "2024-08-10T19:54:35.536185Z",
     "start_time": "2024-08-10T19:54:35.532624Z"
    }
   },
   "source": [
    "temporary_stats"
   ],
   "outputs": [
    {
     "data": {
      "text/plain": [
       "array([[  373332.  ,         nan,     1000.  ,         nan,     1000.  ,         nan,        6.  ,\n",
       "              30.22,         nan,         nan,         nan,         nan,         nan,        0.  ],\n",
       "       [54015809.19,         nan,    15273.46,         nan,    15311.04,         nan,       19.96,\n",
       "             440.88,         nan,         nan,         nan,         nan,         nan,     3143.85],\n",
       "       [68616519.  ,         nan,    35000.  ,         nan,    35000.  ,         nan,       28.99,\n",
       "            1372.97,         nan,         nan,         nan,         nan,         nan,    41913.62]])"
      ]
     },
     "execution_count": 799,
     "metadata": {},
     "output_type": "execute_result"
    }
   ],
   "execution_count": 799
  },
  {
   "cell_type": "markdown",
   "metadata": {},
   "source": [
    "## Splitting the Dataset"
   ]
  },
  {
   "cell_type": "markdown",
   "metadata": {},
   "source": [
    "### Splitting the Columns"
   ]
  },
  {
   "cell_type": "code",
   "metadata": {
    "ExecuteTime": {
     "end_time": "2024-08-10T19:54:35.721634Z",
     "start_time": "2024-08-10T19:54:35.717959Z"
    }
   },
   "source": "temporary_mean",
   "outputs": [
    {
     "data": {
      "text/plain": [
       "array([54015809.19,         nan,    15273.46,         nan,    15311.04,         nan,       19.96,\n",
       "            440.88,         nan,         nan,         nan,         nan,         nan,     3143.85])"
      ]
     },
     "execution_count": 800,
     "metadata": {},
     "output_type": "execute_result"
    }
   ],
   "execution_count": 800
  },
  {
   "metadata": {
    "ExecuteTime": {
     "end_time": "2024-08-10T19:54:35.794740Z",
     "start_time": "2024-08-10T19:54:35.791458Z"
    }
   },
   "cell_type": "code",
   "source": [
    "columns_strings = np.argwhere(np.isnan(temporary_mean)).squeeze()\n",
    "columns_strings"
   ],
   "outputs": [
    {
     "data": {
      "text/plain": [
       "array([ 1,  3,  5,  8,  9, 10, 11, 12])"
      ]
     },
     "execution_count": 801,
     "metadata": {},
     "output_type": "execute_result"
    }
   ],
   "execution_count": 801
  },
  {
   "cell_type": "code",
   "metadata": {
    "ExecuteTime": {
     "end_time": "2024-08-10T19:54:36.006783Z",
     "start_time": "2024-08-10T19:54:36.004035Z"
    }
   },
   "source": [
    "columns_numeric = np.argwhere(np.isnan(temporary_mean) == False).squeeze()\n",
    "columns_numeric"
   ],
   "outputs": [
    {
     "data": {
      "text/plain": [
       "array([ 0,  2,  4,  6,  7, 13])"
      ]
     },
     "execution_count": 802,
     "metadata": {},
     "output_type": "execute_result"
    }
   ],
   "execution_count": 802
  },
  {
   "cell_type": "markdown",
   "metadata": {},
   "source": [
    "### Re-importing the Dataset"
   ]
  },
  {
   "cell_type": "code",
   "metadata": {
    "scrolled": true,
    "ExecuteTime": {
     "end_time": "2024-08-10T19:54:36.174157Z",
     "start_time": "2024-08-10T19:54:36.090206Z"
    }
   },
   "source": [
    "loan_data_strings = np.genfromtxt(\"../files/loan-data.csv\",\n",
    "                                  delimiter = ';',\n",
    "                                  skip_header = 1,\n",
    "                                  autostrip = True, \n",
    "                                  usecols = columns_strings,\n",
    "                                  dtype = np.str_)\n",
    "loan_data_strings"
   ],
   "outputs": [
    {
     "data": {
      "text/plain": [
       "array([['May-15', 'Current', '36 months', ..., 'Verified',\n",
       "        'https://www.lendingclub.com/browse/loanDetail.action?loan_id=48010226', 'CA'],\n",
       "       ['', 'Current', '36 months', ..., 'Source Verified',\n",
       "        'https://www.lendingclub.com/browse/loanDetail.action?loan_id=57693261', 'NY'],\n",
       "       ['Sep-15', 'Current', '36 months', ..., 'Verified',\n",
       "        'https://www.lendingclub.com/browse/loanDetail.action?loan_id=59432726', 'PA'],\n",
       "       ...,\n",
       "       ['Jun-15', 'Current', '36 months', ..., 'Source Verified',\n",
       "        'https://www.lendingclub.com/browse/loanDetail.action?loan_id=50415990', 'CA'],\n",
       "       ['Apr-15', 'Current', '36 months', ..., 'Source Verified',\n",
       "        'https://www.lendingclub.com/browse/loanDetail.action?loan_id=46154151', 'OH'],\n",
       "       ['Dec-15', 'Current', '36 months', ..., '',\n",
       "        'https://www.lendingclub.com/browse/loanDetail.action?loan_id=66055249', 'IL']],\n",
       "      dtype='<U69')"
      ]
     },
     "execution_count": 803,
     "metadata": {},
     "output_type": "execute_result"
    }
   ],
   "execution_count": 803
  },
  {
   "cell_type": "code",
   "metadata": {
    "ExecuteTime": {
     "end_time": "2024-08-10T19:54:36.319234Z",
     "start_time": "2024-08-10T19:54:36.274423Z"
    }
   },
   "source": [
    "loan_data_numeric = np.genfromtxt(\"../files/loan-data.csv\",\n",
    "                                  delimiter = ';',\n",
    "                                  autostrip = True,\n",
    "                                  skip_header = 1,\n",
    "                                  usecols = columns_numeric,\n",
    "                                  filling_values = temporary_fill)\n",
    "loan_data_numeric"
   ],
   "outputs": [
    {
     "data": {
      "text/plain": [
       "array([[48010226.  ,    35000.  ,    35000.  ,       13.33,     1184.86,     9452.96],\n",
       "       [57693261.  ,    30000.  ,    30000.  ,       22.89,      938.57,     4679.7 ],\n",
       "       [59432726.  ,    15000.  ,    15000.  ,       22.53,      494.86,     1969.83],\n",
       "       ...,\n",
       "       [50415990.  ,    10000.  ,    10000.  ,       22.89, 68616520.  ,     2185.64],\n",
       "       [46154151.  , 68616520.  ,    10000.  ,       16.55,      354.3 ,     3199.4 ],\n",
       "       [66055249.  ,    10000.  ,    10000.  ,       22.26,      309.97,      301.9 ]])"
      ]
     },
     "execution_count": 804,
     "metadata": {},
     "output_type": "execute_result"
    }
   ],
   "execution_count": 804
  },
  {
   "cell_type": "markdown",
   "metadata": {},
   "source": [
    "### The Names of the Columns"
   ]
  },
  {
   "cell_type": "code",
   "metadata": {
    "ExecuteTime": {
     "end_time": "2024-08-10T19:54:36.407922Z",
     "start_time": "2024-08-10T19:54:36.377375Z"
    }
   },
   "source": [
    "header_full = np.genfromtxt(\"../files/loan-data.csv\",\n",
    "                            delimiter = ';',\n",
    "                            autostrip = True,\n",
    "                            skip_footer = raw_data_np.shape[0],\n",
    "                            dtype = np.str_)\n",
    "header_full"
   ],
   "outputs": [
    {
     "data": {
      "text/plain": [
       "array(['id', 'issue_d', 'loan_amnt', 'loan_status', 'funded_amnt', 'term', 'int_rate',\n",
       "       'installment', 'grade', 'sub_grade', 'verification_status', 'url', 'addr_state',\n",
       "       'total_pymnt'], dtype='<U19')"
      ]
     },
     "execution_count": 805,
     "metadata": {},
     "output_type": "execute_result"
    }
   ],
   "execution_count": 805
  },
  {
   "cell_type": "code",
   "metadata": {
    "ExecuteTime": {
     "end_time": "2024-08-10T19:54:36.560318Z",
     "start_time": "2024-08-10T19:54:36.558396Z"
    }
   },
   "source": [
    "header_strings, header_numeric = header_full[columns_strings], header_full[columns_numeric]"
   ],
   "outputs": [],
   "execution_count": 806
  },
  {
   "cell_type": "code",
   "metadata": {
    "ExecuteTime": {
     "end_time": "2024-08-10T19:54:36.704002Z",
     "start_time": "2024-08-10T19:54:36.701718Z"
    }
   },
   "source": [
    "header_strings"
   ],
   "outputs": [
    {
     "data": {
      "text/plain": [
       "array(['issue_d', 'loan_status', 'term', 'grade', 'sub_grade', 'verification_status', 'url',\n",
       "       'addr_state'], dtype='<U19')"
      ]
     },
     "execution_count": 807,
     "metadata": {},
     "output_type": "execute_result"
    }
   ],
   "execution_count": 807
  },
  {
   "cell_type": "code",
   "metadata": {
    "ExecuteTime": {
     "end_time": "2024-08-10T19:54:36.766953Z",
     "start_time": "2024-08-10T19:54:36.764326Z"
    }
   },
   "source": [
    "header_numeric"
   ],
   "outputs": [
    {
     "data": {
      "text/plain": [
       "array(['id', 'loan_amnt', 'funded_amnt', 'int_rate', 'installment', 'total_pymnt'], dtype='<U19')"
      ]
     },
     "execution_count": 808,
     "metadata": {},
     "output_type": "execute_result"
    }
   ],
   "execution_count": 808
  },
  {
   "cell_type": "markdown",
   "metadata": {},
   "source": [
    "## Creating Checkpoints:"
   ]
  },
  {
   "cell_type": "code",
   "metadata": {
    "ExecuteTime": {
     "end_time": "2024-08-10T19:54:36.909537Z",
     "start_time": "2024-08-10T19:54:36.907401Z"
    }
   },
   "source": [
    "def checkpoint(file_name, checkpoint_header, checkpoint_data):\n",
    "    np.savez(file_name, header = checkpoint_header, data = checkpoint_data)\n",
    "    checkpoint_variable = np.load(file_name + \".npz\")\n",
    "    return(checkpoint_variable)"
   ],
   "outputs": [],
   "execution_count": 809
  },
  {
   "cell_type": "code",
   "metadata": {
    "ExecuteTime": {
     "end_time": "2024-08-10T19:54:37.006756Z",
     "start_time": "2024-08-10T19:54:36.982252Z"
    }
   },
   "source": [
    "checkpoint_test = checkpoint(\"checkpoint-test\", header_strings, loan_data_strings)\n",
    "checkpoint_test['header']"
   ],
   "outputs": [
    {
     "data": {
      "text/plain": [
       "array(['issue_d', 'loan_status', 'term', 'grade', 'sub_grade', 'verification_status', 'url',\n",
       "       'addr_state'], dtype='<U19')"
      ]
     },
     "execution_count": 810,
     "metadata": {},
     "output_type": "execute_result"
    }
   ],
   "execution_count": 810
  },
  {
   "cell_type": "code",
   "metadata": {
    "ExecuteTime": {
     "end_time": "2024-08-10T19:54:37.159022Z",
     "start_time": "2024-08-10T19:54:37.140560Z"
    }
   },
   "source": [
    "checkpoint_test['data']"
   ],
   "outputs": [
    {
     "data": {
      "text/plain": [
       "array([['May-15', 'Current', '36 months', ..., 'Verified',\n",
       "        'https://www.lendingclub.com/browse/loanDetail.action?loan_id=48010226', 'CA'],\n",
       "       ['', 'Current', '36 months', ..., 'Source Verified',\n",
       "        'https://www.lendingclub.com/browse/loanDetail.action?loan_id=57693261', 'NY'],\n",
       "       ['Sep-15', 'Current', '36 months', ..., 'Verified',\n",
       "        'https://www.lendingclub.com/browse/loanDetail.action?loan_id=59432726', 'PA'],\n",
       "       ...,\n",
       "       ['Jun-15', 'Current', '36 months', ..., 'Source Verified',\n",
       "        'https://www.lendingclub.com/browse/loanDetail.action?loan_id=50415990', 'CA'],\n",
       "       ['Apr-15', 'Current', '36 months', ..., 'Source Verified',\n",
       "        'https://www.lendingclub.com/browse/loanDetail.action?loan_id=46154151', 'OH'],\n",
       "       ['Dec-15', 'Current', '36 months', ..., '',\n",
       "        'https://www.lendingclub.com/browse/loanDetail.action?loan_id=66055249', 'IL']],\n",
       "      dtype='<U69')"
      ]
     },
     "execution_count": 811,
     "metadata": {},
     "output_type": "execute_result"
    }
   ],
   "execution_count": 811
  },
  {
   "cell_type": "code",
   "metadata": {
    "ExecuteTime": {
     "end_time": "2024-08-10T19:54:37.235815Z",
     "start_time": "2024-08-10T19:54:37.210757Z"
    }
   },
   "source": [
    "np.array_equal(checkpoint_test['data'], loan_data_strings)"
   ],
   "outputs": [
    {
     "data": {
      "text/plain": [
       "True"
      ]
     },
     "execution_count": 812,
     "metadata": {},
     "output_type": "execute_result"
    }
   ],
   "execution_count": 812
  },
  {
   "cell_type": "markdown",
   "metadata": {},
   "source": [
    "## Manipulating String Columns"
   ]
  },
  {
   "cell_type": "code",
   "metadata": {
    "ExecuteTime": {
     "end_time": "2024-08-10T19:54:37.497901Z",
     "start_time": "2024-08-10T19:54:37.491958Z"
    }
   },
   "source": [
    "header_strings"
   ],
   "outputs": [
    {
     "data": {
      "text/plain": [
       "array(['issue_d', 'loan_status', 'term', 'grade', 'sub_grade', 'verification_status', 'url',\n",
       "       'addr_state'], dtype='<U19')"
      ]
     },
     "execution_count": 813,
     "metadata": {},
     "output_type": "execute_result"
    }
   ],
   "execution_count": 813
  },
  {
   "cell_type": "code",
   "metadata": {
    "ExecuteTime": {
     "end_time": "2024-08-10T19:54:37.583877Z",
     "start_time": "2024-08-10T19:54:37.578712Z"
    }
   },
   "source": [
    "header_strings[0] = \"issue_date\"\n",
    "header_strings[0]"
   ],
   "outputs": [
    {
     "data": {
      "text/plain": [
       "'issue_date'"
      ]
     },
     "execution_count": 814,
     "metadata": {},
     "output_type": "execute_result"
    }
   ],
   "execution_count": 814
  },
  {
   "cell_type": "code",
   "metadata": {
    "ExecuteTime": {
     "end_time": "2024-08-10T19:54:37.767175Z",
     "start_time": "2024-08-10T19:54:37.764259Z"
    }
   },
   "source": [
    "loan_data_strings"
   ],
   "outputs": [
    {
     "data": {
      "text/plain": [
       "array([['May-15', 'Current', '36 months', ..., 'Verified',\n",
       "        'https://www.lendingclub.com/browse/loanDetail.action?loan_id=48010226', 'CA'],\n",
       "       ['', 'Current', '36 months', ..., 'Source Verified',\n",
       "        'https://www.lendingclub.com/browse/loanDetail.action?loan_id=57693261', 'NY'],\n",
       "       ['Sep-15', 'Current', '36 months', ..., 'Verified',\n",
       "        'https://www.lendingclub.com/browse/loanDetail.action?loan_id=59432726', 'PA'],\n",
       "       ...,\n",
       "       ['Jun-15', 'Current', '36 months', ..., 'Source Verified',\n",
       "        'https://www.lendingclub.com/browse/loanDetail.action?loan_id=50415990', 'CA'],\n",
       "       ['Apr-15', 'Current', '36 months', ..., 'Source Verified',\n",
       "        'https://www.lendingclub.com/browse/loanDetail.action?loan_id=46154151', 'OH'],\n",
       "       ['Dec-15', 'Current', '36 months', ..., '',\n",
       "        'https://www.lendingclub.com/browse/loanDetail.action?loan_id=66055249', 'IL']],\n",
       "      dtype='<U69')"
      ]
     },
     "execution_count": 815,
     "metadata": {},
     "output_type": "execute_result"
    }
   ],
   "execution_count": 815
  },
  {
   "cell_type": "markdown",
   "metadata": {},
   "source": [
    "### Issue Date"
   ]
  },
  {
   "cell_type": "code",
   "metadata": {
    "ExecuteTime": {
     "end_time": "2024-08-10T19:54:37.831846Z",
     "start_time": "2024-08-10T19:54:37.824890Z"
    }
   },
   "source": "np.unique(loan_data_strings[:,0])",
   "outputs": [
    {
     "data": {
      "text/plain": [
       "array(['', 'Apr-15', 'Aug-15', 'Dec-15', 'Feb-15', 'Jan-15', 'Jul-15', 'Jun-15', 'Mar-15',\n",
       "       'May-15', 'Nov-15', 'Oct-15', 'Sep-15'], dtype='<U69')"
      ]
     },
     "execution_count": 816,
     "metadata": {},
     "output_type": "execute_result"
    }
   ],
   "execution_count": 816
  },
  {
   "cell_type": "code",
   "metadata": {
    "ExecuteTime": {
     "end_time": "2024-08-10T19:54:37.995693Z",
     "start_time": "2024-08-10T19:54:37.980952Z"
    }
   },
   "source": "loan_data_strings[:,0] = np.chararray.strip(loan_data_strings[:,0], \"-15\")",
   "outputs": [],
   "execution_count": 817
  },
  {
   "cell_type": "code",
   "metadata": {
    "scrolled": true,
    "ExecuteTime": {
     "end_time": "2024-08-10T19:54:38.067333Z",
     "start_time": "2024-08-10T19:54:38.052372Z"
    }
   },
   "source": "np.unique(loan_data_strings[:,0])",
   "outputs": [
    {
     "data": {
      "text/plain": [
       "array(['', 'Apr', 'Aug', 'Dec', 'Feb', 'Jan', 'Jul', 'Jun', 'Mar', 'May', 'Nov', 'Oct', 'Sep'],\n",
       "      dtype='<U69')"
      ]
     },
     "execution_count": 818,
     "metadata": {},
     "output_type": "execute_result"
    }
   ],
   "execution_count": 818
  },
  {
   "cell_type": "code",
   "metadata": {
    "ExecuteTime": {
     "end_time": "2024-08-10T19:54:38.197656Z",
     "start_time": "2024-08-10T19:54:38.195514Z"
    }
   },
   "source": [
    "months = np.array(['', 'Jan', 'Feb', 'Mar', 'Apr', 'May', 'Jun', 'Jul', 'Aug', 'Sep', 'Oct', 'Nov', 'Dec'])"
   ],
   "outputs": [],
   "execution_count": 819
  },
  {
   "cell_type": "code",
   "metadata": {
    "ExecuteTime": {
     "end_time": "2024-08-10T19:54:38.283280Z",
     "start_time": "2024-08-10T19:54:38.268597Z"
    }
   },
   "source": [
    "for i in range(13):\n",
    "        loan_data_strings[:,0] = np.where(loan_data_strings[:,0] == months[i],\n",
    "                                          i,\n",
    "                                          loan_data_strings[:,0])"
   ],
   "outputs": [],
   "execution_count": 820
  },
  {
   "cell_type": "code",
   "metadata": {
    "ExecuteTime": {
     "end_time": "2024-08-10T19:54:38.413306Z",
     "start_time": "2024-08-10T19:54:38.410579Z"
    }
   },
   "source": [
    "loan_data_strings\n",
    "# np.unique(loan_data_strings[:,0])"
   ],
   "outputs": [
    {
     "data": {
      "text/plain": [
       "array([['5', 'Current', '36 months', ..., 'Verified',\n",
       "        'https://www.lendingclub.com/browse/loanDetail.action?loan_id=48010226', 'CA'],\n",
       "       ['0', 'Current', '36 months', ..., 'Source Verified',\n",
       "        'https://www.lendingclub.com/browse/loanDetail.action?loan_id=57693261', 'NY'],\n",
       "       ['9', 'Current', '36 months', ..., 'Verified',\n",
       "        'https://www.lendingclub.com/browse/loanDetail.action?loan_id=59432726', 'PA'],\n",
       "       ...,\n",
       "       ['6', 'Current', '36 months', ..., 'Source Verified',\n",
       "        'https://www.lendingclub.com/browse/loanDetail.action?loan_id=50415990', 'CA'],\n",
       "       ['4', 'Current', '36 months', ..., 'Source Verified',\n",
       "        'https://www.lendingclub.com/browse/loanDetail.action?loan_id=46154151', 'OH'],\n",
       "       ['12', 'Current', '36 months', ..., '',\n",
       "        'https://www.lendingclub.com/browse/loanDetail.action?loan_id=66055249', 'IL']],\n",
       "      dtype='<U69')"
      ]
     },
     "execution_count": 821,
     "metadata": {},
     "output_type": "execute_result"
    }
   ],
   "execution_count": 821
  },
  {
   "cell_type": "markdown",
   "metadata": {},
   "source": [
    "### Loan Status"
   ]
  },
  {
   "cell_type": "code",
   "metadata": {
    "ExecuteTime": {
     "end_time": "2024-08-10T19:54:38.514491Z",
     "start_time": "2024-08-10T19:54:38.510923Z"
    }
   },
   "source": [
    "header_strings"
   ],
   "outputs": [
    {
     "data": {
      "text/plain": [
       "array(['issue_date', 'loan_status', 'term', 'grade', 'sub_grade', 'verification_status', 'url',\n",
       "       'addr_state'], dtype='<U19')"
      ]
     },
     "execution_count": 822,
     "metadata": {},
     "output_type": "execute_result"
    }
   ],
   "execution_count": 822
  },
  {
   "cell_type": "code",
   "metadata": {
    "ExecuteTime": {
     "end_time": "2024-08-10T19:54:38.727306Z",
     "start_time": "2024-08-10T19:54:38.720289Z"
    }
   },
   "source": "np.unique(loan_data_strings[:,1])",
   "outputs": [
    {
     "data": {
      "text/plain": [
       "array(['', 'Charged Off', 'Current', 'Default', 'Fully Paid', 'In Grace Period', 'Issued',\n",
       "       'Late (16-30 days)', 'Late (31-120 days)'], dtype='<U69')"
      ]
     },
     "execution_count": 823,
     "metadata": {},
     "output_type": "execute_result"
    }
   ],
   "execution_count": 823
  },
  {
   "cell_type": "code",
   "metadata": {
    "ExecuteTime": {
     "end_time": "2024-08-10T19:54:38.783332Z",
     "start_time": "2024-08-10T19:54:38.775595Z"
    }
   },
   "source": "np.unique(loan_data_strings[:,1]).size",
   "outputs": [
    {
     "data": {
      "text/plain": [
       "9"
      ]
     },
     "execution_count": 824,
     "metadata": {},
     "output_type": "execute_result"
    }
   ],
   "execution_count": 824
  },
  {
   "cell_type": "code",
   "metadata": {
    "ExecuteTime": {
     "end_time": "2024-08-10T19:54:38.940862Z",
     "start_time": "2024-08-10T19:54:38.938983Z"
    }
   },
   "source": "status_bad = np.array(['','Charged Off','Default','Late (31-120 days)'])",
   "outputs": [],
   "execution_count": 825
  },
  {
   "cell_type": "code",
   "metadata": {
    "scrolled": false,
    "ExecuteTime": {
     "end_time": "2024-08-10T19:54:39.012411Z",
     "start_time": "2024-08-10T19:54:39.003339Z"
    }
   },
   "source": "loan_data_strings[:,1] = np.where(np.isin(loan_data_strings[:,1], status_bad),0,1)",
   "outputs": [],
   "execution_count": 826
  },
  {
   "cell_type": "code",
   "metadata": {
    "ExecuteTime": {
     "end_time": "2024-08-10T19:54:39.143849Z",
     "start_time": "2024-08-10T19:54:39.137299Z"
    }
   },
   "source": "np.unique(loan_data_strings[:,1])",
   "outputs": [
    {
     "data": {
      "text/plain": [
       "array(['0', '1'], dtype='<U69')"
      ]
     },
     "execution_count": 827,
     "metadata": {},
     "output_type": "execute_result"
    }
   ],
   "execution_count": 827
  },
  {
   "cell_type": "markdown",
   "metadata": {},
   "source": [
    "### Term"
   ]
  },
  {
   "cell_type": "code",
   "metadata": {
    "ExecuteTime": {
     "end_time": "2024-08-10T19:54:39.281467Z",
     "start_time": "2024-08-10T19:54:39.275612Z"
    }
   },
   "source": [
    "header_strings"
   ],
   "outputs": [
    {
     "data": {
      "text/plain": [
       "array(['issue_date', 'loan_status', 'term', 'grade', 'sub_grade', 'verification_status', 'url',\n",
       "       'addr_state'], dtype='<U19')"
      ]
     },
     "execution_count": 828,
     "metadata": {},
     "output_type": "execute_result"
    }
   ],
   "execution_count": 828
  },
  {
   "cell_type": "code",
   "metadata": {
    "ExecuteTime": {
     "end_time": "2024-08-10T19:54:39.560224Z",
     "start_time": "2024-08-10T19:54:39.532186Z"
    }
   },
   "source": "np.unique(loan_data_strings[:,2])",
   "outputs": [
    {
     "data": {
      "text/plain": [
       "array(['', '36 months', '60 months'], dtype='<U69')"
      ]
     },
     "execution_count": 829,
     "metadata": {},
     "output_type": "execute_result"
    }
   ],
   "execution_count": 829
  },
  {
   "cell_type": "code",
   "metadata": {
    "ExecuteTime": {
     "end_time": "2024-08-10T19:54:39.659768Z",
     "start_time": "2024-08-10T19:54:39.635488Z"
    }
   },
   "source": [
    "loan_data_strings[:,2] = np.chararray.strip(loan_data_strings[:,2], \" months\")\n",
    "loan_data_strings[:,2]"
   ],
   "outputs": [
    {
     "data": {
      "text/plain": [
       "array(['36', '36', '36', ..., '36', '36', '36'], dtype='<U69')"
      ]
     },
     "execution_count": 830,
     "metadata": {},
     "output_type": "execute_result"
    }
   ],
   "execution_count": 830
  },
  {
   "cell_type": "code",
   "metadata": {
    "ExecuteTime": {
     "end_time": "2024-08-10T19:54:40.068362Z",
     "start_time": "2024-08-10T19:54:40.063995Z"
    }
   },
   "source": [
    "header_strings[2] = \"term_months\""
   ],
   "outputs": [],
   "execution_count": 831
  },
  {
   "cell_type": "code",
   "metadata": {
    "ExecuteTime": {
     "end_time": "2024-08-10T19:54:40.332352Z",
     "start_time": "2024-08-10T19:54:40.314267Z"
    }
   },
   "source": [
    "loan_data_strings[:,2] = np.where(loan_data_strings[:,2] == '', \n",
    "                                  '60', \n",
    "                                  loan_data_strings[:,2])\n",
    "loan_data_strings[:,2]"
   ],
   "outputs": [
    {
     "data": {
      "text/plain": [
       "array(['36', '36', '36', ..., '36', '36', '36'], dtype='<U69')"
      ]
     },
     "execution_count": 832,
     "metadata": {},
     "output_type": "execute_result"
    }
   ],
   "execution_count": 832
  },
  {
   "cell_type": "code",
   "metadata": {
    "ExecuteTime": {
     "end_time": "2024-08-10T19:54:40.404872Z",
     "start_time": "2024-08-10T19:54:40.397780Z"
    }
   },
   "source": "np.unique(loan_data_strings[:,2])",
   "outputs": [
    {
     "data": {
      "text/plain": [
       "array(['36', '60'], dtype='<U69')"
      ]
     },
     "execution_count": 833,
     "metadata": {},
     "output_type": "execute_result"
    }
   ],
   "execution_count": 833
  },
  {
   "cell_type": "markdown",
   "metadata": {},
   "source": [
    "### Grade and Subgrade"
   ]
  },
  {
   "cell_type": "code",
   "metadata": {
    "ExecuteTime": {
     "end_time": "2024-08-10T19:54:40.535866Z",
     "start_time": "2024-08-10T19:54:40.533443Z"
    }
   },
   "source": [
    "header_strings"
   ],
   "outputs": [
    {
     "data": {
      "text/plain": [
       "array(['issue_date', 'loan_status', 'term_months', 'grade', 'sub_grade', 'verification_status',\n",
       "       'url', 'addr_state'], dtype='<U19')"
      ]
     },
     "execution_count": 834,
     "metadata": {},
     "output_type": "execute_result"
    }
   ],
   "execution_count": 834
  },
  {
   "metadata": {},
   "cell_type": "markdown",
   "source": ""
  },
  {
   "cell_type": "code",
   "metadata": {
    "ExecuteTime": {
     "end_time": "2024-08-10T19:54:40.667925Z",
     "start_time": "2024-08-10T19:54:40.659693Z"
    }
   },
   "source": "np.unique(loan_data_strings[:,3])",
   "outputs": [
    {
     "data": {
      "text/plain": [
       "array(['', 'A', 'B', 'C', 'D', 'E', 'F', 'G'], dtype='<U69')"
      ]
     },
     "execution_count": 835,
     "metadata": {},
     "output_type": "execute_result"
    }
   ],
   "execution_count": 835
  },
  {
   "cell_type": "code",
   "metadata": {
    "ExecuteTime": {
     "end_time": "2024-08-10T19:54:40.732511Z",
     "start_time": "2024-08-10T19:54:40.726203Z"
    }
   },
   "source": "np.unique(loan_data_strings[:,4])",
   "outputs": [
    {
     "data": {
      "text/plain": [
       "array(['', 'A1', 'A2', 'A3', 'A4', 'A5', 'B1', 'B2', 'B3', 'B4', 'B5', 'C1', 'C2', 'C3', 'C4',\n",
       "       'C5', 'D1', 'D2', 'D3', 'D4', 'D5', 'E1', 'E2', 'E3', 'E4', 'E5', 'F1', 'F2', 'F3', 'F4',\n",
       "       'F5', 'G1', 'G2', 'G3', 'G4', 'G5'], dtype='<U69')"
      ]
     },
     "execution_count": 836,
     "metadata": {},
     "output_type": "execute_result"
    }
   ],
   "execution_count": 836
  },
  {
   "cell_type": "markdown",
   "metadata": {},
   "source": [
    "#### Filling Sub Grade"
   ]
  },
  {
   "cell_type": "code",
   "metadata": {
    "ExecuteTime": {
     "end_time": "2024-08-10T19:54:40.958433Z",
     "start_time": "2024-08-10T19:54:40.937187Z"
    }
   },
   "source": [
    "for i in np.unique(loan_data_strings[:,3])[1:]:\n",
    "    loan_data_strings[:,4] = np.where((loan_data_strings[:,4] == '') & (loan_data_strings[:,3] == i),\n",
    "                                      i + '5',\n",
    "                                      loan_data_strings[:,4])"
   ],
   "outputs": [],
   "execution_count": 837
  },
  {
   "cell_type": "code",
   "metadata": {
    "ExecuteTime": {
     "end_time": "2024-08-10T19:54:41.038927Z",
     "start_time": "2024-08-10T19:54:41.030858Z"
    }
   },
   "source": "np.unique(loan_data_strings[:,4], return_counts = True)",
   "outputs": [
    {
     "data": {
      "text/plain": [
       "(array(['', 'A1', 'A2', 'A3', 'A4', 'A5', 'B1', 'B2', 'B3', 'B4', 'B5', 'C1', 'C2', 'C3', 'C4',\n",
       "        'C5', 'D1', 'D2', 'D3', 'D4', 'D5', 'E1', 'E2', 'E3', 'E4', 'E5', 'F1', 'F2', 'F3', 'F4',\n",
       "        'F5', 'G1', 'G2', 'G3', 'G4', 'G5'], dtype='<U69'),\n",
       " array([  9, 285, 278, 239, 323, 592, 509, 517, 530, 553, 633, 629, 567, 586, 564, 577, 391, 267,\n",
       "        250, 255, 288, 235, 162, 171, 139, 160,  94,  52,  34,  43,  24,  19,  10,   3,   7,   5]))"
      ]
     },
     "execution_count": 838,
     "metadata": {},
     "output_type": "execute_result"
    }
   ],
   "execution_count": 838
  },
  {
   "cell_type": "code",
   "metadata": {
    "ExecuteTime": {
     "end_time": "2024-08-10T19:54:41.188771Z",
     "start_time": "2024-08-10T19:54:41.185519Z"
    }
   },
   "source": [
    "loan_data_strings[:,4] = np.where(loan_data_strings[:,4] == '',\n",
    "                                  'H1',\n",
    "                                  loan_data_strings[:,4])"
   ],
   "outputs": [],
   "execution_count": 839
  },
  {
   "cell_type": "code",
   "metadata": {
    "scrolled": false,
    "ExecuteTime": {
     "end_time": "2024-08-10T19:54:41.302333Z",
     "start_time": "2024-08-10T19:54:41.295147Z"
    }
   },
   "source": "np.unique(loan_data_strings[:,4])",
   "outputs": [
    {
     "data": {
      "text/plain": [
       "array(['A1', 'A2', 'A3', 'A4', 'A5', 'B1', 'B2', 'B3', 'B4', 'B5', 'C1', 'C2', 'C3', 'C4', 'C5',\n",
       "       'D1', 'D2', 'D3', 'D4', 'D5', 'E1', 'E2', 'E3', 'E4', 'E5', 'F1', 'F2', 'F3', 'F4', 'F5',\n",
       "       'G1', 'G2', 'G3', 'G4', 'G5', 'H1'], dtype='<U69')"
      ]
     },
     "execution_count": 840,
     "metadata": {},
     "output_type": "execute_result"
    }
   ],
   "execution_count": 840
  },
  {
   "cell_type": "markdown",
   "metadata": {},
   "source": [
    "#### Removing Grade"
   ]
  },
  {
   "cell_type": "code",
   "metadata": {
    "ExecuteTime": {
     "end_time": "2024-08-10T19:54:41.381098Z",
     "start_time": "2024-08-10T19:54:41.370454Z"
    }
   },
   "source": "loan_data_strings = np.delete(loan_data_strings, 3, axis = 1)",
   "outputs": [],
   "execution_count": 841
  },
  {
   "cell_type": "code",
   "metadata": {
    "ExecuteTime": {
     "end_time": "2024-08-10T19:54:41.603911Z",
     "start_time": "2024-08-10T19:54:41.600128Z"
    }
   },
   "source": "loan_data_strings[:,3]",
   "outputs": [
    {
     "data": {
      "text/plain": [
       "array(['C3', 'A5', 'B5', ..., 'A5', 'D2', 'A4'], dtype='<U69')"
      ]
     },
     "execution_count": 842,
     "metadata": {},
     "output_type": "execute_result"
    }
   ],
   "execution_count": 842
  },
  {
   "cell_type": "code",
   "metadata": {
    "ExecuteTime": {
     "end_time": "2024-08-10T19:54:41.719329Z",
     "start_time": "2024-08-10T19:54:41.716828Z"
    }
   },
   "source": [
    "header_strings = np.delete(header_strings, 3)"
   ],
   "outputs": [],
   "execution_count": 843
  },
  {
   "metadata": {
    "ExecuteTime": {
     "end_time": "2024-08-10T19:54:41.849350Z",
     "start_time": "2024-08-10T19:54:41.847669Z"
    }
   },
   "cell_type": "code",
   "source": "",
   "outputs": [],
   "execution_count": 843
  },
  {
   "cell_type": "code",
   "metadata": {
    "ExecuteTime": {
     "end_time": "2024-08-10T19:54:41.909462Z",
     "start_time": "2024-08-10T19:54:41.907042Z"
    }
   },
   "source": "header_strings[3]",
   "outputs": [
    {
     "data": {
      "text/plain": [
       "'sub_grade'"
      ]
     },
     "execution_count": 844,
     "metadata": {},
     "output_type": "execute_result"
    }
   ],
   "execution_count": 844
  },
  {
   "cell_type": "markdown",
   "metadata": {},
   "source": [
    "#### Converting Sub Grade"
   ]
  },
  {
   "cell_type": "code",
   "metadata": {
    "ExecuteTime": {
     "end_time": "2024-08-10T19:54:42.042639Z",
     "start_time": "2024-08-10T19:54:42.030514Z"
    }
   },
   "source": "np.unique(loan_data_strings[:,3])",
   "outputs": [
    {
     "data": {
      "text/plain": [
       "array(['A1', 'A2', 'A3', 'A4', 'A5', 'B1', 'B2', 'B3', 'B4', 'B5', 'C1', 'C2', 'C3', 'C4', 'C5',\n",
       "       'D1', 'D2', 'D3', 'D4', 'D5', 'E1', 'E2', 'E3', 'E4', 'E5', 'F1', 'F2', 'F3', 'F4', 'F5',\n",
       "       'G1', 'G2', 'G3', 'G4', 'G5', 'H1'], dtype='<U69')"
      ]
     },
     "execution_count": 845,
     "metadata": {},
     "output_type": "execute_result"
    }
   ],
   "execution_count": 845
  },
  {
   "cell_type": "code",
   "metadata": {
    "ExecuteTime": {
     "end_time": "2024-08-10T19:54:42.097304Z",
     "start_time": "2024-08-10T19:54:42.087214Z"
    }
   },
   "source": [
    "keys = list(np.unique(loan_data_strings[:,3]))                         \n",
    "values = list(range(1, np.unique(loan_data_strings[:,3]).shape[0] + 1)) \n",
    "dict_sub_grade = dict(zip(keys, values))"
   ],
   "outputs": [],
   "execution_count": 846
  },
  {
   "cell_type": "code",
   "metadata": {
    "ExecuteTime": {
     "end_time": "2024-08-10T19:54:42.265846Z",
     "start_time": "2024-08-10T19:54:42.261634Z"
    }
   },
   "source": [
    "dict_sub_grade"
   ],
   "outputs": [
    {
     "data": {
      "text/plain": [
       "{'A1': 1,\n",
       " 'A2': 2,\n",
       " 'A3': 3,\n",
       " 'A4': 4,\n",
       " 'A5': 5,\n",
       " 'B1': 6,\n",
       " 'B2': 7,\n",
       " 'B3': 8,\n",
       " 'B4': 9,\n",
       " 'B5': 10,\n",
       " 'C1': 11,\n",
       " 'C2': 12,\n",
       " 'C3': 13,\n",
       " 'C4': 14,\n",
       " 'C5': 15,\n",
       " 'D1': 16,\n",
       " 'D2': 17,\n",
       " 'D3': 18,\n",
       " 'D4': 19,\n",
       " 'D5': 20,\n",
       " 'E1': 21,\n",
       " 'E2': 22,\n",
       " 'E3': 23,\n",
       " 'E4': 24,\n",
       " 'E5': 25,\n",
       " 'F1': 26,\n",
       " 'F2': 27,\n",
       " 'F3': 28,\n",
       " 'F4': 29,\n",
       " 'F5': 30,\n",
       " 'G1': 31,\n",
       " 'G2': 32,\n",
       " 'G3': 33,\n",
       " 'G4': 34,\n",
       " 'G5': 35,\n",
       " 'H1': 36}"
      ]
     },
     "execution_count": 847,
     "metadata": {},
     "output_type": "execute_result"
    }
   ],
   "execution_count": 847
  },
  {
   "cell_type": "code",
   "metadata": {
    "ExecuteTime": {
     "end_time": "2024-08-10T19:54:42.373659Z",
     "start_time": "2024-08-10T19:54:42.332106Z"
    }
   },
   "source": [
    "for i in np.unique(loan_data_strings[:,3]):\n",
    "        loan_data_strings[:,3] = np.where(loan_data_strings[:,3] == i, \n",
    "                                          dict_sub_grade[i],\n",
    "                                          loan_data_strings[:,3])"
   ],
   "outputs": [],
   "execution_count": 848
  },
  {
   "cell_type": "code",
   "metadata": {
    "ExecuteTime": {
     "end_time": "2024-08-10T19:54:42.475140Z",
     "start_time": "2024-08-10T19:54:42.469213Z"
    }
   },
   "source": "np.unique(loan_data_strings[:,3])",
   "outputs": [
    {
     "data": {
      "text/plain": [
       "array(['1', '10', '11', '12', '13', '14', '15', '16', '17', '18', '19', '2', '20', '21', '22',\n",
       "       '23', '24', '25', '26', '27', '28', '29', '3', '30', '31', '32', '33', '34', '35', '36',\n",
       "       '4', '5', '6', '7', '8', '9'], dtype='<U69')"
      ]
     },
     "execution_count": 849,
     "metadata": {},
     "output_type": "execute_result"
    }
   ],
   "execution_count": 849
  },
  {
   "cell_type": "markdown",
   "metadata": {},
   "source": [
    "### Verification Status"
   ]
  },
  {
   "cell_type": "code",
   "metadata": {
    "ExecuteTime": {
     "end_time": "2024-08-10T19:54:42.545556Z",
     "start_time": "2024-08-10T19:54:42.542357Z"
    }
   },
   "source": [
    "header_strings"
   ],
   "outputs": [
    {
     "data": {
      "text/plain": [
       "array(['issue_date', 'loan_status', 'term_months', 'sub_grade', 'verification_status', 'url',\n",
       "       'addr_state'], dtype='<U19')"
      ]
     },
     "execution_count": 850,
     "metadata": {},
     "output_type": "execute_result"
    }
   ],
   "execution_count": 850
  },
  {
   "cell_type": "code",
   "metadata": {
    "ExecuteTime": {
     "end_time": "2024-08-10T19:54:42.688269Z",
     "start_time": "2024-08-10T19:54:42.682015Z"
    }
   },
   "source": "np.unique(loan_data_strings[:,4])",
   "outputs": [
    {
     "data": {
      "text/plain": [
       "array(['', 'Not Verified', 'Source Verified', 'Verified'], dtype='<U69')"
      ]
     },
     "execution_count": 851,
     "metadata": {},
     "output_type": "execute_result"
    }
   ],
   "execution_count": 851
  },
  {
   "cell_type": "code",
   "metadata": {
    "ExecuteTime": {
     "end_time": "2024-08-10T19:54:42.765122Z",
     "start_time": "2024-08-10T19:54:42.758840Z"
    }
   },
   "source": "loan_data_strings[:,4] = np.where((loan_data_strings[:,4] == '') | (loan_data_strings[:,4] == 'Not Verified'), 0, 1)",
   "outputs": [],
   "execution_count": 852
  },
  {
   "cell_type": "code",
   "metadata": {
    "ExecuteTime": {
     "end_time": "2024-08-10T19:54:42.911603Z",
     "start_time": "2024-08-10T19:54:42.905555Z"
    }
   },
   "source": "np.unique(loan_data_strings[:,4])",
   "outputs": [
    {
     "data": {
      "text/plain": [
       "array(['0', '1'], dtype='<U69')"
      ]
     },
     "execution_count": 853,
     "metadata": {},
     "output_type": "execute_result"
    }
   ],
   "execution_count": 853
  },
  {
   "cell_type": "markdown",
   "metadata": {},
   "source": [
    "### URL"
   ]
  },
  {
   "cell_type": "code",
   "metadata": {
    "ExecuteTime": {
     "end_time": "2024-08-10T19:54:42.973907Z",
     "start_time": "2024-08-10T19:54:42.971357Z"
    }
   },
   "source": "loan_data_strings[:,5]",
   "outputs": [
    {
     "data": {
      "text/plain": [
       "array(['https://www.lendingclub.com/browse/loanDetail.action?loan_id=48010226',\n",
       "       'https://www.lendingclub.com/browse/loanDetail.action?loan_id=57693261',\n",
       "       'https://www.lendingclub.com/browse/loanDetail.action?loan_id=59432726', ...,\n",
       "       'https://www.lendingclub.com/browse/loanDetail.action?loan_id=50415990',\n",
       "       'https://www.lendingclub.com/browse/loanDetail.action?loan_id=46154151',\n",
       "       'https://www.lendingclub.com/browse/loanDetail.action?loan_id=66055249'], dtype='<U69')"
      ]
     },
     "execution_count": 854,
     "metadata": {},
     "output_type": "execute_result"
    }
   ],
   "execution_count": 854
  },
  {
   "cell_type": "code",
   "metadata": {
    "ExecuteTime": {
     "end_time": "2024-08-10T19:54:43.128968Z",
     "start_time": "2024-08-10T19:54:43.111778Z"
    }
   },
   "source": "np.chararray.strip(loan_data_strings[:,5], \"https://www.lendingclub.com/browse/loanDetail.action?loan_id=\")",
   "outputs": [
    {
     "data": {
      "text/plain": [
       "chararray(['48010226', '57693261', '59432726', ..., '50415990', '46154151', '66055249'],\n",
       "          dtype='<U69')"
      ]
     },
     "execution_count": 855,
     "metadata": {},
     "output_type": "execute_result"
    }
   ],
   "execution_count": 855
  },
  {
   "cell_type": "code",
   "metadata": {
    "ExecuteTime": {
     "end_time": "2024-08-10T19:54:43.198851Z",
     "start_time": "2024-08-10T19:54:43.183442Z"
    }
   },
   "source": "loan_data_strings[:,5] = np.chararray.strip(loan_data_strings[:,5], \"https://www.lendingclub.com/browse/loanDetail.action?loan_id=\")",
   "outputs": [],
   "execution_count": 856
  },
  {
   "cell_type": "code",
   "metadata": {
    "scrolled": true,
    "ExecuteTime": {
     "end_time": "2024-08-10T19:54:43.360920Z",
     "start_time": "2024-08-10T19:54:43.357917Z"
    }
   },
   "source": [
    "header_full"
   ],
   "outputs": [
    {
     "data": {
      "text/plain": [
       "array(['id', 'issue_d', 'loan_amnt', 'loan_status', 'funded_amnt', 'term', 'int_rate',\n",
       "       'installment', 'grade', 'sub_grade', 'verification_status', 'url', 'addr_state',\n",
       "       'total_pymnt'], dtype='<U19')"
      ]
     },
     "execution_count": 857,
     "metadata": {},
     "output_type": "execute_result"
    }
   ],
   "execution_count": 857
  },
  {
   "cell_type": "code",
   "metadata": {
    "ExecuteTime": {
     "end_time": "2024-08-10T19:54:43.433962Z",
     "start_time": "2024-08-10T19:54:43.429575Z"
    }
   },
   "source": "loan_data_numeric[:,0].astype(dtype = np.int32)",
   "outputs": [
    {
     "data": {
      "text/plain": [
       "array([48010226, 57693261, 59432726, ..., 50415990, 46154151, 66055249], dtype=int32)"
      ]
     },
     "execution_count": 858,
     "metadata": {},
     "output_type": "execute_result"
    }
   ],
   "execution_count": 858
  },
  {
   "cell_type": "code",
   "metadata": {
    "ExecuteTime": {
     "end_time": "2024-08-10T19:54:43.581279Z",
     "start_time": "2024-08-10T19:54:43.574284Z"
    }
   },
   "source": "loan_data_strings[:,5].astype(dtype = np.int32)",
   "outputs": [
    {
     "data": {
      "text/plain": [
       "array([48010226, 57693261, 59432726, ..., 50415990, 46154151, 66055249], dtype=int32)"
      ]
     },
     "execution_count": 859,
     "metadata": {},
     "output_type": "execute_result"
    }
   ],
   "execution_count": 859
  },
  {
   "cell_type": "code",
   "metadata": {
    "scrolled": true,
    "ExecuteTime": {
     "end_time": "2024-08-10T19:54:43.640907Z",
     "start_time": "2024-08-10T19:54:43.633011Z"
    }
   },
   "source": "np.array_equal(loan_data_numeric[:,0].astype(dtype = np.int32), loan_data_strings[:,5].astype(dtype = np.int32))",
   "outputs": [
    {
     "data": {
      "text/plain": [
       "True"
      ]
     },
     "execution_count": 860,
     "metadata": {},
     "output_type": "execute_result"
    }
   ],
   "execution_count": 860
  },
  {
   "cell_type": "code",
   "metadata": {
    "ExecuteTime": {
     "end_time": "2024-08-10T19:54:43.802020Z",
     "start_time": "2024-08-10T19:54:43.793176Z"
    }
   },
   "source": [
    "loan_data_strings = np.delete(loan_data_strings, 5, axis = 1)\n",
    "header_strings = np.delete(header_strings, 5)"
   ],
   "outputs": [],
   "execution_count": 861
  },
  {
   "cell_type": "code",
   "metadata": {
    "ExecuteTime": {
     "end_time": "2024-08-10T19:54:43.856798Z",
     "start_time": "2024-08-10T19:54:43.853616Z"
    }
   },
   "source": "loan_data_strings[:,5]",
   "outputs": [
    {
     "data": {
      "text/plain": [
       "array(['CA', 'NY', 'PA', ..., 'CA', 'OH', 'IL'], dtype='<U69')"
      ]
     },
     "execution_count": 862,
     "metadata": {},
     "output_type": "execute_result"
    }
   ],
   "execution_count": 862
  },
  {
   "cell_type": "code",
   "metadata": {
    "ExecuteTime": {
     "end_time": "2024-08-10T19:54:44.016654Z",
     "start_time": "2024-08-10T19:54:44.011954Z"
    }
   },
   "source": [
    "header_strings"
   ],
   "outputs": [
    {
     "data": {
      "text/plain": [
       "array(['issue_date', 'loan_status', 'term_months', 'sub_grade', 'verification_status',\n",
       "       'addr_state'], dtype='<U19')"
      ]
     },
     "execution_count": 863,
     "metadata": {},
     "output_type": "execute_result"
    }
   ],
   "execution_count": 863
  },
  {
   "cell_type": "code",
   "metadata": {
    "ExecuteTime": {
     "end_time": "2024-08-10T19:54:44.075340Z",
     "start_time": "2024-08-10T19:54:44.071647Z"
    }
   },
   "source": "loan_data_numeric[:,0]",
   "outputs": [
    {
     "data": {
      "text/plain": [
       "array([48010226., 57693261., 59432726., ..., 50415990., 46154151., 66055249.])"
      ]
     },
     "execution_count": 864,
     "metadata": {},
     "output_type": "execute_result"
    }
   ],
   "execution_count": 864
  },
  {
   "cell_type": "code",
   "metadata": {
    "ExecuteTime": {
     "end_time": "2024-08-10T19:54:44.225257Z",
     "start_time": "2024-08-10T19:54:44.221967Z"
    }
   },
   "source": [
    "header_numeric"
   ],
   "outputs": [
    {
     "data": {
      "text/plain": [
       "array(['id', 'loan_amnt', 'funded_amnt', 'int_rate', 'installment', 'total_pymnt'], dtype='<U19')"
      ]
     },
     "execution_count": 865,
     "metadata": {},
     "output_type": "execute_result"
    }
   ],
   "execution_count": 865
  },
  {
   "cell_type": "markdown",
   "metadata": {},
   "source": [
    "### State Address"
   ]
  },
  {
   "cell_type": "code",
   "metadata": {
    "ExecuteTime": {
     "end_time": "2024-08-10T19:54:44.308700Z",
     "start_time": "2024-08-10T19:54:44.306340Z"
    }
   },
   "source": [
    "header_strings"
   ],
   "outputs": [
    {
     "data": {
      "text/plain": [
       "array(['issue_date', 'loan_status', 'term_months', 'sub_grade', 'verification_status',\n",
       "       'addr_state'], dtype='<U19')"
      ]
     },
     "execution_count": 866,
     "metadata": {},
     "output_type": "execute_result"
    }
   ],
   "execution_count": 866
  },
  {
   "cell_type": "code",
   "metadata": {
    "ExecuteTime": {
     "end_time": "2024-08-10T19:54:44.459855Z",
     "start_time": "2024-08-10T19:54:44.457676Z"
    }
   },
   "source": [
    "header_strings[5] = \"state_address\""
   ],
   "outputs": [],
   "execution_count": 867
  },
  {
   "cell_type": "code",
   "metadata": {
    "ExecuteTime": {
     "end_time": "2024-08-10T19:54:44.542263Z",
     "start_time": "2024-08-10T19:54:44.532812Z"
    }
   },
   "source": [
    "states_names, states_count = np.unique(loan_data_strings[:,5], return_counts = True)\n",
    "states_count_sorted = np.argsort(-states_count)\n",
    "states_names[states_count_sorted], states_count[states_count_sorted]"
   ],
   "outputs": [
    {
     "data": {
      "text/plain": [
       "(array(['CA', 'NY', 'TX', 'FL', '', 'IL', 'NJ', 'GA', 'PA', 'OH', 'MI', 'NC', 'VA', 'MD', 'AZ',\n",
       "        'WA', 'MA', 'CO', 'MO', 'MN', 'IN', 'WI', 'CT', 'TN', 'NV', 'AL', 'LA', 'OR', 'SC', 'KY',\n",
       "        'KS', 'OK', 'UT', 'AR', 'MS', 'NH', 'NM', 'WV', 'HI', 'RI', 'MT', 'DE', 'DC', 'WY', 'AK',\n",
       "        'NE', 'SD', 'VT', 'ND', 'ME'], dtype='<U69'),\n",
       " array([1336,  777,  758,  690,  500,  389,  341,  321,  320,  312,  267,  261,  242,  222,  220,\n",
       "         216,  210,  201,  160,  156,  152,  148,  143,  143,  130,  119,  116,  108,  107,   84,\n",
       "          84,   83,   74,   74,   61,   58,   57,   49,   44,   40,   28,   27,   27,   27,   26,\n",
       "          25,   24,   17,   16,   10]))"
      ]
     },
     "execution_count": 868,
     "metadata": {},
     "output_type": "execute_result"
    }
   ],
   "execution_count": 868
  },
  {
   "cell_type": "code",
   "metadata": {
    "ExecuteTime": {
     "end_time": "2024-08-10T19:54:44.693377Z",
     "start_time": "2024-08-10T19:54:44.684278Z"
    }
   },
   "source": [
    "loan_data_strings[:,5] = np.where(loan_data_strings[:,5] == '', \n",
    "                                  0, \n",
    "                                  loan_data_strings[:,5])"
   ],
   "outputs": [],
   "execution_count": 869
  },
  {
   "cell_type": "code",
   "metadata": {
    "ExecuteTime": {
     "end_time": "2024-08-10T19:54:44.752619Z",
     "start_time": "2024-08-10T19:54:44.744776Z"
    }
   },
   "source": [
    "states_west = np.array(['WA', 'OR','CA','NV','ID','MT', 'WY','UT','CO', 'AZ','NM','HI','AK'])\n",
    "states_south = np.array(['TX','OK','AR','LA','MS','AL','TN','KY','FL','GA','SC','NC','VA','WV','MD','DE','DC'])\n",
    "states_midwest = np.array(['ND','SD','NE','KS','MN','IA','MO','WI','IL','IN','MI','OH'])\n",
    "states_east = np.array(['PA','NY','NJ','CT','MA','VT','NH','ME','RI'])"
   ],
   "outputs": [],
   "execution_count": 870
  },
  {
   "cell_type": "markdown",
   "metadata": {},
   "source": [
    "https://www2.census.gov/geo/pdfs/maps-data/maps/reference/us_regdiv.pdf"
   ]
  },
  {
   "cell_type": "code",
   "metadata": {
    "ExecuteTime": {
     "end_time": "2024-08-10T19:54:44.912476Z",
     "start_time": "2024-08-10T19:54:44.899973Z"
    }
   },
   "source": [
    "loan_data_strings[:,5] = np.where(np.isin(loan_data_strings[:,5], states_west), 1, loan_data_strings[:,5])\n",
    "loan_data_strings[:,5] = np.where(np.isin(loan_data_strings[:,5], states_south), 2, loan_data_strings[:,5])\n",
    "loan_data_strings[:,5] = np.where(np.isin(loan_data_strings[:,5], states_midwest), 3, loan_data_strings[:,5])\n",
    "loan_data_strings[:,5] = np.where(np.isin(loan_data_strings[:,5], states_east), 4, loan_data_strings[:,5])"
   ],
   "outputs": [],
   "execution_count": 871
  },
  {
   "cell_type": "code",
   "metadata": {
    "ExecuteTime": {
     "end_time": "2024-08-10T19:54:44.990010Z",
     "start_time": "2024-08-10T19:54:44.982278Z"
    }
   },
   "source": "np.unique(loan_data_strings[:,5])",
   "outputs": [
    {
     "data": {
      "text/plain": [
       "array(['0', '1', '2', '3', '4'], dtype='<U69')"
      ]
     },
     "execution_count": 872,
     "metadata": {},
     "output_type": "execute_result"
    }
   ],
   "execution_count": 872
  },
  {
   "cell_type": "markdown",
   "metadata": {},
   "source": [
    "## Converting to Numbers"
   ]
  },
  {
   "cell_type": "code",
   "metadata": {
    "ExecuteTime": {
     "end_time": "2024-08-10T19:54:45.100811Z",
     "start_time": "2024-08-10T19:54:45.098288Z"
    }
   },
   "source": [
    "loan_data_strings"
   ],
   "outputs": [
    {
     "data": {
      "text/plain": [
       "array([['5', '1', '36', '13', '1', '1'],\n",
       "       ['0', '1', '36', '5', '1', '4'],\n",
       "       ['9', '1', '36', '10', '1', '4'],\n",
       "       ...,\n",
       "       ['6', '1', '36', '5', '1', '1'],\n",
       "       ['4', '1', '36', '17', '1', '3'],\n",
       "       ['12', '1', '36', '4', '0', '3']], dtype='<U69')"
      ]
     },
     "execution_count": 873,
     "metadata": {},
     "output_type": "execute_result"
    }
   ],
   "execution_count": 873
  },
  {
   "cell_type": "code",
   "metadata": {
    "ExecuteTime": {
     "end_time": "2024-08-10T19:54:45.200699Z",
     "start_time": "2024-08-10T19:54:45.175712Z"
    }
   },
   "source": "loan_data_strings = loan_data_strings.astype(np.int_)",
   "outputs": [],
   "execution_count": 874
  },
  {
   "cell_type": "code",
   "metadata": {
    "ExecuteTime": {
     "end_time": "2024-08-10T19:54:45.345172Z",
     "start_time": "2024-08-10T19:54:45.341965Z"
    }
   },
   "source": [
    "loan_data_strings"
   ],
   "outputs": [
    {
     "data": {
      "text/plain": [
       "array([[ 5,  1, 36, 13,  1,  1],\n",
       "       [ 0,  1, 36,  5,  1,  4],\n",
       "       [ 9,  1, 36, 10,  1,  4],\n",
       "       ...,\n",
       "       [ 6,  1, 36,  5,  1,  1],\n",
       "       [ 4,  1, 36, 17,  1,  3],\n",
       "       [12,  1, 36,  4,  0,  3]])"
      ]
     },
     "execution_count": 875,
     "metadata": {},
     "output_type": "execute_result"
    }
   ],
   "execution_count": 875
  },
  {
   "cell_type": "markdown",
   "metadata": {},
   "source": [
    "### Checkpoint 1: Strings"
   ]
  },
  {
   "cell_type": "code",
   "metadata": {
    "ExecuteTime": {
     "end_time": "2024-08-10T19:54:45.417683Z",
     "start_time": "2024-08-10T19:54:45.411148Z"
    }
   },
   "source": [
    "checkpoint_strings = checkpoint(\"Checkpoint-Strings\", header_strings, loan_data_strings)"
   ],
   "outputs": [],
   "execution_count": 876
  },
  {
   "cell_type": "code",
   "metadata": {
    "ExecuteTime": {
     "end_time": "2024-08-10T19:54:45.577266Z",
     "start_time": "2024-08-10T19:54:45.573753Z"
    }
   },
   "source": "checkpoint_strings['header']",
   "outputs": [
    {
     "data": {
      "text/plain": [
       "array(['issue_date', 'loan_status', 'term_months', 'sub_grade', 'verification_status',\n",
       "       'state_address'], dtype='<U19')"
      ]
     },
     "execution_count": 877,
     "metadata": {},
     "output_type": "execute_result"
    }
   ],
   "execution_count": 877
  },
  {
   "cell_type": "code",
   "metadata": {
    "ExecuteTime": {
     "end_time": "2024-08-10T19:54:45.653714Z",
     "start_time": "2024-08-10T19:54:45.648518Z"
    }
   },
   "source": [
    "checkpoint_strings[\"data\"]"
   ],
   "outputs": [
    {
     "data": {
      "text/plain": [
       "array([[ 5,  1, 36, 13,  1,  1],\n",
       "       [ 0,  1, 36,  5,  1,  4],\n",
       "       [ 9,  1, 36, 10,  1,  4],\n",
       "       ...,\n",
       "       [ 6,  1, 36,  5,  1,  1],\n",
       "       [ 4,  1, 36, 17,  1,  3],\n",
       "       [12,  1, 36,  4,  0,  3]])"
      ]
     },
     "execution_count": 878,
     "metadata": {},
     "output_type": "execute_result"
    }
   ],
   "execution_count": 878
  },
  {
   "cell_type": "code",
   "metadata": {
    "ExecuteTime": {
     "end_time": "2024-08-10T19:54:45.781521Z",
     "start_time": "2024-08-10T19:54:45.778065Z"
    }
   },
   "source": [
    "np.array_equal(checkpoint_strings['data'], loan_data_strings)"
   ],
   "outputs": [
    {
     "data": {
      "text/plain": [
       "True"
      ]
     },
     "execution_count": 879,
     "metadata": {},
     "output_type": "execute_result"
    }
   ],
   "execution_count": 879
  },
  {
   "cell_type": "markdown",
   "metadata": {},
   "source": [
    "## Manipulating Numeric Columns"
   ]
  },
  {
   "cell_type": "code",
   "metadata": {
    "ExecuteTime": {
     "end_time": "2024-08-10T19:54:45.858472Z",
     "start_time": "2024-08-10T19:54:45.854348Z"
    }
   },
   "source": [
    "loan_data_numeric"
   ],
   "outputs": [
    {
     "data": {
      "text/plain": [
       "array([[48010226.  ,    35000.  ,    35000.  ,       13.33,     1184.86,     9452.96],\n",
       "       [57693261.  ,    30000.  ,    30000.  ,       22.89,      938.57,     4679.7 ],\n",
       "       [59432726.  ,    15000.  ,    15000.  ,       22.53,      494.86,     1969.83],\n",
       "       ...,\n",
       "       [50415990.  ,    10000.  ,    10000.  ,       22.89, 68616520.  ,     2185.64],\n",
       "       [46154151.  , 68616520.  ,    10000.  ,       16.55,      354.3 ,     3199.4 ],\n",
       "       [66055249.  ,    10000.  ,    10000.  ,       22.26,      309.97,      301.9 ]])"
      ]
     },
     "execution_count": 880,
     "metadata": {},
     "output_type": "execute_result"
    }
   ],
   "execution_count": 880
  },
  {
   "cell_type": "code",
   "metadata": {
    "ExecuteTime": {
     "end_time": "2024-08-10T19:54:46.033617Z",
     "start_time": "2024-08-10T19:54:46.031074Z"
    }
   },
   "source": [
    "np.isnan(loan_data_numeric).sum()"
   ],
   "outputs": [
    {
     "data": {
      "text/plain": [
       "0"
      ]
     },
     "execution_count": 881,
     "metadata": {},
     "output_type": "execute_result"
    }
   ],
   "execution_count": 881
  },
  {
   "cell_type": "markdown",
   "metadata": {},
   "source": [
    "### Substitute \"Filler\" Values"
   ]
  },
  {
   "cell_type": "code",
   "metadata": {
    "ExecuteTime": {
     "end_time": "2024-08-10T19:54:46.095082Z",
     "start_time": "2024-08-10T19:54:46.092794Z"
    }
   },
   "source": [
    "header_numeric"
   ],
   "outputs": [
    {
     "data": {
      "text/plain": [
       "array(['id', 'loan_amnt', 'funded_amnt', 'int_rate', 'installment', 'total_pymnt'], dtype='<U19')"
      ]
     },
     "execution_count": 882,
     "metadata": {},
     "output_type": "execute_result"
    }
   ],
   "execution_count": 882
  },
  {
   "cell_type": "markdown",
   "metadata": {},
   "source": [
    "#### ID"
   ]
  },
  {
   "cell_type": "code",
   "metadata": {
    "ExecuteTime": {
     "end_time": "2024-08-10T19:54:46.271499Z",
     "start_time": "2024-08-10T19:54:46.268211Z"
    }
   },
   "source": [
    "temporary_fill"
   ],
   "outputs": [
    {
     "data": {
      "text/plain": [
       "68616520.0"
      ]
     },
     "execution_count": 883,
     "metadata": {},
     "output_type": "execute_result"
    }
   ],
   "execution_count": 883
  },
  {
   "cell_type": "code",
   "metadata": {
    "ExecuteTime": {
     "end_time": "2024-08-10T19:54:46.340859Z",
     "start_time": "2024-08-10T19:54:46.337254Z"
    }
   },
   "source": "np.isin(loan_data_numeric[:,0], temporary_fill)",
   "outputs": [
    {
     "data": {
      "text/plain": [
       "array([False, False, False, ..., False, False, False])"
      ]
     },
     "execution_count": 884,
     "metadata": {},
     "output_type": "execute_result"
    }
   ],
   "execution_count": 884
  },
  {
   "cell_type": "code",
   "metadata": {
    "ExecuteTime": {
     "end_time": "2024-08-10T19:54:46.488677Z",
     "start_time": "2024-08-10T19:54:46.485711Z"
    }
   },
   "source": "np.isin(loan_data_numeric[:,0], temporary_fill).sum()",
   "outputs": [
    {
     "data": {
      "text/plain": [
       "0"
      ]
     },
     "execution_count": 885,
     "metadata": {},
     "output_type": "execute_result"
    }
   ],
   "execution_count": 885
  },
  {
   "cell_type": "code",
   "metadata": {
    "ExecuteTime": {
     "end_time": "2024-08-10T19:54:46.562934Z",
     "start_time": "2024-08-10T19:54:46.559747Z"
    }
   },
   "source": [
    "header_numeric"
   ],
   "outputs": [
    {
     "data": {
      "text/plain": [
       "array(['id', 'loan_amnt', 'funded_amnt', 'int_rate', 'installment', 'total_pymnt'], dtype='<U19')"
      ]
     },
     "execution_count": 886,
     "metadata": {},
     "output_type": "execute_result"
    }
   ],
   "execution_count": 886
  },
  {
   "cell_type": "markdown",
   "metadata": {},
   "source": [
    "#### Temporary Stats"
   ]
  },
  {
   "cell_type": "code",
   "metadata": {
    "ExecuteTime": {
     "end_time": "2024-08-10T19:54:46.808970Z",
     "start_time": "2024-08-10T19:54:46.803405Z"
    }
   },
   "source": "temporary_stats",
   "outputs": [
    {
     "data": {
      "text/plain": [
       "array([[  373332.  ,         nan,     1000.  ,         nan,     1000.  ,         nan,        6.  ,\n",
       "              30.22,         nan,         nan,         nan,         nan,         nan,        0.  ],\n",
       "       [54015809.19,         nan,    15273.46,         nan,    15311.04,         nan,       19.96,\n",
       "             440.88,         nan,         nan,         nan,         nan,         nan,     3143.85],\n",
       "       [68616519.  ,         nan,    35000.  ,         nan,    35000.  ,         nan,       28.99,\n",
       "            1372.97,         nan,         nan,         nan,         nan,         nan,    41913.62]])"
      ]
     },
     "execution_count": 887,
     "metadata": {},
     "output_type": "execute_result"
    }
   ],
   "execution_count": 887
  },
  {
   "metadata": {
    "ExecuteTime": {
     "end_time": "2024-08-10T19:54:46.939651Z",
     "start_time": "2024-08-10T19:54:46.930420Z"
    }
   },
   "cell_type": "code",
   "source": "temporary_stats[:, columns_numeric]",
   "outputs": [
    {
     "data": {
      "text/plain": [
       "array([[  373332.  ,     1000.  ,     1000.  ,        6.  ,       30.22,        0.  ],\n",
       "       [54015809.19,    15273.46,    15311.04,       19.96,      440.88,     3143.85],\n",
       "       [68616519.  ,    35000.  ,    35000.  ,       28.99,     1372.97,    41913.62]])"
      ]
     },
     "execution_count": 888,
     "metadata": {},
     "output_type": "execute_result"
    }
   ],
   "execution_count": 888
  },
  {
   "cell_type": "markdown",
   "metadata": {},
   "source": [
    "#### Funded Amount"
   ]
  },
  {
   "cell_type": "code",
   "metadata": {
    "ExecuteTime": {
     "end_time": "2024-08-10T19:54:47.119699Z",
     "start_time": "2024-08-10T19:54:47.115016Z"
    }
   },
   "source": "loan_data_numeric[:,2]",
   "outputs": [
    {
     "data": {
      "text/plain": [
       "array([35000., 30000., 15000., ..., 10000., 10000., 10000.])"
      ]
     },
     "execution_count": 889,
     "metadata": {},
     "output_type": "execute_result"
    }
   ],
   "execution_count": 889
  },
  {
   "cell_type": "code",
   "metadata": {
    "ExecuteTime": {
     "end_time": "2024-08-10T19:54:47.381114Z",
     "start_time": "2024-08-10T19:54:47.372139Z"
    }
   },
   "source": [
    "loan_data_numeric[:,2] = np.where(loan_data_numeric[:,2] == temporary_fill, \n",
    "                                  temporary_stats[0, columns_numeric[2]],\n",
    "                                  loan_data_numeric[:,2])\n",
    "loan_data_numeric[:,2]"
   ],
   "outputs": [
    {
     "data": {
      "text/plain": [
       "array([35000., 30000., 15000., ..., 10000., 10000., 10000.])"
      ]
     },
     "execution_count": 890,
     "metadata": {},
     "output_type": "execute_result"
    }
   ],
   "execution_count": 890
  },
  {
   "cell_type": "code",
   "metadata": {
    "ExecuteTime": {
     "end_time": "2024-08-10T19:54:47.623118Z",
     "start_time": "2024-08-10T19:54:47.608136Z"
    }
   },
   "source": "temporary_stats[0,columns_numeric[3]]",
   "outputs": [
    {
     "data": {
      "text/plain": [
       "6.0"
      ]
     },
     "execution_count": 891,
     "metadata": {},
     "output_type": "execute_result"
    }
   ],
   "execution_count": 891
  },
  {
   "cell_type": "markdown",
   "metadata": {},
   "source": [
    "#### Loaned Amount, Interest Rate, Total Payment, Installment"
   ]
  },
  {
   "cell_type": "code",
   "metadata": {
    "ExecuteTime": {
     "end_time": "2024-08-10T19:54:47.738013Z",
     "start_time": "2024-08-10T19:54:47.731712Z"
    }
   },
   "source": [
    "header_numeric"
   ],
   "outputs": [
    {
     "data": {
      "text/plain": [
       "array(['id', 'loan_amnt', 'funded_amnt', 'int_rate', 'installment', 'total_pymnt'], dtype='<U19')"
      ]
     },
     "execution_count": 892,
     "metadata": {},
     "output_type": "execute_result"
    }
   ],
   "execution_count": 892
  },
  {
   "cell_type": "code",
   "metadata": {
    "ExecuteTime": {
     "end_time": "2024-08-10T19:54:47.835550Z",
     "start_time": "2024-08-10T19:54:47.830250Z"
    }
   },
   "source": [
    "for i in [1,3,4,5]:\n",
    "    loan_data_numeric[:,i] = np.where(loan_data_numeric[:,i] == temporary_fill,\n",
    "                                      temporary_stats[2, columns_numeric[i]],\n",
    "                                      loan_data_numeric[:,i])"
   ],
   "outputs": [],
   "execution_count": 893
  },
  {
   "cell_type": "code",
   "metadata": {
    "ExecuteTime": {
     "end_time": "2024-08-10T19:54:48.001589Z",
     "start_time": "2024-08-10T19:54:47.997295Z"
    }
   },
   "source": [
    "loan_data_numeric"
   ],
   "outputs": [
    {
     "data": {
      "text/plain": [
       "array([[48010226.  ,    35000.  ,    35000.  ,       13.33,     1184.86,     9452.96],\n",
       "       [57693261.  ,    30000.  ,    30000.  ,       22.89,      938.57,     4679.7 ],\n",
       "       [59432726.  ,    15000.  ,    15000.  ,       22.53,      494.86,     1969.83],\n",
       "       ...,\n",
       "       [50415990.  ,    10000.  ,    10000.  ,       22.89,     1372.97,     2185.64],\n",
       "       [46154151.  ,    35000.  ,    10000.  ,       16.55,      354.3 ,     3199.4 ],\n",
       "       [66055249.  ,    10000.  ,    10000.  ,       22.26,      309.97,      301.9 ]])"
      ]
     },
     "execution_count": 894,
     "metadata": {},
     "output_type": "execute_result"
    }
   ],
   "execution_count": 894
  },
  {
   "cell_type": "markdown",
   "metadata": {},
   "source": [
    "### Currency Change"
   ]
  },
  {
   "cell_type": "markdown",
   "metadata": {},
   "source": [
    "#### The Exchange Rate"
   ]
  },
  {
   "cell_type": "code",
   "metadata": {
    "ExecuteTime": {
     "end_time": "2024-08-10T19:54:48.076736Z",
     "start_time": "2024-08-10T19:54:48.071414Z"
    }
   },
   "source": [
    "EUR_USD = np.genfromtxt(\"../files/EUR-USD.csv\", delimiter = ',', autostrip = True, skip_header = 1, usecols = 3)\n",
    "EUR_USD"
   ],
   "outputs": [
    {
     "data": {
      "text/plain": [
       "array([1.13, 1.12, 1.08, 1.11, 1.1 , 1.12, 1.09, 1.13, 1.13, 1.1 , 1.06, 1.09])"
      ]
     },
     "execution_count": 895,
     "metadata": {},
     "output_type": "execute_result"
    }
   ],
   "execution_count": 895
  },
  {
   "cell_type": "code",
   "metadata": {
    "ExecuteTime": {
     "end_time": "2024-08-10T19:54:48.226746Z",
     "start_time": "2024-08-10T19:54:48.224264Z"
    }
   },
   "source": "loan_data_strings[:,0]",
   "outputs": [
    {
     "data": {
      "text/plain": [
       "array([ 5,  0,  9, ...,  6,  4, 12])"
      ]
     },
     "execution_count": 896,
     "metadata": {},
     "output_type": "execute_result"
    }
   ],
   "execution_count": 896
  },
  {
   "cell_type": "code",
   "metadata": {
    "ExecuteTime": {
     "end_time": "2024-08-10T19:54:48.300137Z",
     "start_time": "2024-08-10T19:54:48.295121Z"
    }
   },
   "source": [
    "exchange_rate = loan_data_strings[:,0]\n",
    "\n",
    "for i in range(1,13):\n",
    "    exchange_rate = np.where(exchange_rate == i,\n",
    "                             EUR_USD[i-1],\n",
    "                             exchange_rate)    \n",
    "\n",
    "exchange_rate = np.where(exchange_rate == 0,\n",
    "                         np.mean(EUR_USD),\n",
    "                         exchange_rate)\n",
    "\n",
    "exchange_rate"
   ],
   "outputs": [
    {
     "data": {
      "text/plain": [
       "array([1.1 , 1.11, 1.13, ..., 1.12, 1.11, 1.09])"
      ]
     },
     "execution_count": 897,
     "metadata": {},
     "output_type": "execute_result"
    }
   ],
   "execution_count": 897
  },
  {
   "cell_type": "code",
   "metadata": {
    "ExecuteTime": {
     "end_time": "2024-08-10T19:54:48.439097Z",
     "start_time": "2024-08-10T19:54:48.436872Z"
    }
   },
   "source": [
    "exchange_rate.shape"
   ],
   "outputs": [
    {
     "data": {
      "text/plain": [
       "(10000,)"
      ]
     },
     "execution_count": 898,
     "metadata": {},
     "output_type": "execute_result"
    }
   ],
   "execution_count": 898
  },
  {
   "cell_type": "code",
   "metadata": {
    "ExecuteTime": {
     "end_time": "2024-08-10T19:54:48.523762Z",
     "start_time": "2024-08-10T19:54:48.519898Z"
    }
   },
   "source": [
    "loan_data_numeric.shape"
   ],
   "outputs": [
    {
     "data": {
      "text/plain": [
       "(10000, 6)"
      ]
     },
     "execution_count": 899,
     "metadata": {},
     "output_type": "execute_result"
    }
   ],
   "execution_count": 899
  },
  {
   "cell_type": "code",
   "metadata": {
    "ExecuteTime": {
     "end_time": "2024-08-10T19:54:48.677326Z",
     "start_time": "2024-08-10T19:54:48.675001Z"
    }
   },
   "source": "exchange_rate = np.reshape(exchange_rate, (10000,1))",
   "outputs": [],
   "execution_count": 900
  },
  {
   "metadata": {},
   "cell_type": "markdown",
   "source": ""
  },
  {
   "cell_type": "code",
   "metadata": {
    "ExecuteTime": {
     "end_time": "2024-08-10T19:54:48.797171Z",
     "start_time": "2024-08-10T19:54:48.792508Z"
    }
   },
   "source": [
    "loan_data_numeric = np.hstack((loan_data_numeric, exchange_rate))\n",
    "loan_data_numeric"
   ],
   "outputs": [
    {
     "data": {
      "text/plain": [
       "array([[48010226.  ,    35000.  ,    35000.  , ...,     1184.86,     9452.96,        1.1 ],\n",
       "       [57693261.  ,    30000.  ,    30000.  , ...,      938.57,     4679.7 ,        1.11],\n",
       "       [59432726.  ,    15000.  ,    15000.  , ...,      494.86,     1969.83,        1.13],\n",
       "       ...,\n",
       "       [50415990.  ,    10000.  ,    10000.  , ...,     1372.97,     2185.64,        1.12],\n",
       "       [46154151.  ,    35000.  ,    10000.  , ...,      354.3 ,     3199.4 ,        1.11],\n",
       "       [66055249.  ,    10000.  ,    10000.  , ...,      309.97,      301.9 ,        1.09]])"
      ]
     },
     "execution_count": 901,
     "metadata": {},
     "output_type": "execute_result"
    }
   ],
   "execution_count": 901
  },
  {
   "cell_type": "code",
   "metadata": {
    "ExecuteTime": {
     "end_time": "2024-08-10T19:54:49.009806Z",
     "start_time": "2024-08-10T19:54:49.006684Z"
    }
   },
   "source": [
    "header_numeric = np.concatenate((header_numeric, np.array(['exchange_rate'])))\n",
    "header_numeric"
   ],
   "outputs": [
    {
     "data": {
      "text/plain": [
       "array(['id', 'loan_amnt', 'funded_amnt', 'int_rate', 'installment', 'total_pymnt', 'exchange_rate'],\n",
       "      dtype='<U19')"
      ]
     },
     "execution_count": 902,
     "metadata": {},
     "output_type": "execute_result"
    }
   ],
   "execution_count": 902
  },
  {
   "cell_type": "markdown",
   "metadata": {},
   "source": [
    "#### From USD to EUR"
   ]
  },
  {
   "cell_type": "code",
   "metadata": {
    "ExecuteTime": {
     "end_time": "2024-08-10T19:54:49.143933Z",
     "start_time": "2024-08-10T19:54:49.140268Z"
    }
   },
   "source": [
    "header_numeric"
   ],
   "outputs": [
    {
     "data": {
      "text/plain": [
       "array(['id', 'loan_amnt', 'funded_amnt', 'int_rate', 'installment', 'total_pymnt', 'exchange_rate'],\n",
       "      dtype='<U19')"
      ]
     },
     "execution_count": 903,
     "metadata": {},
     "output_type": "execute_result"
    }
   ],
   "execution_count": 903
  },
  {
   "cell_type": "code",
   "metadata": {
    "ExecuteTime": {
     "end_time": "2024-08-10T19:54:49.207419Z",
     "start_time": "2024-08-10T19:54:49.204749Z"
    }
   },
   "source": [
    "columns_dollar = np.array([1,2,4,5])\n",
    "columns_dollar"
   ],
   "outputs": [
    {
     "data": {
      "text/plain": [
       "array([1, 2, 4, 5])"
      ]
     },
     "execution_count": 904,
     "metadata": {},
     "output_type": "execute_result"
    }
   ],
   "execution_count": 904
  },
  {
   "cell_type": "code",
   "metadata": {
    "ExecuteTime": {
     "end_time": "2024-08-10T19:54:49.356261Z",
     "start_time": "2024-08-10T19:54:49.353673Z"
    }
   },
   "source": "loan_data_numeric[:,6]",
   "outputs": [
    {
     "data": {
      "text/plain": [
       "array([1.1 , 1.11, 1.13, ..., 1.12, 1.11, 1.09])"
      ]
     },
     "execution_count": 905,
     "metadata": {},
     "output_type": "execute_result"
    }
   ],
   "execution_count": 905
  },
  {
   "cell_type": "code",
   "metadata": {
    "ExecuteTime": {
     "end_time": "2024-08-10T19:54:49.419617Z",
     "start_time": "2024-08-10T19:54:49.416684Z"
    }
   },
   "source": [
    "for i in columns_dollar:\n",
    "    loan_data_numeric = np.hstack((loan_data_numeric, np.reshape(loan_data_numeric[:,i] / loan_data_numeric[:,6], (10000,1))))"
   ],
   "outputs": [],
   "execution_count": 906
  },
  {
   "cell_type": "code",
   "metadata": {
    "ExecuteTime": {
     "end_time": "2024-08-10T19:54:49.553910Z",
     "start_time": "2024-08-10T19:54:49.551540Z"
    }
   },
   "source": [
    "loan_data_numeric.shape"
   ],
   "outputs": [
    {
     "data": {
      "text/plain": [
       "(10000, 11)"
      ]
     },
     "execution_count": 907,
     "metadata": {},
     "output_type": "execute_result"
    }
   ],
   "execution_count": 907
  },
  {
   "cell_type": "code",
   "metadata": {
    "ExecuteTime": {
     "end_time": "2024-08-10T19:54:49.631613Z",
     "start_time": "2024-08-10T19:54:49.627935Z"
    }
   },
   "source": "loan_data_numeric",
   "outputs": [
    {
     "data": {
      "text/plain": [
       "array([[48010226.  ,    35000.  ,    35000.  , ...,    31933.3 ,     1081.04,     8624.69],\n",
       "       [57693261.  ,    30000.  ,    30000.  , ...,    27132.46,      848.86,     4232.39],\n",
       "       [59432726.  ,    15000.  ,    15000.  , ...,    13326.3 ,      439.64,     1750.04],\n",
       "       ...,\n",
       "       [50415990.  ,    10000.  ,    10000.  , ...,     8910.3 ,     1223.36,     1947.47],\n",
       "       [46154151.  ,    35000.  ,    10000.  , ...,     8997.4 ,      318.78,     2878.63],\n",
       "       [66055249.  ,    10000.  ,    10000.  , ...,     9145.8 ,      283.49,      276.11]])"
      ]
     },
     "execution_count": 908,
     "metadata": {},
     "output_type": "execute_result"
    }
   ],
   "execution_count": 908
  },
  {
   "cell_type": "markdown",
   "metadata": {},
   "source": [
    "#### Expanding the header"
   ]
  },
  {
   "metadata": {},
   "cell_type": "markdown",
   "source": ""
  },
  {
   "cell_type": "code",
   "metadata": {
    "ExecuteTime": {
     "end_time": "2024-08-10T19:54:49.766505Z",
     "start_time": "2024-08-10T19:54:49.764302Z"
    }
   },
   "source": [
    "header_additional = np.array([column_name + '_EUR' for column_name in header_numeric[columns_dollar]])"
   ],
   "outputs": [],
   "execution_count": 909
  },
  {
   "cell_type": "code",
   "metadata": {
    "ExecuteTime": {
     "end_time": "2024-08-10T19:54:49.835597Z",
     "start_time": "2024-08-10T19:54:49.833088Z"
    }
   },
   "source": [
    "header_additional"
   ],
   "outputs": [
    {
     "data": {
      "text/plain": [
       "array(['loan_amnt_EUR', 'funded_amnt_EUR', 'installment_EUR', 'total_pymnt_EUR'], dtype='<U15')"
      ]
     },
     "execution_count": 910,
     "metadata": {},
     "output_type": "execute_result"
    }
   ],
   "execution_count": 910
  },
  {
   "cell_type": "code",
   "metadata": {
    "ExecuteTime": {
     "end_time": "2024-08-10T19:54:50.018924Z",
     "start_time": "2024-08-10T19:54:50.015997Z"
    }
   },
   "source": [
    "header_numeric = np.concatenate((header_numeric, header_additional))"
   ],
   "outputs": [],
   "execution_count": 911
  },
  {
   "cell_type": "code",
   "metadata": {
    "ExecuteTime": {
     "end_time": "2024-08-10T19:54:50.085744Z",
     "start_time": "2024-08-10T19:54:50.082483Z"
    }
   },
   "source": [
    "header_numeric"
   ],
   "outputs": [
    {
     "data": {
      "text/plain": [
       "array(['id', 'loan_amnt', 'funded_amnt', 'int_rate', 'installment', 'total_pymnt', 'exchange_rate',\n",
       "       'loan_amnt_EUR', 'funded_amnt_EUR', 'installment_EUR', 'total_pymnt_EUR'], dtype='<U19')"
      ]
     },
     "execution_count": 912,
     "metadata": {},
     "output_type": "execute_result"
    }
   ],
   "execution_count": 912
  },
  {
   "cell_type": "code",
   "metadata": {
    "ExecuteTime": {
     "end_time": "2024-08-10T19:54:50.327021Z",
     "start_time": "2024-08-10T19:54:50.324491Z"
    }
   },
   "source": [
    "header_numeric[columns_dollar] = np.array([column_name + '_USD' for column_name in header_numeric[columns_dollar]])"
   ],
   "outputs": [],
   "execution_count": 913
  },
  {
   "cell_type": "code",
   "metadata": {
    "scrolled": false,
    "ExecuteTime": {
     "end_time": "2024-08-10T19:54:50.387329Z",
     "start_time": "2024-08-10T19:54:50.384916Z"
    }
   },
   "source": [
    "header_numeric"
   ],
   "outputs": [
    {
     "data": {
      "text/plain": [
       "array(['id', 'loan_amnt_USD', 'funded_amnt_USD', 'int_rate', 'installment_USD', 'total_pymnt_USD',\n",
       "       'exchange_rate', 'loan_amnt_EUR', 'funded_amnt_EUR', 'installment_EUR', 'total_pymnt_EUR'],\n",
       "      dtype='<U19')"
      ]
     },
     "execution_count": 914,
     "metadata": {},
     "output_type": "execute_result"
    }
   ],
   "execution_count": 914
  },
  {
   "cell_type": "code",
   "metadata": {
    "ExecuteTime": {
     "end_time": "2024-08-10T19:54:50.541874Z",
     "start_time": "2024-08-10T19:54:50.538325Z"
    }
   },
   "source": "columns_index_order = [0,1,7,2,8,3,4,9,5,10,6]",
   "outputs": [],
   "execution_count": 915
  },
  {
   "cell_type": "code",
   "metadata": {
    "ExecuteTime": {
     "end_time": "2024-08-10T19:54:50.600332Z",
     "start_time": "2024-08-10T19:54:50.595953Z"
    }
   },
   "source": [
    "header_numeric = header_numeric[columns_index_order]\n",
    "header_numeric"
   ],
   "outputs": [
    {
     "data": {
      "text/plain": [
       "array(['id', 'loan_amnt_USD', 'loan_amnt_EUR', 'funded_amnt_USD', 'funded_amnt_EUR', 'int_rate',\n",
       "       'installment_USD', 'installment_EUR', 'total_pymnt_USD', 'total_pymnt_EUR', 'exchange_rate'],\n",
       "      dtype='<U19')"
      ]
     },
     "execution_count": 916,
     "metadata": {},
     "output_type": "execute_result"
    }
   ],
   "execution_count": 916
  },
  {
   "cell_type": "code",
   "metadata": {
    "ExecuteTime": {
     "end_time": "2024-08-10T19:54:50.823992Z",
     "start_time": "2024-08-10T19:54:50.818462Z"
    }
   },
   "source": [
    "loan_data_numeric"
   ],
   "outputs": [
    {
     "data": {
      "text/plain": [
       "array([[48010226.  ,    35000.  ,    35000.  , ...,    31933.3 ,     1081.04,     8624.69],\n",
       "       [57693261.  ,    30000.  ,    30000.  , ...,    27132.46,      848.86,     4232.39],\n",
       "       [59432726.  ,    15000.  ,    15000.  , ...,    13326.3 ,      439.64,     1750.04],\n",
       "       ...,\n",
       "       [50415990.  ,    10000.  ,    10000.  , ...,     8910.3 ,     1223.36,     1947.47],\n",
       "       [46154151.  ,    35000.  ,    10000.  , ...,     8997.4 ,      318.78,     2878.63],\n",
       "       [66055249.  ,    10000.  ,    10000.  , ...,     9145.8 ,      283.49,      276.11]])"
      ]
     },
     "execution_count": 917,
     "metadata": {},
     "output_type": "execute_result"
    }
   ],
   "execution_count": 917
  },
  {
   "cell_type": "code",
   "metadata": {
    "ExecuteTime": {
     "end_time": "2024-08-10T19:54:50.898620Z",
     "start_time": "2024-08-10T19:54:50.895636Z"
    }
   },
   "source": [
    "loan_data_numeric = loan_data_numeric[:,columns_index_order]\n",
    "loan_data_numeric"
   ],
   "outputs": [
    {
     "data": {
      "text/plain": [
       "array([[48010226.  ,    35000.  ,    31933.3 , ...,     9452.96,     8624.69,        1.1 ],\n",
       "       [57693261.  ,    30000.  ,    27132.46, ...,     4679.7 ,     4232.39,        1.11],\n",
       "       [59432726.  ,    15000.  ,    13326.3 , ...,     1969.83,     1750.04,        1.13],\n",
       "       ...,\n",
       "       [50415990.  ,    10000.  ,     8910.3 , ...,     2185.64,     1947.47,        1.12],\n",
       "       [46154151.  ,    35000.  ,    31490.9 , ...,     3199.4 ,     2878.63,        1.11],\n",
       "       [66055249.  ,    10000.  ,     9145.8 , ...,      301.9 ,      276.11,        1.09]])"
      ]
     },
     "execution_count": 918,
     "metadata": {},
     "output_type": "execute_result"
    }
   ],
   "execution_count": 918
  },
  {
   "cell_type": "markdown",
   "metadata": {},
   "source": [
    "### Interest Rate"
   ]
  },
  {
   "cell_type": "code",
   "metadata": {
    "ExecuteTime": {
     "end_time": "2024-08-10T19:54:51.068975Z",
     "start_time": "2024-08-10T19:54:51.066566Z"
    }
   },
   "source": [
    "header_numeric"
   ],
   "outputs": [
    {
     "data": {
      "text/plain": [
       "array(['id', 'loan_amnt_USD', 'loan_amnt_EUR', 'funded_amnt_USD', 'funded_amnt_EUR', 'int_rate',\n",
       "       'installment_USD', 'installment_EUR', 'total_pymnt_USD', 'total_pymnt_EUR', 'exchange_rate'],\n",
       "      dtype='<U19')"
      ]
     },
     "execution_count": 919,
     "metadata": {},
     "output_type": "execute_result"
    }
   ],
   "execution_count": 919
  },
  {
   "cell_type": "code",
   "metadata": {
    "ExecuteTime": {
     "end_time": "2024-08-10T19:54:51.186122Z",
     "start_time": "2024-08-10T19:54:51.182904Z"
    }
   },
   "source": "loan_data_numeric[:,5]",
   "outputs": [
    {
     "data": {
      "text/plain": [
       "array([13.33, 22.89, 22.53, ..., 22.89, 16.55, 22.26])"
      ]
     },
     "execution_count": 920,
     "metadata": {},
     "output_type": "execute_result"
    }
   ],
   "execution_count": 920
  },
  {
   "cell_type": "code",
   "metadata": {
    "ExecuteTime": {
     "end_time": "2024-08-10T19:54:51.352763Z",
     "start_time": "2024-08-10T19:54:51.350587Z"
    }
   },
   "source": "loan_data_numeric[:,5] = loan_data_numeric[:,5]/100",
   "outputs": [],
   "execution_count": 921
  },
  {
   "cell_type": "code",
   "metadata": {
    "ExecuteTime": {
     "end_time": "2024-08-10T19:54:51.415286Z",
     "start_time": "2024-08-10T19:54:51.412935Z"
    }
   },
   "source": "loan_data_numeric[:,5]",
   "outputs": [
    {
     "data": {
      "text/plain": [
       "array([0.13, 0.23, 0.23, ..., 0.23, 0.17, 0.22])"
      ]
     },
     "execution_count": 922,
     "metadata": {},
     "output_type": "execute_result"
    }
   ],
   "execution_count": 922
  },
  {
   "cell_type": "markdown",
   "metadata": {},
   "source": [
    "### Checkpoint 2: Numeric"
   ]
  },
  {
   "cell_type": "code",
   "metadata": {
    "ExecuteTime": {
     "end_time": "2024-08-10T19:54:51.570520Z",
     "start_time": "2024-08-10T19:54:51.565766Z"
    }
   },
   "source": [
    "checkpoint_numeric = checkpoint(\"Checkpoint-Numeric\", header_numeric, loan_data_numeric)"
   ],
   "outputs": [],
   "execution_count": 923
  },
  {
   "cell_type": "code",
   "metadata": {
    "ExecuteTime": {
     "end_time": "2024-08-10T19:54:51.624029Z",
     "start_time": "2024-08-10T19:54:51.619526Z"
    }
   },
   "source": [
    "checkpoint_numeric['header'], checkpoint_numeric['data']"
   ],
   "outputs": [
    {
     "data": {
      "text/plain": [
       "(array(['id', 'loan_amnt_USD', 'loan_amnt_EUR', 'funded_amnt_USD', 'funded_amnt_EUR', 'int_rate',\n",
       "        'installment_USD', 'installment_EUR', 'total_pymnt_USD', 'total_pymnt_EUR', 'exchange_rate'],\n",
       "       dtype='<U19'),\n",
       " array([[48010226.  ,    35000.  ,    31933.3 , ...,     9452.96,     8624.69,        1.1 ],\n",
       "        [57693261.  ,    30000.  ,    27132.46, ...,     4679.7 ,     4232.39,        1.11],\n",
       "        [59432726.  ,    15000.  ,    13326.3 , ...,     1969.83,     1750.04,        1.13],\n",
       "        ...,\n",
       "        [50415990.  ,    10000.  ,     8910.3 , ...,     2185.64,     1947.47,        1.12],\n",
       "        [46154151.  ,    35000.  ,    31490.9 , ...,     3199.4 ,     2878.63,        1.11],\n",
       "        [66055249.  ,    10000.  ,     9145.8 , ...,      301.9 ,      276.11,        1.09]]))"
      ]
     },
     "execution_count": 924,
     "metadata": {},
     "output_type": "execute_result"
    }
   ],
   "execution_count": 924
  },
  {
   "cell_type": "markdown",
   "metadata": {},
   "source": [
    "## Creating the \"Complete\" Dataset"
   ]
  },
  {
   "cell_type": "code",
   "metadata": {
    "ExecuteTime": {
     "end_time": "2024-08-10T19:54:51.785499Z",
     "start_time": "2024-08-10T19:54:51.781490Z"
    }
   },
   "source": [
    "checkpoint_strings['data'].shape"
   ],
   "outputs": [
    {
     "data": {
      "text/plain": [
       "(10000, 6)"
      ]
     },
     "execution_count": 925,
     "metadata": {},
     "output_type": "execute_result"
    }
   ],
   "execution_count": 925
  },
  {
   "cell_type": "code",
   "metadata": {
    "ExecuteTime": {
     "end_time": "2024-08-10T19:54:51.846541Z",
     "start_time": "2024-08-10T19:54:51.842159Z"
    }
   },
   "source": [
    "checkpoint_numeric['data'].shape"
   ],
   "outputs": [
    {
     "data": {
      "text/plain": [
       "(10000, 11)"
      ]
     },
     "execution_count": 926,
     "metadata": {},
     "output_type": "execute_result"
    }
   ],
   "execution_count": 926
  },
  {
   "cell_type": "code",
   "metadata": {
    "ExecuteTime": {
     "end_time": "2024-08-10T19:54:52.020506Z",
     "start_time": "2024-08-10T19:54:52.010745Z"
    }
   },
   "source": [
    "loan_data = np.hstack((checkpoint_numeric['data'], checkpoint_strings['data']))"
   ],
   "outputs": [],
   "execution_count": 927
  },
  {
   "cell_type": "code",
   "metadata": {
    "ExecuteTime": {
     "end_time": "2024-08-10T19:54:52.082273Z",
     "start_time": "2024-08-10T19:54:52.076495Z"
    }
   },
   "source": [
    "loan_data"
   ],
   "outputs": [
    {
     "data": {
      "text/plain": [
       "array([[48010226.  ,    35000.  ,    31933.3 , ...,       13.  ,        1.  ,        1.  ],\n",
       "       [57693261.  ,    30000.  ,    27132.46, ...,        5.  ,        1.  ,        4.  ],\n",
       "       [59432726.  ,    15000.  ,    13326.3 , ...,       10.  ,        1.  ,        4.  ],\n",
       "       ...,\n",
       "       [50415990.  ,    10000.  ,     8910.3 , ...,        5.  ,        1.  ,        1.  ],\n",
       "       [46154151.  ,    35000.  ,    31490.9 , ...,       17.  ,        1.  ,        3.  ],\n",
       "       [66055249.  ,    10000.  ,     9145.8 , ...,        4.  ,        0.  ,        3.  ]])"
      ]
     },
     "execution_count": 928,
     "metadata": {},
     "output_type": "execute_result"
    }
   ],
   "execution_count": 928
  },
  {
   "cell_type": "code",
   "metadata": {
    "scrolled": true,
    "ExecuteTime": {
     "end_time": "2024-08-10T19:54:52.215326Z",
     "start_time": "2024-08-10T19:54:52.212481Z"
    }
   },
   "source": [
    "np.isnan(loan_data).sum()"
   ],
   "outputs": [
    {
     "data": {
      "text/plain": [
       "0"
      ]
     },
     "execution_count": 929,
     "metadata": {},
     "output_type": "execute_result"
    }
   ],
   "execution_count": 929
  },
  {
   "cell_type": "code",
   "metadata": {
    "ExecuteTime": {
     "end_time": "2024-08-10T19:54:52.265571Z",
     "start_time": "2024-08-10T19:54:52.262416Z"
    }
   },
   "source": [
    "header_full = np.concatenate((checkpoint_numeric['header'], checkpoint_strings['header']))"
   ],
   "outputs": [],
   "execution_count": 930
  },
  {
   "cell_type": "markdown",
   "metadata": {},
   "source": [
    "## Sorting the New Dataset"
   ]
  },
  {
   "cell_type": "code",
   "metadata": {
    "ExecuteTime": {
     "end_time": "2024-08-10T19:54:52.427841Z",
     "start_time": "2024-08-10T19:54:52.423759Z"
    }
   },
   "source": "loan_data = loan_data[np.argsort(loan_data[:,0])]",
   "outputs": [],
   "execution_count": 931
  },
  {
   "cell_type": "code",
   "metadata": {
    "ExecuteTime": {
     "end_time": "2024-08-10T19:54:52.503584Z",
     "start_time": "2024-08-10T19:54:52.500882Z"
    }
   },
   "source": [
    "loan_data"
   ],
   "outputs": [
    {
     "data": {
      "text/plain": [
       "array([[  373332.  ,     9950.  ,     9038.08, ...,       21.  ,        0.  ,        1.  ],\n",
       "       [  575239.  ,    12000.  ,    10900.2 , ...,       25.  ,        1.  ,        2.  ],\n",
       "       [  707689.  ,    10000.  ,     8924.3 , ...,       13.  ,        1.  ,        0.  ],\n",
       "       ...,\n",
       "       [68614880.  ,     5600.  ,     5121.65, ...,        8.  ,        1.  ,        1.  ],\n",
       "       [68615915.  ,     4000.  ,     3658.32, ...,       10.  ,        1.  ,        2.  ],\n",
       "       [68616519.  ,    21600.  ,    19754.93, ...,        3.  ,        0.  ,        2.  ]])"
      ]
     },
     "execution_count": 932,
     "metadata": {},
     "output_type": "execute_result"
    }
   ],
   "execution_count": 932
  },
  {
   "cell_type": "code",
   "metadata": {
    "ExecuteTime": {
     "end_time": "2024-08-10T19:54:52.603861Z",
     "start_time": "2024-08-10T19:54:52.600853Z"
    }
   },
   "source": "np.argsort(loan_data[:,0])",
   "outputs": [
    {
     "data": {
      "text/plain": [
       "array([   0,    1,    2, ..., 9997, 9998, 9999])"
      ]
     },
     "execution_count": 933,
     "metadata": {},
     "output_type": "execute_result"
    }
   ],
   "execution_count": 933
  },
  {
   "cell_type": "markdown",
   "metadata": {},
   "source": [
    "## Storing the New Dataset"
   ]
  },
  {
   "cell_type": "code",
   "metadata": {
    "ExecuteTime": {
     "end_time": "2024-08-10T19:54:52.703824Z",
     "start_time": "2024-08-10T19:54:52.659922Z"
    }
   },
   "source": [
    "loan_data = np.vstack((header_full, loan_data))"
   ],
   "outputs": [],
   "execution_count": 934
  },
  {
   "cell_type": "code",
   "metadata": {
    "ExecuteTime": {
     "end_time": "2024-08-10T19:54:52.866690Z",
     "start_time": "2024-08-10T19:54:52.806995Z"
    }
   },
   "source": [
    "np.savetxt(\"loan-data-preprocessed.csv\", \n",
    "           loan_data, \n",
    "           fmt = '%s',\n",
    "           delimiter = ',')"
   ],
   "outputs": [],
   "execution_count": 935
  }
 ],
 "metadata": {
  "kernelspec": {
   "display_name": "Python 3",
   "language": "python",
   "name": "python3"
  },
  "language_info": {
   "codemirror_mode": {
    "name": "ipython",
    "version": 3
   },
   "file_extension": ".py",
   "mimetype": "text/x-python",
   "name": "python",
   "nbconvert_exporter": "python",
   "pygments_lexer": "ipython3",
   "version": "3.7.6"
  }
 },
 "nbformat": 4,
 "nbformat_minor": 2
}
